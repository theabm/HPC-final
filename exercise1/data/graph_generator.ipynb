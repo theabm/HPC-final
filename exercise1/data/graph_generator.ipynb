{
 "cells": [
  {
   "cell_type": "code",
   "execution_count": 1,
   "metadata": {},
   "outputs": [],
   "source": [
    "import pandas as pd \n",
    "import plotly.express as px \n",
    "import plotly as plt\n",
    "import plotly.graph_objects as go"
   ]
  },
  {
   "cell_type": "code",
   "execution_count": 67,
   "metadata": {},
   "outputs": [],
   "source": [
    "# strong OMP\n",
    "## thin\n",
    "strong_OMP_thin_hybrid_static_grid_010k = pd.read_csv(\"./strong_OMP_thin_hybrid_static_grid_010k.csv\")\n",
    "strong_OMP_thin_hybrid_static_grid_020k = pd.read_csv(\"./strong_OMP_thin_hybrid_static_grid_020k.csv\")\n",
    "strong_OMP_thin_hybrid_static_grid_040k = pd.read_csv(\"./strong_OMP_thin_hybrid_static_grid_040k.csv\")\n",
    "\n",
    "## epyc\n",
    "strong_OMP_epyc_hybrid_static_grid_010k_close = pd.read_csv(\"./strong_OMP_epyc_hybrid_static_grid_010k_close_policy.csv\")\n",
    "strong_OMP_epyc_hybrid_static_grid_010k_spread = pd.read_csv(\"./strong_OMP_epyc_hybrid_static_grid_010k_spread_policy.csv\")\n",
    "\n",
    "strong_OMP_epyc_hybrid_static_grid_050k_close = pd.read_csv(\"./strong_OMP_epyc_hybrid_static_grid_050k_close.csv\")\n",
    "strong_OMP_epyc_hybrid_static_grid_050k_spread = pd.read_csv(\"./strong_OMP_epyc_hybrid_static_grid_050k_spread.csv\")\n",
    "\n",
    "# group by blocks of 10 and average\n",
    "## thin\n",
    "strong_OMP_thin_hybrid_static_grid_010k = strong_OMP_thin_hybrid_static_grid_010k.groupby(strong_OMP_thin_hybrid_static_grid_010k.index // 10)\n",
    "strong_OMP_thin_hybrid_static_grid_020k = strong_OMP_thin_hybrid_static_grid_020k.groupby(strong_OMP_thin_hybrid_static_grid_020k.index // 5)\n",
    "strong_OMP_thin_hybrid_static_grid_040k = strong_OMP_thin_hybrid_static_grid_040k.groupby(strong_OMP_thin_hybrid_static_grid_040k.index // 3)\n",
    "\n",
    "strong_OMP_thin_hybrid_static_grid_010k_avg = strong_OMP_thin_hybrid_static_grid_010k.agg({'size':['mean','std'], 'nthreads_per_process':['mean','std'], 'total_nthreads':['mean','std'], 'time':['mean','std']})\n",
    "strong_OMP_thin_hybrid_static_grid_020k_avg = strong_OMP_thin_hybrid_static_grid_020k.agg({'size':['mean','std'], 'nthreads_per_process':['mean','std'], 'total_nthreads':['mean','std'], 'time':['mean','std']})\n",
    "strong_OMP_thin_hybrid_static_grid_040k_avg = strong_OMP_thin_hybrid_static_grid_040k.agg({'size':['mean','std'], 'nthreads_per_process':['mean','std'], 'total_nthreads':['mean','std'], 'time':['mean','std']})\n",
    "\n",
    "## epyc\n",
    "strong_OMP_epyc_hybrid_static_grid_010k_close = strong_OMP_epyc_hybrid_static_grid_010k_close.groupby(strong_OMP_epyc_hybrid_static_grid_010k_close.index // 10)\n",
    "strong_OMP_epyc_hybrid_static_grid_010k_spread = strong_OMP_epyc_hybrid_static_grid_010k_spread.groupby(strong_OMP_epyc_hybrid_static_grid_010k_spread.index // 10)\n",
    "\n",
    "strong_OMP_epyc_hybrid_static_grid_050k_close = strong_OMP_epyc_hybrid_static_grid_050k_close.groupby(strong_OMP_epyc_hybrid_static_grid_050k_close.index // 3)\n",
    "strong_OMP_epyc_hybrid_static_grid_050k_spread = strong_OMP_epyc_hybrid_static_grid_050k_spread.groupby(strong_OMP_epyc_hybrid_static_grid_050k_spread.index // 3)\n",
    "\n",
    "strong_OMP_epyc_hybrid_static_grid_010k_close_avg = strong_OMP_epyc_hybrid_static_grid_010k_close.agg({'size':['mean','std'], 'nthreads_per_process':['mean','std'], 'total_nthreads':['mean','std'], 'time':['mean','std']})\n",
    "strong_OMP_epyc_hybrid_static_grid_010k_spread_avg = strong_OMP_epyc_hybrid_static_grid_010k_spread.agg({'size':['mean','std'], 'nthreads_per_process':['mean','std'], 'total_nthreads':['mean','std'], 'time':['mean','std']})\n",
    "\n",
    "strong_OMP_epyc_hybrid_static_grid_050k_close_avg = strong_OMP_epyc_hybrid_static_grid_050k_close.agg({'size':['mean','std'], 'nthreads_per_process':['mean','std'], 'total_nthreads':['mean','std'], 'time':['mean','std']})\n",
    "strong_OMP_epyc_hybrid_static_grid_050k_spread_avg = strong_OMP_epyc_hybrid_static_grid_050k_spread.agg({'size':['mean','std'], 'nthreads_per_process':['mean','std'], 'total_nthreads':['mean','std'], 'time':['mean','std']})"
   ]
  },
  {
   "cell_type": "code",
   "execution_count": 68,
   "metadata": {},
   "outputs": [],
   "source": [
    "# strong MPI\n",
    "## thin\n",
    "strong_MPI_thin_hybrid_static_grid_050k = pd.read_csv(\"./strong_MPI_thin_hybrid_static_grid_050k.csv\")\n",
    "strong_MPI_thin_hybrid_static_grid_070k = pd.read_csv(\"./strong_MPI_thin_hybrid_static_grid_070k.csv\")\n",
    "strong_MPI_thin_hybrid_static_grid_100k = pd.read_csv(\"./strong_MPI_thin_hybrid_static_grid_100k.csv\")\n",
    "\n",
    "## epyc\n",
    "strong_MPI_epyc_hybrid_static_grid_050k = pd.read_csv(\"./strong_MPI_epyc_hybrid_static_grid_050k.csv\")\n",
    "strong_MPI_epyc_hybrid_static_grid_070k = pd.read_csv(\"./strong_MPI_epyc_hybrid_static_grid_070k.csv\")\n",
    "strong_MPI_epyc_hybrid_static_grid_100k = pd.read_csv(\"./strong_MPI_epyc_hybrid_static_grid_100k.csv\")\n",
    "\n",
    "# group by blocks of 10 and average\n",
    "## thin\n",
    "strong_MPI_thin_hybrid_static_grid_050k = strong_MPI_thin_hybrid_static_grid_050k.groupby(strong_MPI_thin_hybrid_static_grid_050k.index // 5)\n",
    "strong_MPI_thin_hybrid_static_grid_070k = strong_MPI_thin_hybrid_static_grid_070k.groupby(strong_MPI_thin_hybrid_static_grid_070k.index // 5)\n",
    "strong_MPI_thin_hybrid_static_grid_100k = strong_MPI_thin_hybrid_static_grid_100k.groupby(strong_MPI_thin_hybrid_static_grid_100k.index // 5)\n",
    "\n",
    "strong_MPI_thin_hybrid_static_grid_050k_avg = strong_MPI_thin_hybrid_static_grid_050k.agg({'size':['mean','std'], 'nthreads_per_process':['mean','std'], 'total_nthreads':['mean','std'], 'time':['mean','std']})\n",
    "strong_MPI_thin_hybrid_static_grid_070k_avg = strong_MPI_thin_hybrid_static_grid_070k.agg({'size':['mean','std'], 'nthreads_per_process':['mean','std'], 'total_nthreads':['mean','std'], 'time':['mean','std']})\n",
    "strong_MPI_thin_hybrid_static_grid_100k_avg = strong_MPI_thin_hybrid_static_grid_100k.agg({'size':['mean','std'], 'nthreads_per_process':['mean','std'], 'total_nthreads':['mean','std'], 'time':['mean','std']})\n",
    "\n",
    "##epyc\n",
    "strong_MPI_epyc_hybrid_static_grid_050k = strong_MPI_epyc_hybrid_static_grid_050k.groupby(strong_MPI_epyc_hybrid_static_grid_050k.index // 5)\n",
    "strong_MPI_epyc_hybrid_static_grid_070k = strong_MPI_epyc_hybrid_static_grid_070k.groupby(strong_MPI_epyc_hybrid_static_grid_070k.index // 5)\n",
    "strong_MPI_epyc_hybrid_static_grid_100k = strong_MPI_epyc_hybrid_static_grid_100k.groupby(strong_MPI_epyc_hybrid_static_grid_100k.index // 5)\n",
    "\n",
    "strong_MPI_epyc_hybrid_static_grid_050k_avg = strong_MPI_epyc_hybrid_static_grid_050k.agg({'size':['mean','std'], 'nthreads_per_process':['mean','std'], 'total_nthreads':['mean','std'], 'time':['mean','std']})\n",
    "strong_MPI_epyc_hybrid_static_grid_070k_avg = strong_MPI_epyc_hybrid_static_grid_070k.agg({'size':['mean','std'], 'nthreads_per_process':['mean','std'], 'total_nthreads':['mean','std'], 'time':['mean','std']})\n",
    "strong_MPI_epyc_hybrid_static_grid_100k_avg = strong_MPI_epyc_hybrid_static_grid_100k.agg({'size':['mean','std'], 'nthreads_per_process':['mean','std'], 'total_nthreads':['mean','std'], 'time':['mean','std']})"
   ]
  },
  {
   "cell_type": "code",
   "execution_count": 69,
   "metadata": {},
   "outputs": [],
   "source": [
    "\n",
    "# Base measure for strong MPI\n",
    "## thin\n",
    "strong_MPI_thin_hybrid_static_grid_050k_ref = pd.read_csv(\"./thin_hybrid_static_grid_050k_ref.csv\")\n",
    "strong_MPI_thin_hybrid_static_grid_070k_ref = pd.read_csv(\"./thin_hybrid_static_grid_070k_ref.csv\")\n",
    "strong_MPI_thin_hybrid_static_grid_100k_ref = pd.read_csv(\"./thin_hybrid_static_grid_100k_ref.csv\")\n",
    "\n",
    "## epyc\n",
    "strong_MPI_epyc_hybrid_static_grid_050k_ref = pd.read_csv(\"./epyc_hybrid_static_grid_050k_ref.csv\")\n",
    "strong_MPI_epyc_hybrid_static_grid_070k_ref = pd.read_csv(\"./epyc_hybrid_static_grid_070k_ref.csv\")\n",
    "strong_MPI_epyc_hybrid_static_grid_100k_ref = pd.read_csv(\"./epyc_hybrid_static_grid_100k_ref.csv\")\n",
    "\n",
    "# grouping\n",
    "## thin \n",
    "strong_MPI_thin_hybrid_static_grid_050k_ref = strong_MPI_thin_hybrid_static_grid_050k_ref.groupby(strong_MPI_thin_hybrid_static_grid_050k_ref.index // 2)\n",
    "strong_MPI_thin_hybrid_static_grid_070k_ref = strong_MPI_thin_hybrid_static_grid_070k_ref.groupby(strong_MPI_thin_hybrid_static_grid_070k_ref.index // 2)\n",
    "strong_MPI_thin_hybrid_static_grid_100k_ref = strong_MPI_thin_hybrid_static_grid_100k_ref.groupby(strong_MPI_thin_hybrid_static_grid_100k_ref.index // 2)\n",
    "\n",
    "strong_MPI_thin_hybrid_static_grid_050k_ref_avg = strong_MPI_thin_hybrid_static_grid_050k_ref.agg({'size':['mean','std'], 'nthreads_per_process':['mean','std'], 'total_nthreads':['mean','std'], 'time':['mean','std']})\n",
    "strong_MPI_thin_hybrid_static_grid_070k_ref_avg = strong_MPI_thin_hybrid_static_grid_070k_ref.agg({'size':['mean','std'], 'nthreads_per_process':['mean','std'], 'total_nthreads':['mean','std'], 'time':['mean','std']})\n",
    "strong_MPI_thin_hybrid_static_grid_100k_ref_avg = strong_MPI_thin_hybrid_static_grid_100k_ref.agg({'size':['mean','std'], 'nthreads_per_process':['mean','std'], 'total_nthreads':['mean','std'], 'time':['mean','std']})\n",
    "\n",
    "## epyc\n",
    "strong_MPI_epyc_hybrid_static_grid_050k_ref_avg = strong_MPI_epyc_hybrid_static_grid_050k_ref.groupby(strong_MPI_epyc_hybrid_static_grid_050k_ref.index // 2)\n",
    "strong_MPI_epyc_hybrid_static_grid_070k_ref_avg = strong_MPI_epyc_hybrid_static_grid_070k_ref.groupby(strong_MPI_epyc_hybrid_static_grid_070k_ref.index // 2)\n",
    "\n",
    "strong_MPI_epyc_hybrid_static_grid_050k_ref_avg = strong_MPI_epyc_hybrid_static_grid_050k_ref.agg({'size':['mean','std'], 'nthreads_per_process':['mean','std'], 'total_nthreads':['mean','std'], 'time':['mean','std']})\n",
    "strong_MPI_epyc_hybrid_static_grid_070k_ref_avg = strong_MPI_epyc_hybrid_static_grid_070k_ref.agg({'size':['mean','std'], 'nthreads_per_process':['mean','std'], 'total_nthreads':['mean','std'], 'time':['mean','std']})\n",
    "\n",
    "strong_MPI_epyc_hybrid_static_grid_050k_ref_avg = strong_MPI_epyc_hybrid_static_grid_050k_ref_avg[\"time\"][\"mean\"]\n",
    "strong_MPI_epyc_hybrid_static_grid_070k_ref_avg = strong_MPI_epyc_hybrid_static_grid_070k_ref_avg[\"time\"][\"mean\"]\n",
    "strong_MPI_epyc_hybrid_static_grid_100k_ref_avg = strong_MPI_epyc_hybrid_static_grid_100k_ref[\"time\"][0]"
   ]
  },
  {
   "cell_type": "code",
   "execution_count": 70,
   "metadata": {},
   "outputs": [
    {
     "data": {
      "text/html": [
       "<div>\n",
       "<style scoped>\n",
       "    .dataframe tbody tr th:only-of-type {\n",
       "        vertical-align: middle;\n",
       "    }\n",
       "\n",
       "    .dataframe tbody tr th {\n",
       "        vertical-align: top;\n",
       "    }\n",
       "\n",
       "    .dataframe thead tr th {\n",
       "        text-align: left;\n",
       "    }\n",
       "</style>\n",
       "<table border=\"1\" class=\"dataframe\">\n",
       "  <thead>\n",
       "    <tr>\n",
       "      <th></th>\n",
       "      <th colspan=\"2\" halign=\"left\">size</th>\n",
       "      <th colspan=\"2\" halign=\"left\">nthreads_per_process</th>\n",
       "      <th colspan=\"2\" halign=\"left\">total_nthreads</th>\n",
       "      <th colspan=\"2\" halign=\"left\">time</th>\n",
       "    </tr>\n",
       "    <tr>\n",
       "      <th></th>\n",
       "      <th>mean</th>\n",
       "      <th>std</th>\n",
       "      <th>mean</th>\n",
       "      <th>std</th>\n",
       "      <th>mean</th>\n",
       "      <th>std</th>\n",
       "      <th>mean</th>\n",
       "      <th>std</th>\n",
       "    </tr>\n",
       "  </thead>\n",
       "  <tbody>\n",
       "    <tr>\n",
       "      <th>0</th>\n",
       "      <td>1.0</td>\n",
       "      <td>0.0</td>\n",
       "      <td>1.0</td>\n",
       "      <td>0.0</td>\n",
       "      <td>1.0</td>\n",
       "      <td>0.0</td>\n",
       "      <td>4061.411099</td>\n",
       "      <td>31.42756</td>\n",
       "    </tr>\n",
       "  </tbody>\n",
       "</table>\n",
       "</div>"
      ],
      "text/plain": [
       "  size      nthreads_per_process      total_nthreads              time   \n",
       "  mean  std                 mean  std           mean  std         mean   \n",
       "0  1.0  0.0                  1.0  0.0            1.0  0.0  4061.411099  \\\n",
       "\n",
       "             \n",
       "        std  \n",
       "0  31.42756  "
      ]
     },
     "execution_count": 70,
     "metadata": {},
     "output_type": "execute_result"
    }
   ],
   "source": [
    "strong_MPI_thin_hybrid_static_grid_100k_ref_avg"
   ]
  },
  {
   "cell_type": "markdown",
   "metadata": {},
   "source": [
    "# STRONG OMP"
   ]
  },
  {
   "cell_type": "markdown",
   "metadata": {},
   "source": [
    "## THIN"
   ]
  },
  {
   "cell_type": "code",
   "execution_count": 71,
   "metadata": {},
   "outputs": [
    {
     "data": {
      "application/vnd.plotly.v1+json": {
       "config": {
        "plotlyServerURL": "https://plot.ly"
       },
       "data": [
        {
         "error_y": {
          "array": [
           0.02498870215917701,
           0.01644702679817865,
           0.010443174603006696,
           0.007418368955205529,
           0.0032341887545412644,
           0.0038087378836914663,
           0.030350927276517357
          ],
          "type": "data",
          "visible": true
         },
         "name": "hybrid v1 10k",
         "type": "scatter",
         "x": [
          1,
          2,
          4,
          6,
          8,
          10,
          12
         ],
         "y": [
          123.3604794,
          61.6698535,
          30.8876383,
          20.6049428,
          15.477547300000001,
          12.3992074,
          10.377840899999999
         ]
        },
        {
         "error_y": {
          "array": [
           0.13601228486300695,
           0.10186624275026325,
           0.01865826643757538,
           0.020033012305802605,
           0.01709202303740285,
           0.013002601606772617,
           0.038423290784511364
          ],
          "type": "data",
          "visible": true
         },
         "name": "hybrid v2 10k",
         "type": "scatter",
         "x": [
          1,
          2,
          4,
          6,
          8,
          10,
          12
         ],
         "y": [
          36.8760289,
          18.5302175,
          9.2922787,
          6.2339526,
          4.6913598,
          3.7808659,
          3.1838074
         ]
        }
       ],
       "layout": {
        "colorway": [
         "#1b9e77",
         "#fcae91",
         "#7570b3"
        ],
        "font": {
         "family": "Courier New, monospace",
         "size": 18
        },
        "legend": {
         "title": {
          "text": "Version"
         }
        },
        "template": {
         "data": {
          "bar": [
           {
            "error_x": {
             "color": "#2a3f5f"
            },
            "error_y": {
             "color": "#2a3f5f"
            },
            "marker": {
             "line": {
              "color": "#E5ECF6",
              "width": 0.5
             },
             "pattern": {
              "fillmode": "overlay",
              "size": 10,
              "solidity": 0.2
             }
            },
            "type": "bar"
           }
          ],
          "barpolar": [
           {
            "marker": {
             "line": {
              "color": "#E5ECF6",
              "width": 0.5
             },
             "pattern": {
              "fillmode": "overlay",
              "size": 10,
              "solidity": 0.2
             }
            },
            "type": "barpolar"
           }
          ],
          "carpet": [
           {
            "aaxis": {
             "endlinecolor": "#2a3f5f",
             "gridcolor": "white",
             "linecolor": "white",
             "minorgridcolor": "white",
             "startlinecolor": "#2a3f5f"
            },
            "baxis": {
             "endlinecolor": "#2a3f5f",
             "gridcolor": "white",
             "linecolor": "white",
             "minorgridcolor": "white",
             "startlinecolor": "#2a3f5f"
            },
            "type": "carpet"
           }
          ],
          "choropleth": [
           {
            "colorbar": {
             "outlinewidth": 0,
             "ticks": ""
            },
            "type": "choropleth"
           }
          ],
          "contour": [
           {
            "colorbar": {
             "outlinewidth": 0,
             "ticks": ""
            },
            "colorscale": [
             [
              0,
              "#0d0887"
             ],
             [
              0.1111111111111111,
              "#46039f"
             ],
             [
              0.2222222222222222,
              "#7201a8"
             ],
             [
              0.3333333333333333,
              "#9c179e"
             ],
             [
              0.4444444444444444,
              "#bd3786"
             ],
             [
              0.5555555555555556,
              "#d8576b"
             ],
             [
              0.6666666666666666,
              "#ed7953"
             ],
             [
              0.7777777777777778,
              "#fb9f3a"
             ],
             [
              0.8888888888888888,
              "#fdca26"
             ],
             [
              1,
              "#f0f921"
             ]
            ],
            "type": "contour"
           }
          ],
          "contourcarpet": [
           {
            "colorbar": {
             "outlinewidth": 0,
             "ticks": ""
            },
            "type": "contourcarpet"
           }
          ],
          "heatmap": [
           {
            "colorbar": {
             "outlinewidth": 0,
             "ticks": ""
            },
            "colorscale": [
             [
              0,
              "#0d0887"
             ],
             [
              0.1111111111111111,
              "#46039f"
             ],
             [
              0.2222222222222222,
              "#7201a8"
             ],
             [
              0.3333333333333333,
              "#9c179e"
             ],
             [
              0.4444444444444444,
              "#bd3786"
             ],
             [
              0.5555555555555556,
              "#d8576b"
             ],
             [
              0.6666666666666666,
              "#ed7953"
             ],
             [
              0.7777777777777778,
              "#fb9f3a"
             ],
             [
              0.8888888888888888,
              "#fdca26"
             ],
             [
              1,
              "#f0f921"
             ]
            ],
            "type": "heatmap"
           }
          ],
          "heatmapgl": [
           {
            "colorbar": {
             "outlinewidth": 0,
             "ticks": ""
            },
            "colorscale": [
             [
              0,
              "#0d0887"
             ],
             [
              0.1111111111111111,
              "#46039f"
             ],
             [
              0.2222222222222222,
              "#7201a8"
             ],
             [
              0.3333333333333333,
              "#9c179e"
             ],
             [
              0.4444444444444444,
              "#bd3786"
             ],
             [
              0.5555555555555556,
              "#d8576b"
             ],
             [
              0.6666666666666666,
              "#ed7953"
             ],
             [
              0.7777777777777778,
              "#fb9f3a"
             ],
             [
              0.8888888888888888,
              "#fdca26"
             ],
             [
              1,
              "#f0f921"
             ]
            ],
            "type": "heatmapgl"
           }
          ],
          "histogram": [
           {
            "marker": {
             "pattern": {
              "fillmode": "overlay",
              "size": 10,
              "solidity": 0.2
             }
            },
            "type": "histogram"
           }
          ],
          "histogram2d": [
           {
            "colorbar": {
             "outlinewidth": 0,
             "ticks": ""
            },
            "colorscale": [
             [
              0,
              "#0d0887"
             ],
             [
              0.1111111111111111,
              "#46039f"
             ],
             [
              0.2222222222222222,
              "#7201a8"
             ],
             [
              0.3333333333333333,
              "#9c179e"
             ],
             [
              0.4444444444444444,
              "#bd3786"
             ],
             [
              0.5555555555555556,
              "#d8576b"
             ],
             [
              0.6666666666666666,
              "#ed7953"
             ],
             [
              0.7777777777777778,
              "#fb9f3a"
             ],
             [
              0.8888888888888888,
              "#fdca26"
             ],
             [
              1,
              "#f0f921"
             ]
            ],
            "type": "histogram2d"
           }
          ],
          "histogram2dcontour": [
           {
            "colorbar": {
             "outlinewidth": 0,
             "ticks": ""
            },
            "colorscale": [
             [
              0,
              "#0d0887"
             ],
             [
              0.1111111111111111,
              "#46039f"
             ],
             [
              0.2222222222222222,
              "#7201a8"
             ],
             [
              0.3333333333333333,
              "#9c179e"
             ],
             [
              0.4444444444444444,
              "#bd3786"
             ],
             [
              0.5555555555555556,
              "#d8576b"
             ],
             [
              0.6666666666666666,
              "#ed7953"
             ],
             [
              0.7777777777777778,
              "#fb9f3a"
             ],
             [
              0.8888888888888888,
              "#fdca26"
             ],
             [
              1,
              "#f0f921"
             ]
            ],
            "type": "histogram2dcontour"
           }
          ],
          "mesh3d": [
           {
            "colorbar": {
             "outlinewidth": 0,
             "ticks": ""
            },
            "type": "mesh3d"
           }
          ],
          "parcoords": [
           {
            "line": {
             "colorbar": {
              "outlinewidth": 0,
              "ticks": ""
             }
            },
            "type": "parcoords"
           }
          ],
          "pie": [
           {
            "automargin": true,
            "type": "pie"
           }
          ],
          "scatter": [
           {
            "fillpattern": {
             "fillmode": "overlay",
             "size": 10,
             "solidity": 0.2
            },
            "type": "scatter"
           }
          ],
          "scatter3d": [
           {
            "line": {
             "colorbar": {
              "outlinewidth": 0,
              "ticks": ""
             }
            },
            "marker": {
             "colorbar": {
              "outlinewidth": 0,
              "ticks": ""
             }
            },
            "type": "scatter3d"
           }
          ],
          "scattercarpet": [
           {
            "marker": {
             "colorbar": {
              "outlinewidth": 0,
              "ticks": ""
             }
            },
            "type": "scattercarpet"
           }
          ],
          "scattergeo": [
           {
            "marker": {
             "colorbar": {
              "outlinewidth": 0,
              "ticks": ""
             }
            },
            "type": "scattergeo"
           }
          ],
          "scattergl": [
           {
            "marker": {
             "colorbar": {
              "outlinewidth": 0,
              "ticks": ""
             }
            },
            "type": "scattergl"
           }
          ],
          "scattermapbox": [
           {
            "marker": {
             "colorbar": {
              "outlinewidth": 0,
              "ticks": ""
             }
            },
            "type": "scattermapbox"
           }
          ],
          "scatterpolar": [
           {
            "marker": {
             "colorbar": {
              "outlinewidth": 0,
              "ticks": ""
             }
            },
            "type": "scatterpolar"
           }
          ],
          "scatterpolargl": [
           {
            "marker": {
             "colorbar": {
              "outlinewidth": 0,
              "ticks": ""
             }
            },
            "type": "scatterpolargl"
           }
          ],
          "scatterternary": [
           {
            "marker": {
             "colorbar": {
              "outlinewidth": 0,
              "ticks": ""
             }
            },
            "type": "scatterternary"
           }
          ],
          "surface": [
           {
            "colorbar": {
             "outlinewidth": 0,
             "ticks": ""
            },
            "colorscale": [
             [
              0,
              "#0d0887"
             ],
             [
              0.1111111111111111,
              "#46039f"
             ],
             [
              0.2222222222222222,
              "#7201a8"
             ],
             [
              0.3333333333333333,
              "#9c179e"
             ],
             [
              0.4444444444444444,
              "#bd3786"
             ],
             [
              0.5555555555555556,
              "#d8576b"
             ],
             [
              0.6666666666666666,
              "#ed7953"
             ],
             [
              0.7777777777777778,
              "#fb9f3a"
             ],
             [
              0.8888888888888888,
              "#fdca26"
             ],
             [
              1,
              "#f0f921"
             ]
            ],
            "type": "surface"
           }
          ],
          "table": [
           {
            "cells": {
             "fill": {
              "color": "#EBF0F8"
             },
             "line": {
              "color": "white"
             }
            },
            "header": {
             "fill": {
              "color": "#C8D4E3"
             },
             "line": {
              "color": "white"
             }
            },
            "type": "table"
           }
          ]
         },
         "layout": {
          "annotationdefaults": {
           "arrowcolor": "#2a3f5f",
           "arrowhead": 0,
           "arrowwidth": 1
          },
          "autotypenumbers": "strict",
          "coloraxis": {
           "colorbar": {
            "outlinewidth": 0,
            "ticks": ""
           }
          },
          "colorscale": {
           "diverging": [
            [
             0,
             "#8e0152"
            ],
            [
             0.1,
             "#c51b7d"
            ],
            [
             0.2,
             "#de77ae"
            ],
            [
             0.3,
             "#f1b6da"
            ],
            [
             0.4,
             "#fde0ef"
            ],
            [
             0.5,
             "#f7f7f7"
            ],
            [
             0.6,
             "#e6f5d0"
            ],
            [
             0.7,
             "#b8e186"
            ],
            [
             0.8,
             "#7fbc41"
            ],
            [
             0.9,
             "#4d9221"
            ],
            [
             1,
             "#276419"
            ]
           ],
           "sequential": [
            [
             0,
             "#0d0887"
            ],
            [
             0.1111111111111111,
             "#46039f"
            ],
            [
             0.2222222222222222,
             "#7201a8"
            ],
            [
             0.3333333333333333,
             "#9c179e"
            ],
            [
             0.4444444444444444,
             "#bd3786"
            ],
            [
             0.5555555555555556,
             "#d8576b"
            ],
            [
             0.6666666666666666,
             "#ed7953"
            ],
            [
             0.7777777777777778,
             "#fb9f3a"
            ],
            [
             0.8888888888888888,
             "#fdca26"
            ],
            [
             1,
             "#f0f921"
            ]
           ],
           "sequentialminus": [
            [
             0,
             "#0d0887"
            ],
            [
             0.1111111111111111,
             "#46039f"
            ],
            [
             0.2222222222222222,
             "#7201a8"
            ],
            [
             0.3333333333333333,
             "#9c179e"
            ],
            [
             0.4444444444444444,
             "#bd3786"
            ],
            [
             0.5555555555555556,
             "#d8576b"
            ],
            [
             0.6666666666666666,
             "#ed7953"
            ],
            [
             0.7777777777777778,
             "#fb9f3a"
            ],
            [
             0.8888888888888888,
             "#fdca26"
            ],
            [
             1,
             "#f0f921"
            ]
           ]
          },
          "colorway": [
           "#636efa",
           "#EF553B",
           "#00cc96",
           "#ab63fa",
           "#FFA15A",
           "#19d3f3",
           "#FF6692",
           "#B6E880",
           "#FF97FF",
           "#FECB52"
          ],
          "font": {
           "color": "#2a3f5f"
          },
          "geo": {
           "bgcolor": "white",
           "lakecolor": "white",
           "landcolor": "#E5ECF6",
           "showlakes": true,
           "showland": true,
           "subunitcolor": "white"
          },
          "hoverlabel": {
           "align": "left"
          },
          "hovermode": "closest",
          "mapbox": {
           "style": "light"
          },
          "paper_bgcolor": "white",
          "plot_bgcolor": "#E5ECF6",
          "polar": {
           "angularaxis": {
            "gridcolor": "white",
            "linecolor": "white",
            "ticks": ""
           },
           "bgcolor": "#E5ECF6",
           "radialaxis": {
            "gridcolor": "white",
            "linecolor": "white",
            "ticks": ""
           }
          },
          "scene": {
           "xaxis": {
            "backgroundcolor": "#E5ECF6",
            "gridcolor": "white",
            "gridwidth": 2,
            "linecolor": "white",
            "showbackground": true,
            "ticks": "",
            "zerolinecolor": "white"
           },
           "yaxis": {
            "backgroundcolor": "#E5ECF6",
            "gridcolor": "white",
            "gridwidth": 2,
            "linecolor": "white",
            "showbackground": true,
            "ticks": "",
            "zerolinecolor": "white"
           },
           "zaxis": {
            "backgroundcolor": "#E5ECF6",
            "gridcolor": "white",
            "gridwidth": 2,
            "linecolor": "white",
            "showbackground": true,
            "ticks": "",
            "zerolinecolor": "white"
           }
          },
          "shapedefaults": {
           "line": {
            "color": "#2a3f5f"
           }
          },
          "ternary": {
           "aaxis": {
            "gridcolor": "white",
            "linecolor": "white",
            "ticks": ""
           },
           "baxis": {
            "gridcolor": "white",
            "linecolor": "white",
            "ticks": ""
           },
           "bgcolor": "#E5ECF6",
           "caxis": {
            "gridcolor": "white",
            "linecolor": "white",
            "ticks": ""
           }
          },
          "title": {
           "x": 0.05
          },
          "xaxis": {
           "automargin": true,
           "gridcolor": "white",
           "linecolor": "white",
           "ticks": "",
           "title": {
            "standoff": 15
           },
           "zerolinecolor": "white",
           "zerolinewidth": 2
          },
          "yaxis": {
           "automargin": true,
           "gridcolor": "white",
           "linecolor": "white",
           "ticks": "",
           "title": {
            "standoff": 15
           },
           "zerolinecolor": "white",
           "zerolinewidth": 2
          }
         }
        },
        "title": {
         "text": "Time vs threads per process<br><sup>THIN node - matrix size: 10k - OMP places: cores, OMP policy: close</sup>",
         "x": 0,
         "xref": "paper"
        },
        "xaxis": {
         "dtick": "1",
         "tick0": "1",
         "tickmode": "linear",
         "title": {
          "text": "threads per MPI process<br><sup>1 MPI process per socket (2 sockets)</sup>"
         }
        },
        "yaxis": {
         "title": {
          "text": "time(s)"
         }
        }
       }
      }
     },
     "metadata": {},
     "output_type": "display_data"
    }
   ],
   "source": [
    "fig = go.Figure()\n",
    "\n",
    "fig.add_trace(go.Scatter(x=strong_OMP_thin_hybrid_static_grid_010k_avg[\"nthreads_per_process\"][\"mean\"][:7], y=strong_OMP_thin_hybrid_static_grid_010k_avg[\"time\"][\"mean\"][:7], name='hybrid v1 10k',\n",
    "                         error_y=dict(\n",
    "                             type=\"data\",\n",
    "                             array=strong_OMP_thin_hybrid_static_grid_010k_avg[\"time\"][\"std\"][:7],\n",
    "                             visible=True)))\n",
    "fig.add_trace(go.Scatter(x=strong_OMP_thin_hybrid_static_grid_010k_avg[\"nthreads_per_process\"][\"mean\"][7:], y=strong_OMP_thin_hybrid_static_grid_010k_avg[\"time\"][\"mean\"][7:], name='hybrid v2 10k',\n",
    "                         error_y=dict(\n",
    "                             type=\"data\",\n",
    "                             array=strong_OMP_thin_hybrid_static_grid_010k_avg[\"time\"][\"std\"][7:],\n",
    "                             visible=True)))\n",
    "fig.update_layout(\n",
    "    title=go.layout.Title(\n",
    "        text=\"Time vs threads per process<br><sup>THIN node - matrix size: 10k - OMP places: cores, OMP policy: close</sup>\",\n",
    "        xref=\"paper\",\n",
    "        x=0,\n",
    "    ),\n",
    "    xaxis_title=\"threads per MPI process<br><sup>1 MPI process per socket (2 sockets)</sup>\",\n",
    "    xaxis = dict(\n",
    "        tickmode = 'linear',\n",
    "        tick0 = '1',\n",
    "        dtick = '1'\n",
    "    ),\n",
    "    yaxis_title=\"time(s)\",\n",
    "    legend_title=\"Version\",\n",
    "    font=dict(\n",
    "        family=\"Courier New, monospace\",\n",
    "        size=18,\n",
    "    ),\n",
    "    colorway=[\"#1b9e77\",\"#fcae91\",\"#7570b3\"],\n",
    ")\n",
    "fig.show()\n",
    "fig.write_image(\"/home/andres/hpc/Foundations_of_HPC_2022/Assignment/my_assignment/report/images/strong_OMP_thin_hybrid_grid_010k.pdf\", height=500, width=1000)"
   ]
  },
  {
   "cell_type": "code",
   "execution_count": 72,
   "metadata": {},
   "outputs": [
    {
     "data": {
      "application/vnd.plotly.v1+json": {
       "config": {
        "plotlyServerURL": "https://plot.ly"
       },
       "data": [
        {
         "error_y": {
          "array": [
           0.00006055301199719524,
           0.00015947246719265877,
           0.0004036521591600882,
           0.0006443320725161818,
           0.0004978577012967355,
           0.0009135606470096633,
           0.010392070732764989
          ],
          "type": "data",
          "visible": true
         },
         "name": "hybrid v1 10k",
         "type": "scatter",
         "x": [
          1,
          2,
          4,
          6,
          8,
          10,
          12
         ],
         "y": [
          0.2989290336691088,
          0.5979587562989751,
          1.1938766098539817,
          1.7896690739660777,
          2.382549908279072,
          2.974063398600785,
          3.5533430561649877
         ]
        },
        {
         "error_y": {
          "array": [
           0.0036883658278889938,
           0.01093990122187705,
           0.007968397365042554,
           0.019009181304766965,
           0.028637831668673945,
           0.03354222398843178,
           0.13978002974013612
          ],
          "type": "data",
          "visible": true
         },
         "name": "hybrid v2 10k",
         "type": "scatter",
         "x": [
          1,
          2,
          4,
          6,
          8,
          10,
          12
         ],
         "y": [
          1,
          1.990048357500391,
          3.9684592004327204,
          5.915352789175843,
          7.8604137120329165,
          9.753328966256117,
          11.582367984947833
         ]
        },
        {
         "name": "expected speedup",
         "type": "scatter",
         "x": [
          1,
          2,
          4,
          6,
          8,
          10,
          12
         ],
         "y": [
          1,
          2,
          4,
          6,
          8,
          10,
          12
         ]
        }
       ],
       "layout": {
        "autosize": false,
        "colorway": [
         "#1b9e77",
         "#fcae91",
         "#7570b3"
        ],
        "font": {
         "family": "Courier New, monospace",
         "size": 18
        },
        "height": 800,
        "legend": {
         "title": {
          "text": "Version"
         }
        },
        "template": {
         "data": {
          "bar": [
           {
            "error_x": {
             "color": "#2a3f5f"
            },
            "error_y": {
             "color": "#2a3f5f"
            },
            "marker": {
             "line": {
              "color": "#E5ECF6",
              "width": 0.5
             },
             "pattern": {
              "fillmode": "overlay",
              "size": 10,
              "solidity": 0.2
             }
            },
            "type": "bar"
           }
          ],
          "barpolar": [
           {
            "marker": {
             "line": {
              "color": "#E5ECF6",
              "width": 0.5
             },
             "pattern": {
              "fillmode": "overlay",
              "size": 10,
              "solidity": 0.2
             }
            },
            "type": "barpolar"
           }
          ],
          "carpet": [
           {
            "aaxis": {
             "endlinecolor": "#2a3f5f",
             "gridcolor": "white",
             "linecolor": "white",
             "minorgridcolor": "white",
             "startlinecolor": "#2a3f5f"
            },
            "baxis": {
             "endlinecolor": "#2a3f5f",
             "gridcolor": "white",
             "linecolor": "white",
             "minorgridcolor": "white",
             "startlinecolor": "#2a3f5f"
            },
            "type": "carpet"
           }
          ],
          "choropleth": [
           {
            "colorbar": {
             "outlinewidth": 0,
             "ticks": ""
            },
            "type": "choropleth"
           }
          ],
          "contour": [
           {
            "colorbar": {
             "outlinewidth": 0,
             "ticks": ""
            },
            "colorscale": [
             [
              0,
              "#0d0887"
             ],
             [
              0.1111111111111111,
              "#46039f"
             ],
             [
              0.2222222222222222,
              "#7201a8"
             ],
             [
              0.3333333333333333,
              "#9c179e"
             ],
             [
              0.4444444444444444,
              "#bd3786"
             ],
             [
              0.5555555555555556,
              "#d8576b"
             ],
             [
              0.6666666666666666,
              "#ed7953"
             ],
             [
              0.7777777777777778,
              "#fb9f3a"
             ],
             [
              0.8888888888888888,
              "#fdca26"
             ],
             [
              1,
              "#f0f921"
             ]
            ],
            "type": "contour"
           }
          ],
          "contourcarpet": [
           {
            "colorbar": {
             "outlinewidth": 0,
             "ticks": ""
            },
            "type": "contourcarpet"
           }
          ],
          "heatmap": [
           {
            "colorbar": {
             "outlinewidth": 0,
             "ticks": ""
            },
            "colorscale": [
             [
              0,
              "#0d0887"
             ],
             [
              0.1111111111111111,
              "#46039f"
             ],
             [
              0.2222222222222222,
              "#7201a8"
             ],
             [
              0.3333333333333333,
              "#9c179e"
             ],
             [
              0.4444444444444444,
              "#bd3786"
             ],
             [
              0.5555555555555556,
              "#d8576b"
             ],
             [
              0.6666666666666666,
              "#ed7953"
             ],
             [
              0.7777777777777778,
              "#fb9f3a"
             ],
             [
              0.8888888888888888,
              "#fdca26"
             ],
             [
              1,
              "#f0f921"
             ]
            ],
            "type": "heatmap"
           }
          ],
          "heatmapgl": [
           {
            "colorbar": {
             "outlinewidth": 0,
             "ticks": ""
            },
            "colorscale": [
             [
              0,
              "#0d0887"
             ],
             [
              0.1111111111111111,
              "#46039f"
             ],
             [
              0.2222222222222222,
              "#7201a8"
             ],
             [
              0.3333333333333333,
              "#9c179e"
             ],
             [
              0.4444444444444444,
              "#bd3786"
             ],
             [
              0.5555555555555556,
              "#d8576b"
             ],
             [
              0.6666666666666666,
              "#ed7953"
             ],
             [
              0.7777777777777778,
              "#fb9f3a"
             ],
             [
              0.8888888888888888,
              "#fdca26"
             ],
             [
              1,
              "#f0f921"
             ]
            ],
            "type": "heatmapgl"
           }
          ],
          "histogram": [
           {
            "marker": {
             "pattern": {
              "fillmode": "overlay",
              "size": 10,
              "solidity": 0.2
             }
            },
            "type": "histogram"
           }
          ],
          "histogram2d": [
           {
            "colorbar": {
             "outlinewidth": 0,
             "ticks": ""
            },
            "colorscale": [
             [
              0,
              "#0d0887"
             ],
             [
              0.1111111111111111,
              "#46039f"
             ],
             [
              0.2222222222222222,
              "#7201a8"
             ],
             [
              0.3333333333333333,
              "#9c179e"
             ],
             [
              0.4444444444444444,
              "#bd3786"
             ],
             [
              0.5555555555555556,
              "#d8576b"
             ],
             [
              0.6666666666666666,
              "#ed7953"
             ],
             [
              0.7777777777777778,
              "#fb9f3a"
             ],
             [
              0.8888888888888888,
              "#fdca26"
             ],
             [
              1,
              "#f0f921"
             ]
            ],
            "type": "histogram2d"
           }
          ],
          "histogram2dcontour": [
           {
            "colorbar": {
             "outlinewidth": 0,
             "ticks": ""
            },
            "colorscale": [
             [
              0,
              "#0d0887"
             ],
             [
              0.1111111111111111,
              "#46039f"
             ],
             [
              0.2222222222222222,
              "#7201a8"
             ],
             [
              0.3333333333333333,
              "#9c179e"
             ],
             [
              0.4444444444444444,
              "#bd3786"
             ],
             [
              0.5555555555555556,
              "#d8576b"
             ],
             [
              0.6666666666666666,
              "#ed7953"
             ],
             [
              0.7777777777777778,
              "#fb9f3a"
             ],
             [
              0.8888888888888888,
              "#fdca26"
             ],
             [
              1,
              "#f0f921"
             ]
            ],
            "type": "histogram2dcontour"
           }
          ],
          "mesh3d": [
           {
            "colorbar": {
             "outlinewidth": 0,
             "ticks": ""
            },
            "type": "mesh3d"
           }
          ],
          "parcoords": [
           {
            "line": {
             "colorbar": {
              "outlinewidth": 0,
              "ticks": ""
             }
            },
            "type": "parcoords"
           }
          ],
          "pie": [
           {
            "automargin": true,
            "type": "pie"
           }
          ],
          "scatter": [
           {
            "fillpattern": {
             "fillmode": "overlay",
             "size": 10,
             "solidity": 0.2
            },
            "type": "scatter"
           }
          ],
          "scatter3d": [
           {
            "line": {
             "colorbar": {
              "outlinewidth": 0,
              "ticks": ""
             }
            },
            "marker": {
             "colorbar": {
              "outlinewidth": 0,
              "ticks": ""
             }
            },
            "type": "scatter3d"
           }
          ],
          "scattercarpet": [
           {
            "marker": {
             "colorbar": {
              "outlinewidth": 0,
              "ticks": ""
             }
            },
            "type": "scattercarpet"
           }
          ],
          "scattergeo": [
           {
            "marker": {
             "colorbar": {
              "outlinewidth": 0,
              "ticks": ""
             }
            },
            "type": "scattergeo"
           }
          ],
          "scattergl": [
           {
            "marker": {
             "colorbar": {
              "outlinewidth": 0,
              "ticks": ""
             }
            },
            "type": "scattergl"
           }
          ],
          "scattermapbox": [
           {
            "marker": {
             "colorbar": {
              "outlinewidth": 0,
              "ticks": ""
             }
            },
            "type": "scattermapbox"
           }
          ],
          "scatterpolar": [
           {
            "marker": {
             "colorbar": {
              "outlinewidth": 0,
              "ticks": ""
             }
            },
            "type": "scatterpolar"
           }
          ],
          "scatterpolargl": [
           {
            "marker": {
             "colorbar": {
              "outlinewidth": 0,
              "ticks": ""
             }
            },
            "type": "scatterpolargl"
           }
          ],
          "scatterternary": [
           {
            "marker": {
             "colorbar": {
              "outlinewidth": 0,
              "ticks": ""
             }
            },
            "type": "scatterternary"
           }
          ],
          "surface": [
           {
            "colorbar": {
             "outlinewidth": 0,
             "ticks": ""
            },
            "colorscale": [
             [
              0,
              "#0d0887"
             ],
             [
              0.1111111111111111,
              "#46039f"
             ],
             [
              0.2222222222222222,
              "#7201a8"
             ],
             [
              0.3333333333333333,
              "#9c179e"
             ],
             [
              0.4444444444444444,
              "#bd3786"
             ],
             [
              0.5555555555555556,
              "#d8576b"
             ],
             [
              0.6666666666666666,
              "#ed7953"
             ],
             [
              0.7777777777777778,
              "#fb9f3a"
             ],
             [
              0.8888888888888888,
              "#fdca26"
             ],
             [
              1,
              "#f0f921"
             ]
            ],
            "type": "surface"
           }
          ],
          "table": [
           {
            "cells": {
             "fill": {
              "color": "#EBF0F8"
             },
             "line": {
              "color": "white"
             }
            },
            "header": {
             "fill": {
              "color": "#C8D4E3"
             },
             "line": {
              "color": "white"
             }
            },
            "type": "table"
           }
          ]
         },
         "layout": {
          "annotationdefaults": {
           "arrowcolor": "#2a3f5f",
           "arrowhead": 0,
           "arrowwidth": 1
          },
          "autotypenumbers": "strict",
          "coloraxis": {
           "colorbar": {
            "outlinewidth": 0,
            "ticks": ""
           }
          },
          "colorscale": {
           "diverging": [
            [
             0,
             "#8e0152"
            ],
            [
             0.1,
             "#c51b7d"
            ],
            [
             0.2,
             "#de77ae"
            ],
            [
             0.3,
             "#f1b6da"
            ],
            [
             0.4,
             "#fde0ef"
            ],
            [
             0.5,
             "#f7f7f7"
            ],
            [
             0.6,
             "#e6f5d0"
            ],
            [
             0.7,
             "#b8e186"
            ],
            [
             0.8,
             "#7fbc41"
            ],
            [
             0.9,
             "#4d9221"
            ],
            [
             1,
             "#276419"
            ]
           ],
           "sequential": [
            [
             0,
             "#0d0887"
            ],
            [
             0.1111111111111111,
             "#46039f"
            ],
            [
             0.2222222222222222,
             "#7201a8"
            ],
            [
             0.3333333333333333,
             "#9c179e"
            ],
            [
             0.4444444444444444,
             "#bd3786"
            ],
            [
             0.5555555555555556,
             "#d8576b"
            ],
            [
             0.6666666666666666,
             "#ed7953"
            ],
            [
             0.7777777777777778,
             "#fb9f3a"
            ],
            [
             0.8888888888888888,
             "#fdca26"
            ],
            [
             1,
             "#f0f921"
            ]
           ],
           "sequentialminus": [
            [
             0,
             "#0d0887"
            ],
            [
             0.1111111111111111,
             "#46039f"
            ],
            [
             0.2222222222222222,
             "#7201a8"
            ],
            [
             0.3333333333333333,
             "#9c179e"
            ],
            [
             0.4444444444444444,
             "#bd3786"
            ],
            [
             0.5555555555555556,
             "#d8576b"
            ],
            [
             0.6666666666666666,
             "#ed7953"
            ],
            [
             0.7777777777777778,
             "#fb9f3a"
            ],
            [
             0.8888888888888888,
             "#fdca26"
            ],
            [
             1,
             "#f0f921"
            ]
           ]
          },
          "colorway": [
           "#636efa",
           "#EF553B",
           "#00cc96",
           "#ab63fa",
           "#FFA15A",
           "#19d3f3",
           "#FF6692",
           "#B6E880",
           "#FF97FF",
           "#FECB52"
          ],
          "font": {
           "color": "#2a3f5f"
          },
          "geo": {
           "bgcolor": "white",
           "lakecolor": "white",
           "landcolor": "#E5ECF6",
           "showlakes": true,
           "showland": true,
           "subunitcolor": "white"
          },
          "hoverlabel": {
           "align": "left"
          },
          "hovermode": "closest",
          "mapbox": {
           "style": "light"
          },
          "paper_bgcolor": "white",
          "plot_bgcolor": "#E5ECF6",
          "polar": {
           "angularaxis": {
            "gridcolor": "white",
            "linecolor": "white",
            "ticks": ""
           },
           "bgcolor": "#E5ECF6",
           "radialaxis": {
            "gridcolor": "white",
            "linecolor": "white",
            "ticks": ""
           }
          },
          "scene": {
           "xaxis": {
            "backgroundcolor": "#E5ECF6",
            "gridcolor": "white",
            "gridwidth": 2,
            "linecolor": "white",
            "showbackground": true,
            "ticks": "",
            "zerolinecolor": "white"
           },
           "yaxis": {
            "backgroundcolor": "#E5ECF6",
            "gridcolor": "white",
            "gridwidth": 2,
            "linecolor": "white",
            "showbackground": true,
            "ticks": "",
            "zerolinecolor": "white"
           },
           "zaxis": {
            "backgroundcolor": "#E5ECF6",
            "gridcolor": "white",
            "gridwidth": 2,
            "linecolor": "white",
            "showbackground": true,
            "ticks": "",
            "zerolinecolor": "white"
           }
          },
          "shapedefaults": {
           "line": {
            "color": "#2a3f5f"
           }
          },
          "ternary": {
           "aaxis": {
            "gridcolor": "white",
            "linecolor": "white",
            "ticks": ""
           },
           "baxis": {
            "gridcolor": "white",
            "linecolor": "white",
            "ticks": ""
           },
           "bgcolor": "#E5ECF6",
           "caxis": {
            "gridcolor": "white",
            "linecolor": "white",
            "ticks": ""
           }
          },
          "title": {
           "x": 0.05
          },
          "xaxis": {
           "automargin": true,
           "gridcolor": "white",
           "linecolor": "white",
           "ticks": "",
           "title": {
            "standoff": 15
           },
           "zerolinecolor": "white",
           "zerolinewidth": 2
          },
          "yaxis": {
           "automargin": true,
           "gridcolor": "white",
           "linecolor": "white",
           "ticks": "",
           "title": {
            "standoff": 15
           },
           "zerolinecolor": "white",
           "zerolinewidth": 2
          }
         }
        },
        "title": {
         "text": "Strong OMP Speedup<br><sup>THIN node - matrix size: 10k,20k,40k - OMP places: cores, OMP bind: close</sup>",
         "x": 0,
         "xref": "paper"
        },
        "width": 1000,
        "xaxis": {
         "dtick": "1",
         "tick0": "1",
         "tickmode": "linear",
         "title": {
          "text": "threads per MPI process<br><sup>1 MPI process per socket (2 sockets)</sup>"
         }
        },
        "yaxis": {
         "dtick": "1",
         "tick0": "1",
         "tickmode": "linear",
         "title": {
          "text": "Speedup"
         }
        }
       }
      }
     },
     "metadata": {},
     "output_type": "display_data"
    }
   ],
   "source": [
    "\n",
    "strong_OMP_thin_hybrid_static_grid_010k_avg['real_speedup']=strong_OMP_thin_hybrid_static_grid_010k_avg['time']['mean'][7]/strong_OMP_thin_hybrid_static_grid_010k_avg[\"time\"][\"mean\"]\n",
    "strong_OMP_thin_hybrid_static_grid_010k_avg['expected_speedup']=strong_OMP_thin_hybrid_static_grid_010k_avg['nthreads_per_process']['mean']\n",
    "strong_OMP_thin_hybrid_static_grid_010k_avg['speedup_err']=strong_OMP_thin_hybrid_static_grid_010k_avg[\"time\"][\"std\"]*strong_OMP_thin_hybrid_static_grid_010k_avg['time']['mean'][7]/strong_OMP_thin_hybrid_static_grid_010k_avg[\"time\"][\"mean\"]**2\n",
    "\n",
    "\n",
    "fig = go.Figure()\n",
    "fig.add_trace(go.Scatter(x=strong_OMP_thin_hybrid_static_grid_010k_avg[\"nthreads_per_process\"][\"mean\"][:7], y=strong_OMP_thin_hybrid_static_grid_010k_avg[\"real_speedup\"][:7], name='hybrid v1 10k',\n",
    "                         error_y=dict(\n",
    "                             type=\"data\",\n",
    "                             array=strong_OMP_thin_hybrid_static_grid_010k_avg[\"speedup_err\"][:7],\n",
    "                             visible=True)))\n",
    "fig.add_trace(go.Scatter(x=strong_OMP_thin_hybrid_static_grid_010k_avg[\"nthreads_per_process\"][\"mean\"][7:], y=strong_OMP_thin_hybrid_static_grid_010k_avg[\"real_speedup\"][7:], name='hybrid v2 10k',\n",
    "                         error_y=dict(\n",
    "                             type=\"data\",\n",
    "                             array=strong_OMP_thin_hybrid_static_grid_010k_avg[\"speedup_err\"][7:],\n",
    "                             visible=True)))\n",
    "fig.add_trace(go.Scatter(x=strong_OMP_thin_hybrid_static_grid_010k_avg[\"nthreads_per_process\"][\"mean\"][7:], y=strong_OMP_thin_hybrid_static_grid_010k_avg[\"expected_speedup\"][7:], name='expected speedup'))\n",
    "\n",
    "fig.update_layout(\n",
    "    title=go.layout.Title(\n",
    "        text=\"Strong OMP Speedup<br><sup>THIN node - matrix size: 10k,20k,40k - OMP places: cores, OMP bind: close</sup>\",\n",
    "        xref=\"paper\",\n",
    "        x=0,\n",
    "    ),\n",
    "    xaxis_title=\"threads per MPI process<br><sup>1 MPI process per socket (2 sockets)</sup>\",\n",
    "    xaxis = dict(\n",
    "        tickmode = 'linear',\n",
    "        tick0 = '1',\n",
    "        dtick = '1'\n",
    "    ),\n",
    "    yaxis_title=\"Speedup\",\n",
    "    yaxis = dict(\n",
    "        tickmode='linear',\n",
    "        tick0='1',\n",
    "        dtick='1'\n",
    "    ),\n",
    "    legend_title=\"Version\",\n",
    "    font=dict(\n",
    "        family=\"Courier New, monospace\",\n",
    "        size=18,\n",
    "    ),\n",
    "    colorway=[\"#1b9e77\",\"#fcae91\",\"#7570b3\"],\n",
    "    autosize=False,\n",
    "    width=1000,\n",
    "    height=800,\n",
    ")\n",
    "fig.show()\n",
    "fig.write_image(\"/home/andres/hpc/Foundations_of_HPC_2022/Assignment/my_assignment/report/images/strong_OMP_thin_hybrid_grid_010k_speedup.pdf\", height=800, width=1000)"
   ]
  },
  {
   "cell_type": "code",
   "execution_count": 73,
   "metadata": {},
   "outputs": [
    {
     "data": {
      "application/vnd.plotly.v1+json": {
       "config": {
        "plotlyServerURL": "https://plot.ly"
       },
       "data": [
        {
         "error_y": {
          "array": [
           0.13601228486300695,
           0.10186624275026325,
           0.01865826643757538,
           0.020033012305802605,
           0.01709202303740285,
           0.013002601606772617,
           0.038423290784511364
          ],
          "type": "data",
          "visible": true
         },
         "name": "hybrid v2 10k",
         "type": "scatter",
         "x": [
          1,
          2,
          4,
          6,
          8,
          10,
          12
         ],
         "y": [
          36.8760289,
          18.5302175,
          9.2922787,
          6.2339526,
          4.6913598,
          3.7808659,
          3.1838074
         ]
        },
        {
         "error_y": {
          "array": [
           0.02498870215917701,
           0.01644702679817865,
           0.010443174603006696,
           0.007418368955205529,
           0.0032341887545412644,
           0.0038087378836914663,
           0.030350927276517357,
           0.13601228486300695,
           0.10186624275026325,
           0.01865826643757538,
           0.020033012305802605,
           0.01709202303740285,
           0.013002601606772617,
           0.038423290784511364
          ],
          "type": "data",
          "visible": true
         },
         "name": "hybrid v2 20k",
         "type": "scatter",
         "x": [
          1,
          2,
          4,
          6,
          8,
          10,
          12
         ],
         "y": [
          148.1989454,
          73.9710538,
          37.0357098,
          24.660520400000003,
          18.529623,
          14.852489199999999,
          12.4623236
         ]
        },
        {
         "error_y": {
          "array": [
           1.0260391882410675,
           0.19421241316232177,
           0.11835230200971385,
           0.274577839922186,
           0.07639392576856666,
           0.13247680379221097,
           0.2019425550175131
          ],
          "type": "data",
          "visible": true
         },
         "name": "hybrid v2 40k",
         "type": "scatter",
         "x": [
          1,
          2,
          4,
          6,
          8,
          10,
          12
         ],
         "y": [
          590.4052673333334,
          297.31398766666666,
          149.37715300000002,
          99.85566433333334,
          74.87204766666666,
          60.03279800000001,
          50.991730999999994
         ]
        }
       ],
       "layout": {
        "colorway": [
         "#fcae91",
         "#fb6a4a",
         "#cb181d"
        ],
        "font": {
         "family": "Courier New, monospace",
         "size": 18
        },
        "legend": {
         "title": {
          "text": "Version"
         }
        },
        "template": {
         "data": {
          "bar": [
           {
            "error_x": {
             "color": "#2a3f5f"
            },
            "error_y": {
             "color": "#2a3f5f"
            },
            "marker": {
             "line": {
              "color": "#E5ECF6",
              "width": 0.5
             },
             "pattern": {
              "fillmode": "overlay",
              "size": 10,
              "solidity": 0.2
             }
            },
            "type": "bar"
           }
          ],
          "barpolar": [
           {
            "marker": {
             "line": {
              "color": "#E5ECF6",
              "width": 0.5
             },
             "pattern": {
              "fillmode": "overlay",
              "size": 10,
              "solidity": 0.2
             }
            },
            "type": "barpolar"
           }
          ],
          "carpet": [
           {
            "aaxis": {
             "endlinecolor": "#2a3f5f",
             "gridcolor": "white",
             "linecolor": "white",
             "minorgridcolor": "white",
             "startlinecolor": "#2a3f5f"
            },
            "baxis": {
             "endlinecolor": "#2a3f5f",
             "gridcolor": "white",
             "linecolor": "white",
             "minorgridcolor": "white",
             "startlinecolor": "#2a3f5f"
            },
            "type": "carpet"
           }
          ],
          "choropleth": [
           {
            "colorbar": {
             "outlinewidth": 0,
             "ticks": ""
            },
            "type": "choropleth"
           }
          ],
          "contour": [
           {
            "colorbar": {
             "outlinewidth": 0,
             "ticks": ""
            },
            "colorscale": [
             [
              0,
              "#0d0887"
             ],
             [
              0.1111111111111111,
              "#46039f"
             ],
             [
              0.2222222222222222,
              "#7201a8"
             ],
             [
              0.3333333333333333,
              "#9c179e"
             ],
             [
              0.4444444444444444,
              "#bd3786"
             ],
             [
              0.5555555555555556,
              "#d8576b"
             ],
             [
              0.6666666666666666,
              "#ed7953"
             ],
             [
              0.7777777777777778,
              "#fb9f3a"
             ],
             [
              0.8888888888888888,
              "#fdca26"
             ],
             [
              1,
              "#f0f921"
             ]
            ],
            "type": "contour"
           }
          ],
          "contourcarpet": [
           {
            "colorbar": {
             "outlinewidth": 0,
             "ticks": ""
            },
            "type": "contourcarpet"
           }
          ],
          "heatmap": [
           {
            "colorbar": {
             "outlinewidth": 0,
             "ticks": ""
            },
            "colorscale": [
             [
              0,
              "#0d0887"
             ],
             [
              0.1111111111111111,
              "#46039f"
             ],
             [
              0.2222222222222222,
              "#7201a8"
             ],
             [
              0.3333333333333333,
              "#9c179e"
             ],
             [
              0.4444444444444444,
              "#bd3786"
             ],
             [
              0.5555555555555556,
              "#d8576b"
             ],
             [
              0.6666666666666666,
              "#ed7953"
             ],
             [
              0.7777777777777778,
              "#fb9f3a"
             ],
             [
              0.8888888888888888,
              "#fdca26"
             ],
             [
              1,
              "#f0f921"
             ]
            ],
            "type": "heatmap"
           }
          ],
          "heatmapgl": [
           {
            "colorbar": {
             "outlinewidth": 0,
             "ticks": ""
            },
            "colorscale": [
             [
              0,
              "#0d0887"
             ],
             [
              0.1111111111111111,
              "#46039f"
             ],
             [
              0.2222222222222222,
              "#7201a8"
             ],
             [
              0.3333333333333333,
              "#9c179e"
             ],
             [
              0.4444444444444444,
              "#bd3786"
             ],
             [
              0.5555555555555556,
              "#d8576b"
             ],
             [
              0.6666666666666666,
              "#ed7953"
             ],
             [
              0.7777777777777778,
              "#fb9f3a"
             ],
             [
              0.8888888888888888,
              "#fdca26"
             ],
             [
              1,
              "#f0f921"
             ]
            ],
            "type": "heatmapgl"
           }
          ],
          "histogram": [
           {
            "marker": {
             "pattern": {
              "fillmode": "overlay",
              "size": 10,
              "solidity": 0.2
             }
            },
            "type": "histogram"
           }
          ],
          "histogram2d": [
           {
            "colorbar": {
             "outlinewidth": 0,
             "ticks": ""
            },
            "colorscale": [
             [
              0,
              "#0d0887"
             ],
             [
              0.1111111111111111,
              "#46039f"
             ],
             [
              0.2222222222222222,
              "#7201a8"
             ],
             [
              0.3333333333333333,
              "#9c179e"
             ],
             [
              0.4444444444444444,
              "#bd3786"
             ],
             [
              0.5555555555555556,
              "#d8576b"
             ],
             [
              0.6666666666666666,
              "#ed7953"
             ],
             [
              0.7777777777777778,
              "#fb9f3a"
             ],
             [
              0.8888888888888888,
              "#fdca26"
             ],
             [
              1,
              "#f0f921"
             ]
            ],
            "type": "histogram2d"
           }
          ],
          "histogram2dcontour": [
           {
            "colorbar": {
             "outlinewidth": 0,
             "ticks": ""
            },
            "colorscale": [
             [
              0,
              "#0d0887"
             ],
             [
              0.1111111111111111,
              "#46039f"
             ],
             [
              0.2222222222222222,
              "#7201a8"
             ],
             [
              0.3333333333333333,
              "#9c179e"
             ],
             [
              0.4444444444444444,
              "#bd3786"
             ],
             [
              0.5555555555555556,
              "#d8576b"
             ],
             [
              0.6666666666666666,
              "#ed7953"
             ],
             [
              0.7777777777777778,
              "#fb9f3a"
             ],
             [
              0.8888888888888888,
              "#fdca26"
             ],
             [
              1,
              "#f0f921"
             ]
            ],
            "type": "histogram2dcontour"
           }
          ],
          "mesh3d": [
           {
            "colorbar": {
             "outlinewidth": 0,
             "ticks": ""
            },
            "type": "mesh3d"
           }
          ],
          "parcoords": [
           {
            "line": {
             "colorbar": {
              "outlinewidth": 0,
              "ticks": ""
             }
            },
            "type": "parcoords"
           }
          ],
          "pie": [
           {
            "automargin": true,
            "type": "pie"
           }
          ],
          "scatter": [
           {
            "fillpattern": {
             "fillmode": "overlay",
             "size": 10,
             "solidity": 0.2
            },
            "type": "scatter"
           }
          ],
          "scatter3d": [
           {
            "line": {
             "colorbar": {
              "outlinewidth": 0,
              "ticks": ""
             }
            },
            "marker": {
             "colorbar": {
              "outlinewidth": 0,
              "ticks": ""
             }
            },
            "type": "scatter3d"
           }
          ],
          "scattercarpet": [
           {
            "marker": {
             "colorbar": {
              "outlinewidth": 0,
              "ticks": ""
             }
            },
            "type": "scattercarpet"
           }
          ],
          "scattergeo": [
           {
            "marker": {
             "colorbar": {
              "outlinewidth": 0,
              "ticks": ""
             }
            },
            "type": "scattergeo"
           }
          ],
          "scattergl": [
           {
            "marker": {
             "colorbar": {
              "outlinewidth": 0,
              "ticks": ""
             }
            },
            "type": "scattergl"
           }
          ],
          "scattermapbox": [
           {
            "marker": {
             "colorbar": {
              "outlinewidth": 0,
              "ticks": ""
             }
            },
            "type": "scattermapbox"
           }
          ],
          "scatterpolar": [
           {
            "marker": {
             "colorbar": {
              "outlinewidth": 0,
              "ticks": ""
             }
            },
            "type": "scatterpolar"
           }
          ],
          "scatterpolargl": [
           {
            "marker": {
             "colorbar": {
              "outlinewidth": 0,
              "ticks": ""
             }
            },
            "type": "scatterpolargl"
           }
          ],
          "scatterternary": [
           {
            "marker": {
             "colorbar": {
              "outlinewidth": 0,
              "ticks": ""
             }
            },
            "type": "scatterternary"
           }
          ],
          "surface": [
           {
            "colorbar": {
             "outlinewidth": 0,
             "ticks": ""
            },
            "colorscale": [
             [
              0,
              "#0d0887"
             ],
             [
              0.1111111111111111,
              "#46039f"
             ],
             [
              0.2222222222222222,
              "#7201a8"
             ],
             [
              0.3333333333333333,
              "#9c179e"
             ],
             [
              0.4444444444444444,
              "#bd3786"
             ],
             [
              0.5555555555555556,
              "#d8576b"
             ],
             [
              0.6666666666666666,
              "#ed7953"
             ],
             [
              0.7777777777777778,
              "#fb9f3a"
             ],
             [
              0.8888888888888888,
              "#fdca26"
             ],
             [
              1,
              "#f0f921"
             ]
            ],
            "type": "surface"
           }
          ],
          "table": [
           {
            "cells": {
             "fill": {
              "color": "#EBF0F8"
             },
             "line": {
              "color": "white"
             }
            },
            "header": {
             "fill": {
              "color": "#C8D4E3"
             },
             "line": {
              "color": "white"
             }
            },
            "type": "table"
           }
          ]
         },
         "layout": {
          "annotationdefaults": {
           "arrowcolor": "#2a3f5f",
           "arrowhead": 0,
           "arrowwidth": 1
          },
          "autotypenumbers": "strict",
          "coloraxis": {
           "colorbar": {
            "outlinewidth": 0,
            "ticks": ""
           }
          },
          "colorscale": {
           "diverging": [
            [
             0,
             "#8e0152"
            ],
            [
             0.1,
             "#c51b7d"
            ],
            [
             0.2,
             "#de77ae"
            ],
            [
             0.3,
             "#f1b6da"
            ],
            [
             0.4,
             "#fde0ef"
            ],
            [
             0.5,
             "#f7f7f7"
            ],
            [
             0.6,
             "#e6f5d0"
            ],
            [
             0.7,
             "#b8e186"
            ],
            [
             0.8,
             "#7fbc41"
            ],
            [
             0.9,
             "#4d9221"
            ],
            [
             1,
             "#276419"
            ]
           ],
           "sequential": [
            [
             0,
             "#0d0887"
            ],
            [
             0.1111111111111111,
             "#46039f"
            ],
            [
             0.2222222222222222,
             "#7201a8"
            ],
            [
             0.3333333333333333,
             "#9c179e"
            ],
            [
             0.4444444444444444,
             "#bd3786"
            ],
            [
             0.5555555555555556,
             "#d8576b"
            ],
            [
             0.6666666666666666,
             "#ed7953"
            ],
            [
             0.7777777777777778,
             "#fb9f3a"
            ],
            [
             0.8888888888888888,
             "#fdca26"
            ],
            [
             1,
             "#f0f921"
            ]
           ],
           "sequentialminus": [
            [
             0,
             "#0d0887"
            ],
            [
             0.1111111111111111,
             "#46039f"
            ],
            [
             0.2222222222222222,
             "#7201a8"
            ],
            [
             0.3333333333333333,
             "#9c179e"
            ],
            [
             0.4444444444444444,
             "#bd3786"
            ],
            [
             0.5555555555555556,
             "#d8576b"
            ],
            [
             0.6666666666666666,
             "#ed7953"
            ],
            [
             0.7777777777777778,
             "#fb9f3a"
            ],
            [
             0.8888888888888888,
             "#fdca26"
            ],
            [
             1,
             "#f0f921"
            ]
           ]
          },
          "colorway": [
           "#636efa",
           "#EF553B",
           "#00cc96",
           "#ab63fa",
           "#FFA15A",
           "#19d3f3",
           "#FF6692",
           "#B6E880",
           "#FF97FF",
           "#FECB52"
          ],
          "font": {
           "color": "#2a3f5f"
          },
          "geo": {
           "bgcolor": "white",
           "lakecolor": "white",
           "landcolor": "#E5ECF6",
           "showlakes": true,
           "showland": true,
           "subunitcolor": "white"
          },
          "hoverlabel": {
           "align": "left"
          },
          "hovermode": "closest",
          "mapbox": {
           "style": "light"
          },
          "paper_bgcolor": "white",
          "plot_bgcolor": "#E5ECF6",
          "polar": {
           "angularaxis": {
            "gridcolor": "white",
            "linecolor": "white",
            "ticks": ""
           },
           "bgcolor": "#E5ECF6",
           "radialaxis": {
            "gridcolor": "white",
            "linecolor": "white",
            "ticks": ""
           }
          },
          "scene": {
           "xaxis": {
            "backgroundcolor": "#E5ECF6",
            "gridcolor": "white",
            "gridwidth": 2,
            "linecolor": "white",
            "showbackground": true,
            "ticks": "",
            "zerolinecolor": "white"
           },
           "yaxis": {
            "backgroundcolor": "#E5ECF6",
            "gridcolor": "white",
            "gridwidth": 2,
            "linecolor": "white",
            "showbackground": true,
            "ticks": "",
            "zerolinecolor": "white"
           },
           "zaxis": {
            "backgroundcolor": "#E5ECF6",
            "gridcolor": "white",
            "gridwidth": 2,
            "linecolor": "white",
            "showbackground": true,
            "ticks": "",
            "zerolinecolor": "white"
           }
          },
          "shapedefaults": {
           "line": {
            "color": "#2a3f5f"
           }
          },
          "ternary": {
           "aaxis": {
            "gridcolor": "white",
            "linecolor": "white",
            "ticks": ""
           },
           "baxis": {
            "gridcolor": "white",
            "linecolor": "white",
            "ticks": ""
           },
           "bgcolor": "#E5ECF6",
           "caxis": {
            "gridcolor": "white",
            "linecolor": "white",
            "ticks": ""
           }
          },
          "title": {
           "x": 0.05
          },
          "xaxis": {
           "automargin": true,
           "gridcolor": "white",
           "linecolor": "white",
           "ticks": "",
           "title": {
            "standoff": 15
           },
           "zerolinecolor": "white",
           "zerolinewidth": 2
          },
          "yaxis": {
           "automargin": true,
           "gridcolor": "white",
           "linecolor": "white",
           "ticks": "",
           "title": {
            "standoff": 15
           },
           "zerolinecolor": "white",
           "zerolinewidth": 2
          }
         }
        },
        "title": {
         "text": "Time vs threads per process<br><sup>THIN node - matrix size: 10k,20k,40k - OMP places: cores, OMP policy: close</sup>",
         "x": 0,
         "xref": "paper"
        },
        "xaxis": {
         "dtick": "1",
         "tick0": "1",
         "tickmode": "linear",
         "title": {
          "text": "threads per MPI process<br><sup>1 MPI process per socket (2 sockets)</sup>"
         }
        },
        "yaxis": {
         "title": {
          "text": "time(s)"
         }
        }
       }
      }
     },
     "metadata": {},
     "output_type": "display_data"
    }
   ],
   "source": [
    "\n",
    "fig = go.Figure()\n",
    "\n",
    "fig.add_trace(go.Scatter(x=strong_OMP_thin_hybrid_static_grid_010k_avg[\"nthreads_per_process\"][\"mean\"][7:], y=strong_OMP_thin_hybrid_static_grid_010k_avg[\"time\"][\"mean\"][7:], name='hybrid v2 10k',\n",
    "                         error_y=dict(\n",
    "                             type=\"data\",\n",
    "                             array=strong_OMP_thin_hybrid_static_grid_010k_avg[\"time\"][\"std\"][7:],\n",
    "                             visible=True)))\n",
    "fig.add_trace(go.Scatter(x=strong_OMP_thin_hybrid_static_grid_020k_avg[\"nthreads_per_process\"][\"mean\"], y=strong_OMP_thin_hybrid_static_grid_020k_avg[\"time\"][\"mean\"], name='hybrid v2 20k',\n",
    "                         error_y=dict(\n",
    "                             type=\"data\",\n",
    "                             array=strong_OMP_thin_hybrid_static_grid_010k_avg[\"time\"][\"std\"],\n",
    "                             visible=True)))\n",
    "fig.add_trace(go.Scatter(x=strong_OMP_thin_hybrid_static_grid_040k_avg[\"nthreads_per_process\"][\"mean\"], y=strong_OMP_thin_hybrid_static_grid_040k_avg[\"time\"][\"mean\"], name='hybrid v2 40k',\n",
    "                         error_y=dict(\n",
    "                             type=\"data\",\n",
    "                             array=strong_OMP_thin_hybrid_static_grid_040k_avg[\"time\"][\"std\"],\n",
    "                             visible=True)))\n",
    "fig.update_layout(\n",
    "    title=go.layout.Title(\n",
    "        text=\"Time vs threads per process<br><sup>THIN node - matrix size: 10k,20k,40k - OMP places: cores, OMP policy: close</sup>\",\n",
    "        xref=\"paper\",\n",
    "        x=0,\n",
    "    ),\n",
    "    xaxis_title=\"threads per MPI process<br><sup>1 MPI process per socket (2 sockets)</sup>\",\n",
    "    xaxis = dict(\n",
    "        tickmode = 'linear',\n",
    "        tick0 = '1',\n",
    "        dtick = '1'\n",
    "    ),\n",
    "    yaxis_title=\"time(s)\",\n",
    "    legend_title=\"Version\",\n",
    "    font=dict(\n",
    "        family=\"Courier New, monospace\",\n",
    "        size=18,\n",
    "    ),\n",
    "    colorway=[\"#fcae91\",\"#fb6a4a\",\"#cb181d\"],\n",
    ")\n",
    "fig.show()\n",
    "fig.write_image(\"/home/andres/hpc/Foundations_of_HPC_2022/Assignment/my_assignment/report/images/strong_OMP_thin_hybrid_v2.pdf\", height=500, width=1000)"
   ]
  },
  {
   "cell_type": "code",
   "execution_count": 74,
   "metadata": {},
   "outputs": [
    {
     "data": {
      "application/vnd.plotly.v1+json": {
       "config": {
        "plotlyServerURL": "https://plot.ly"
       },
       "data": [
        {
         "error_y": {
          "array": [
           0.00006055301199719524,
           0.00015947246719265877,
           0.0004036521591600882,
           0.0006443320725161818,
           0.0004978577012967355,
           0.0009135606470096633,
           0.010392070732764989
          ],
          "type": "data",
          "visible": true
         },
         "name": "hybrid v1 10k",
         "type": "scatter",
         "x": [
          1,
          2,
          4,
          6,
          8,
          10,
          12
         ],
         "y": [
          0.2989290336691088,
          0.5979587562989751,
          1.1938766098539817,
          1.7896690739660777,
          2.382549908279072,
          2.974063398600785,
          3.5533430561649877
         ]
        },
        {
         "error_y": {
          "array": [
           0.0036883658278889938,
           0.01093990122187705,
           0.007968397365042554,
           0.019009181304766965,
           0.028637831668673945,
           0.03354222398843178,
           0.13978002974013612
          ],
          "type": "data",
          "visible": true
         },
         "name": "hybrid v2 10k",
         "type": "scatter",
         "x": [
          1,
          2,
          4,
          6,
          8,
          10,
          12
         ],
         "y": [
          1,
          1.990048357500391,
          3.9684592004327204,
          5.915352789175843,
          7.8604137120329165,
          9.753328966256117,
          11.582367984947833
         ]
        },
        {
         "error_y": {
          "array": [
           0.007603817981687829,
           0.0015784935072789533,
           0.005312909863574015,
           0.005724889700536535,
           0.011986867580747169,
           0.024240468433996926,
           0.08739432503548569
          ],
          "type": "data",
          "visible": true
         },
         "name": "hybrid v2 20k",
         "type": "scatter",
         "x": [
          1,
          2,
          4,
          6,
          8,
          10,
          12
         ],
         "y": [
          1,
          2.0034721392599657,
          4.001514921687825,
          6.009562774676888,
          7.997947146577133,
          9.978054412589643,
          11.891758724673144
         ]
        },
        {
         "error_y": {
          "array": [
           0.001737855749281082,
           0.0012971688895395401,
           0.003131544425623649,
           0.016258118956885365,
           0.008045807362760888,
           0.02170265637938766,
           0.0458541407806781
          ],
          "type": "data",
          "visible": true
         },
         "name": "hybrid v2 40k",
         "type": "scatter",
         "x": [
          1,
          2,
          4,
          6,
          8,
          10,
          12
         ],
         "y": [
          1,
          1.9857971431712989,
          3.9524469135740814,
          5.9125866446841835,
          7.885523178981844,
          9.834711807591134,
          11.578451167569375
         ]
        },
        {
         "name": "expected speedup",
         "type": "scatter",
         "x": [
          1,
          2,
          4,
          6,
          8,
          10,
          12
         ],
         "y": [
          1,
          2,
          4,
          6,
          8,
          10,
          12
         ]
        }
       ],
       "layout": {
        "autosize": false,
        "colorway": [
         "#1b9e77",
         "#fcae91",
         "#fb6a4a",
         "#cb181d",
         "#7570b3"
        ],
        "font": {
         "family": "Courier New, monospace",
         "size": 18
        },
        "height": 800,
        "legend": {
         "title": {
          "text": "Version"
         }
        },
        "template": {
         "data": {
          "bar": [
           {
            "error_x": {
             "color": "#2a3f5f"
            },
            "error_y": {
             "color": "#2a3f5f"
            },
            "marker": {
             "line": {
              "color": "#E5ECF6",
              "width": 0.5
             },
             "pattern": {
              "fillmode": "overlay",
              "size": 10,
              "solidity": 0.2
             }
            },
            "type": "bar"
           }
          ],
          "barpolar": [
           {
            "marker": {
             "line": {
              "color": "#E5ECF6",
              "width": 0.5
             },
             "pattern": {
              "fillmode": "overlay",
              "size": 10,
              "solidity": 0.2
             }
            },
            "type": "barpolar"
           }
          ],
          "carpet": [
           {
            "aaxis": {
             "endlinecolor": "#2a3f5f",
             "gridcolor": "white",
             "linecolor": "white",
             "minorgridcolor": "white",
             "startlinecolor": "#2a3f5f"
            },
            "baxis": {
             "endlinecolor": "#2a3f5f",
             "gridcolor": "white",
             "linecolor": "white",
             "minorgridcolor": "white",
             "startlinecolor": "#2a3f5f"
            },
            "type": "carpet"
           }
          ],
          "choropleth": [
           {
            "colorbar": {
             "outlinewidth": 0,
             "ticks": ""
            },
            "type": "choropleth"
           }
          ],
          "contour": [
           {
            "colorbar": {
             "outlinewidth": 0,
             "ticks": ""
            },
            "colorscale": [
             [
              0,
              "#0d0887"
             ],
             [
              0.1111111111111111,
              "#46039f"
             ],
             [
              0.2222222222222222,
              "#7201a8"
             ],
             [
              0.3333333333333333,
              "#9c179e"
             ],
             [
              0.4444444444444444,
              "#bd3786"
             ],
             [
              0.5555555555555556,
              "#d8576b"
             ],
             [
              0.6666666666666666,
              "#ed7953"
             ],
             [
              0.7777777777777778,
              "#fb9f3a"
             ],
             [
              0.8888888888888888,
              "#fdca26"
             ],
             [
              1,
              "#f0f921"
             ]
            ],
            "type": "contour"
           }
          ],
          "contourcarpet": [
           {
            "colorbar": {
             "outlinewidth": 0,
             "ticks": ""
            },
            "type": "contourcarpet"
           }
          ],
          "heatmap": [
           {
            "colorbar": {
             "outlinewidth": 0,
             "ticks": ""
            },
            "colorscale": [
             [
              0,
              "#0d0887"
             ],
             [
              0.1111111111111111,
              "#46039f"
             ],
             [
              0.2222222222222222,
              "#7201a8"
             ],
             [
              0.3333333333333333,
              "#9c179e"
             ],
             [
              0.4444444444444444,
              "#bd3786"
             ],
             [
              0.5555555555555556,
              "#d8576b"
             ],
             [
              0.6666666666666666,
              "#ed7953"
             ],
             [
              0.7777777777777778,
              "#fb9f3a"
             ],
             [
              0.8888888888888888,
              "#fdca26"
             ],
             [
              1,
              "#f0f921"
             ]
            ],
            "type": "heatmap"
           }
          ],
          "heatmapgl": [
           {
            "colorbar": {
             "outlinewidth": 0,
             "ticks": ""
            },
            "colorscale": [
             [
              0,
              "#0d0887"
             ],
             [
              0.1111111111111111,
              "#46039f"
             ],
             [
              0.2222222222222222,
              "#7201a8"
             ],
             [
              0.3333333333333333,
              "#9c179e"
             ],
             [
              0.4444444444444444,
              "#bd3786"
             ],
             [
              0.5555555555555556,
              "#d8576b"
             ],
             [
              0.6666666666666666,
              "#ed7953"
             ],
             [
              0.7777777777777778,
              "#fb9f3a"
             ],
             [
              0.8888888888888888,
              "#fdca26"
             ],
             [
              1,
              "#f0f921"
             ]
            ],
            "type": "heatmapgl"
           }
          ],
          "histogram": [
           {
            "marker": {
             "pattern": {
              "fillmode": "overlay",
              "size": 10,
              "solidity": 0.2
             }
            },
            "type": "histogram"
           }
          ],
          "histogram2d": [
           {
            "colorbar": {
             "outlinewidth": 0,
             "ticks": ""
            },
            "colorscale": [
             [
              0,
              "#0d0887"
             ],
             [
              0.1111111111111111,
              "#46039f"
             ],
             [
              0.2222222222222222,
              "#7201a8"
             ],
             [
              0.3333333333333333,
              "#9c179e"
             ],
             [
              0.4444444444444444,
              "#bd3786"
             ],
             [
              0.5555555555555556,
              "#d8576b"
             ],
             [
              0.6666666666666666,
              "#ed7953"
             ],
             [
              0.7777777777777778,
              "#fb9f3a"
             ],
             [
              0.8888888888888888,
              "#fdca26"
             ],
             [
              1,
              "#f0f921"
             ]
            ],
            "type": "histogram2d"
           }
          ],
          "histogram2dcontour": [
           {
            "colorbar": {
             "outlinewidth": 0,
             "ticks": ""
            },
            "colorscale": [
             [
              0,
              "#0d0887"
             ],
             [
              0.1111111111111111,
              "#46039f"
             ],
             [
              0.2222222222222222,
              "#7201a8"
             ],
             [
              0.3333333333333333,
              "#9c179e"
             ],
             [
              0.4444444444444444,
              "#bd3786"
             ],
             [
              0.5555555555555556,
              "#d8576b"
             ],
             [
              0.6666666666666666,
              "#ed7953"
             ],
             [
              0.7777777777777778,
              "#fb9f3a"
             ],
             [
              0.8888888888888888,
              "#fdca26"
             ],
             [
              1,
              "#f0f921"
             ]
            ],
            "type": "histogram2dcontour"
           }
          ],
          "mesh3d": [
           {
            "colorbar": {
             "outlinewidth": 0,
             "ticks": ""
            },
            "type": "mesh3d"
           }
          ],
          "parcoords": [
           {
            "line": {
             "colorbar": {
              "outlinewidth": 0,
              "ticks": ""
             }
            },
            "type": "parcoords"
           }
          ],
          "pie": [
           {
            "automargin": true,
            "type": "pie"
           }
          ],
          "scatter": [
           {
            "fillpattern": {
             "fillmode": "overlay",
             "size": 10,
             "solidity": 0.2
            },
            "type": "scatter"
           }
          ],
          "scatter3d": [
           {
            "line": {
             "colorbar": {
              "outlinewidth": 0,
              "ticks": ""
             }
            },
            "marker": {
             "colorbar": {
              "outlinewidth": 0,
              "ticks": ""
             }
            },
            "type": "scatter3d"
           }
          ],
          "scattercarpet": [
           {
            "marker": {
             "colorbar": {
              "outlinewidth": 0,
              "ticks": ""
             }
            },
            "type": "scattercarpet"
           }
          ],
          "scattergeo": [
           {
            "marker": {
             "colorbar": {
              "outlinewidth": 0,
              "ticks": ""
             }
            },
            "type": "scattergeo"
           }
          ],
          "scattergl": [
           {
            "marker": {
             "colorbar": {
              "outlinewidth": 0,
              "ticks": ""
             }
            },
            "type": "scattergl"
           }
          ],
          "scattermapbox": [
           {
            "marker": {
             "colorbar": {
              "outlinewidth": 0,
              "ticks": ""
             }
            },
            "type": "scattermapbox"
           }
          ],
          "scatterpolar": [
           {
            "marker": {
             "colorbar": {
              "outlinewidth": 0,
              "ticks": ""
             }
            },
            "type": "scatterpolar"
           }
          ],
          "scatterpolargl": [
           {
            "marker": {
             "colorbar": {
              "outlinewidth": 0,
              "ticks": ""
             }
            },
            "type": "scatterpolargl"
           }
          ],
          "scatterternary": [
           {
            "marker": {
             "colorbar": {
              "outlinewidth": 0,
              "ticks": ""
             }
            },
            "type": "scatterternary"
           }
          ],
          "surface": [
           {
            "colorbar": {
             "outlinewidth": 0,
             "ticks": ""
            },
            "colorscale": [
             [
              0,
              "#0d0887"
             ],
             [
              0.1111111111111111,
              "#46039f"
             ],
             [
              0.2222222222222222,
              "#7201a8"
             ],
             [
              0.3333333333333333,
              "#9c179e"
             ],
             [
              0.4444444444444444,
              "#bd3786"
             ],
             [
              0.5555555555555556,
              "#d8576b"
             ],
             [
              0.6666666666666666,
              "#ed7953"
             ],
             [
              0.7777777777777778,
              "#fb9f3a"
             ],
             [
              0.8888888888888888,
              "#fdca26"
             ],
             [
              1,
              "#f0f921"
             ]
            ],
            "type": "surface"
           }
          ],
          "table": [
           {
            "cells": {
             "fill": {
              "color": "#EBF0F8"
             },
             "line": {
              "color": "white"
             }
            },
            "header": {
             "fill": {
              "color": "#C8D4E3"
             },
             "line": {
              "color": "white"
             }
            },
            "type": "table"
           }
          ]
         },
         "layout": {
          "annotationdefaults": {
           "arrowcolor": "#2a3f5f",
           "arrowhead": 0,
           "arrowwidth": 1
          },
          "autotypenumbers": "strict",
          "coloraxis": {
           "colorbar": {
            "outlinewidth": 0,
            "ticks": ""
           }
          },
          "colorscale": {
           "diverging": [
            [
             0,
             "#8e0152"
            ],
            [
             0.1,
             "#c51b7d"
            ],
            [
             0.2,
             "#de77ae"
            ],
            [
             0.3,
             "#f1b6da"
            ],
            [
             0.4,
             "#fde0ef"
            ],
            [
             0.5,
             "#f7f7f7"
            ],
            [
             0.6,
             "#e6f5d0"
            ],
            [
             0.7,
             "#b8e186"
            ],
            [
             0.8,
             "#7fbc41"
            ],
            [
             0.9,
             "#4d9221"
            ],
            [
             1,
             "#276419"
            ]
           ],
           "sequential": [
            [
             0,
             "#0d0887"
            ],
            [
             0.1111111111111111,
             "#46039f"
            ],
            [
             0.2222222222222222,
             "#7201a8"
            ],
            [
             0.3333333333333333,
             "#9c179e"
            ],
            [
             0.4444444444444444,
             "#bd3786"
            ],
            [
             0.5555555555555556,
             "#d8576b"
            ],
            [
             0.6666666666666666,
             "#ed7953"
            ],
            [
             0.7777777777777778,
             "#fb9f3a"
            ],
            [
             0.8888888888888888,
             "#fdca26"
            ],
            [
             1,
             "#f0f921"
            ]
           ],
           "sequentialminus": [
            [
             0,
             "#0d0887"
            ],
            [
             0.1111111111111111,
             "#46039f"
            ],
            [
             0.2222222222222222,
             "#7201a8"
            ],
            [
             0.3333333333333333,
             "#9c179e"
            ],
            [
             0.4444444444444444,
             "#bd3786"
            ],
            [
             0.5555555555555556,
             "#d8576b"
            ],
            [
             0.6666666666666666,
             "#ed7953"
            ],
            [
             0.7777777777777778,
             "#fb9f3a"
            ],
            [
             0.8888888888888888,
             "#fdca26"
            ],
            [
             1,
             "#f0f921"
            ]
           ]
          },
          "colorway": [
           "#636efa",
           "#EF553B",
           "#00cc96",
           "#ab63fa",
           "#FFA15A",
           "#19d3f3",
           "#FF6692",
           "#B6E880",
           "#FF97FF",
           "#FECB52"
          ],
          "font": {
           "color": "#2a3f5f"
          },
          "geo": {
           "bgcolor": "white",
           "lakecolor": "white",
           "landcolor": "#E5ECF6",
           "showlakes": true,
           "showland": true,
           "subunitcolor": "white"
          },
          "hoverlabel": {
           "align": "left"
          },
          "hovermode": "closest",
          "mapbox": {
           "style": "light"
          },
          "paper_bgcolor": "white",
          "plot_bgcolor": "#E5ECF6",
          "polar": {
           "angularaxis": {
            "gridcolor": "white",
            "linecolor": "white",
            "ticks": ""
           },
           "bgcolor": "#E5ECF6",
           "radialaxis": {
            "gridcolor": "white",
            "linecolor": "white",
            "ticks": ""
           }
          },
          "scene": {
           "xaxis": {
            "backgroundcolor": "#E5ECF6",
            "gridcolor": "white",
            "gridwidth": 2,
            "linecolor": "white",
            "showbackground": true,
            "ticks": "",
            "zerolinecolor": "white"
           },
           "yaxis": {
            "backgroundcolor": "#E5ECF6",
            "gridcolor": "white",
            "gridwidth": 2,
            "linecolor": "white",
            "showbackground": true,
            "ticks": "",
            "zerolinecolor": "white"
           },
           "zaxis": {
            "backgroundcolor": "#E5ECF6",
            "gridcolor": "white",
            "gridwidth": 2,
            "linecolor": "white",
            "showbackground": true,
            "ticks": "",
            "zerolinecolor": "white"
           }
          },
          "shapedefaults": {
           "line": {
            "color": "#2a3f5f"
           }
          },
          "ternary": {
           "aaxis": {
            "gridcolor": "white",
            "linecolor": "white",
            "ticks": ""
           },
           "baxis": {
            "gridcolor": "white",
            "linecolor": "white",
            "ticks": ""
           },
           "bgcolor": "#E5ECF6",
           "caxis": {
            "gridcolor": "white",
            "linecolor": "white",
            "ticks": ""
           }
          },
          "title": {
           "x": 0.05
          },
          "xaxis": {
           "automargin": true,
           "gridcolor": "white",
           "linecolor": "white",
           "ticks": "",
           "title": {
            "standoff": 15
           },
           "zerolinecolor": "white",
           "zerolinewidth": 2
          },
          "yaxis": {
           "automargin": true,
           "gridcolor": "white",
           "linecolor": "white",
           "ticks": "",
           "title": {
            "standoff": 15
           },
           "zerolinecolor": "white",
           "zerolinewidth": 2
          }
         }
        },
        "title": {
         "text": "Strong OMP Speedup<br><sup>THIN node - matrix size: 10k,20k,40k - OMP places: cores, OMP bind: close</sup>",
         "x": 0,
         "xref": "paper"
        },
        "width": 1000,
        "xaxis": {
         "dtick": "1",
         "tick0": "1",
         "tickmode": "linear",
         "title": {
          "text": "threads per MPI process<br><sup>1 MPI process per socket (2 sockets)</sup>"
         }
        },
        "yaxis": {
         "dtick": "1",
         "tick0": "1",
         "tickmode": "linear",
         "title": {
          "text": "Speedup"
         }
        }
       }
      }
     },
     "metadata": {},
     "output_type": "display_data"
    }
   ],
   "source": [
    "strong_OMP_thin_hybrid_static_grid_010k_avg['real_speedup']=strong_OMP_thin_hybrid_static_grid_010k_avg['time']['mean'][7]/strong_OMP_thin_hybrid_static_grid_010k_avg[\"time\"][\"mean\"]\n",
    "strong_OMP_thin_hybrid_static_grid_010k_avg['expected_speedup']=strong_OMP_thin_hybrid_static_grid_010k_avg['nthreads_per_process']['mean']\n",
    "strong_OMP_thin_hybrid_static_grid_010k_avg['speedup_err']=strong_OMP_thin_hybrid_static_grid_010k_avg[\"time\"][\"std\"]*strong_OMP_thin_hybrid_static_grid_010k_avg['time']['mean'][7]/strong_OMP_thin_hybrid_static_grid_010k_avg[\"time\"][\"mean\"]**2\n",
    "\n",
    "strong_OMP_thin_hybrid_static_grid_020k_avg[\"real_speedup\"]=strong_OMP_thin_hybrid_static_grid_020k_avg[\"time\"][\"mean\"][0]/strong_OMP_thin_hybrid_static_grid_020k_avg[\"time\"][\"mean\"]\n",
    "strong_OMP_thin_hybrid_static_grid_020k_avg['speedup_err']=strong_OMP_thin_hybrid_static_grid_020k_avg[\"time\"][\"std\"]*strong_OMP_thin_hybrid_static_grid_020k_avg['time']['mean'][0]/strong_OMP_thin_hybrid_static_grid_020k_avg[\"time\"][\"mean\"]**2\n",
    "\n",
    "strong_OMP_thin_hybrid_static_grid_040k_avg[\"real_speedup\"]=strong_OMP_thin_hybrid_static_grid_040k_avg[\"time\"][\"mean\"][0]/strong_OMP_thin_hybrid_static_grid_040k_avg[\"time\"][\"mean\"]\n",
    "strong_OMP_thin_hybrid_static_grid_040k_avg['speedup_err']=strong_OMP_thin_hybrid_static_grid_040k_avg[\"time\"][\"std\"]*strong_OMP_thin_hybrid_static_grid_040k_avg['time']['mean'][0]/strong_OMP_thin_hybrid_static_grid_040k_avg[\"time\"][\"mean\"]**2\n",
    "\n",
    "fig = go.Figure()\n",
    "fig.add_trace(go.Scatter(x=strong_OMP_thin_hybrid_static_grid_010k_avg[\"nthreads_per_process\"][\"mean\"][:7], y=strong_OMP_thin_hybrid_static_grid_010k_avg[\"real_speedup\"][:7], name='hybrid v1 10k',\n",
    "                         error_y=dict(\n",
    "                             type=\"data\",\n",
    "                             array=strong_OMP_thin_hybrid_static_grid_010k_avg[\"speedup_err\"][:7],\n",
    "                             visible=True)))\n",
    "fig.add_trace(go.Scatter(x=strong_OMP_thin_hybrid_static_grid_010k_avg[\"nthreads_per_process\"][\"mean\"][7:], y=strong_OMP_thin_hybrid_static_grid_010k_avg[\"real_speedup\"][7:], name='hybrid v2 10k',\n",
    "                         error_y=dict(\n",
    "                             type=\"data\",\n",
    "                             array=strong_OMP_thin_hybrid_static_grid_010k_avg[\"speedup_err\"][7:],\n",
    "                             visible=True)))\n",
    "fig.add_trace(go.Scatter(x=strong_OMP_thin_hybrid_static_grid_020k_avg[\"nthreads_per_process\"][\"mean\"], y=strong_OMP_thin_hybrid_static_grid_020k_avg[\"real_speedup\"], name='hybrid v2 20k',\n",
    "                         error_y=dict(\n",
    "                             type=\"data\",\n",
    "                             array=strong_OMP_thin_hybrid_static_grid_020k_avg[\"speedup_err\"],\n",
    "                             visible=True)))\n",
    "fig.add_trace(go.Scatter(x=strong_OMP_thin_hybrid_static_grid_040k_avg[\"nthreads_per_process\"][\"mean\"], y=strong_OMP_thin_hybrid_static_grid_040k_avg[\"real_speedup\"], name='hybrid v2 40k',\n",
    "                         error_y=dict(\n",
    "                             type=\"data\",\n",
    "                             array=strong_OMP_thin_hybrid_static_grid_040k_avg[\"speedup_err\"],\n",
    "                             visible=True)))\n",
    "fig.add_trace(go.Scatter(x=strong_OMP_thin_hybrid_static_grid_010k_avg[\"nthreads_per_process\"][\"mean\"][7:], y=strong_OMP_thin_hybrid_static_grid_010k_avg[\"expected_speedup\"][7:], name='expected speedup'))\n",
    "\n",
    "fig.update_layout(\n",
    "    title=go.layout.Title(\n",
    "        text=\"Strong OMP Speedup<br><sup>THIN node - matrix size: 10k,20k,40k - OMP places: cores, OMP bind: close</sup>\",\n",
    "        xref=\"paper\",\n",
    "        x=0,\n",
    "    ),\n",
    "    xaxis_title=\"threads per MPI process<br><sup>1 MPI process per socket (2 sockets)</sup>\",\n",
    "    xaxis = dict(\n",
    "        tickmode = 'linear',\n",
    "        tick0 = '1',\n",
    "        dtick = '1'\n",
    "    ),\n",
    "    yaxis_title=\"Speedup\",\n",
    "    yaxis = dict(\n",
    "        tickmode='linear',\n",
    "        tick0='1',\n",
    "        dtick='1'\n",
    "    ),\n",
    "    legend_title=\"Version\",\n",
    "    font=dict(\n",
    "        family=\"Courier New, monospace\",\n",
    "        size=18,\n",
    "    ),\n",
    "    colorway=[\"#1b9e77\",\"#fcae91\",\"#fb6a4a\",\"#cb181d\",\"#7570b3\"],\n",
    "    autosize=False,\n",
    "    width=1000,\n",
    "    height=800,\n",
    ")\n",
    "fig.show()\n",
    "fig.write_image(\"/home/andres/hpc/Foundations_of_HPC_2022/Assignment/my_assignment/report/images/strong_OMP_thin_hybrid_speedup.pdf\", height=800, width=1000)"
   ]
  },
  {
   "cell_type": "markdown",
   "metadata": {},
   "source": [
    "## EPYC"
   ]
  },
  {
   "cell_type": "code",
   "execution_count": 75,
   "metadata": {},
   "outputs": [
    {
     "data": {
      "application/vnd.plotly.v1+json": {
       "config": {
        "plotlyServerURL": "https://plot.ly"
       },
       "data": [
        {
         "error_y": {
          "array": [
           0.02450936595149604,
           0.014864681784163596,
           0.009418615930403156,
           0.006224898115185878,
           0.00569968014307226,
           0.006751397817407078,
           0.011212643617809331,
           0.0051210943448533565,
           0.007418893613231374
          ],
          "type": "data",
          "visible": true
         },
         "name": "hybrid v1 close",
         "type": "scatter",
         "x": [
          1,
          8,
          16,
          24,
          32,
          40,
          48,
          56,
          64
         ],
         "y": [
          61.432487300000005,
          8.092998099999999,
          4.1462084,
          3.0861869,
          2.3835348,
          2.0652014000000003,
          1.7248083,
          1.4985448,
          1.312239
         ]
        },
        {
         "error_y": {
          "array": [
           0.007299720290683679,
           0.005898239557510183,
           0.007827907408752301,
           0.00893429625158635,
           0.0074085061659629955,
           0.009952388582088646,
           0.007585756787852147,
           0.010177348585079607,
           0.008920954236453003
          ],
          "type": "data",
          "visible": true
         },
         "name": "hybrid v2 close",
         "type": "scatter",
         "x": [
          1,
          8,
          16,
          24,
          32,
          40,
          48,
          56,
          64
         ],
         "y": [
          30.795197899999998,
          3.9825019,
          2.0411998000000002,
          1.4016818,
          1.0691205,
          1.0721926,
          0.8337655999999999,
          0.801262,
          0.7392806000000001
         ]
        },
        {
         "error_y": {
          "array": [
           0.040279162548394525,
           0.09552076049302939,
           0.05452849028372422,
           0.027654665272487614,
           0.014802282447499643,
           0.020380909817495747,
           0.004327173556594384,
           0.029643680627674307,
           0.031411179663899544
          ],
          "type": "data",
          "visible": true
         },
         "name": "hybrid v1 spread",
         "type": "scatter",
         "x": [
          1,
          8,
          16,
          24,
          32,
          40,
          48,
          56,
          64
         ],
         "y": [
          61.68685359999999,
          10.1939255,
          5.2046362,
          3.4365720000000004,
          2.5422119000000003,
          2.0534189,
          1.7013919000000002,
          1.4580166,
          1.2850911
         ]
        },
        {
         "error_y": {
          "array": [
           0.021206351287605972,
           0.059650723566068965,
           0.04293627890891849,
           0.017425582458302787,
           0.015367896993769519,
           0.0056201001928593486,
           0.008598966739608254,
           0.007357876611722531,
           0.04500816836284027
          ],
          "type": "data",
          "visible": true
         },
         "name": "hybrid v2 spread",
         "type": "scatter",
         "x": [
          1,
          8,
          16,
          24,
          32,
          40,
          48,
          56,
          64
         ],
         "y": [
          30.902387599999997,
          4.9473978,
          2.4852891,
          1.6261196999999998,
          1.1768283,
          1.1237302,
          0.8115041,
          0.7614202999999999,
          0.7364256
         ]
        }
       ],
       "layout": {
        "colorway": [
         "#1b9e77",
         "#fcae91",
         "#9ecae1",
         "#c51b8a"
        ],
        "font": {
         "family": "Courier New, monospace",
         "size": 18
        },
        "legend": {
         "title": {
          "text": "Version"
         }
        },
        "template": {
         "data": {
          "bar": [
           {
            "error_x": {
             "color": "#2a3f5f"
            },
            "error_y": {
             "color": "#2a3f5f"
            },
            "marker": {
             "line": {
              "color": "#E5ECF6",
              "width": 0.5
             },
             "pattern": {
              "fillmode": "overlay",
              "size": 10,
              "solidity": 0.2
             }
            },
            "type": "bar"
           }
          ],
          "barpolar": [
           {
            "marker": {
             "line": {
              "color": "#E5ECF6",
              "width": 0.5
             },
             "pattern": {
              "fillmode": "overlay",
              "size": 10,
              "solidity": 0.2
             }
            },
            "type": "barpolar"
           }
          ],
          "carpet": [
           {
            "aaxis": {
             "endlinecolor": "#2a3f5f",
             "gridcolor": "white",
             "linecolor": "white",
             "minorgridcolor": "white",
             "startlinecolor": "#2a3f5f"
            },
            "baxis": {
             "endlinecolor": "#2a3f5f",
             "gridcolor": "white",
             "linecolor": "white",
             "minorgridcolor": "white",
             "startlinecolor": "#2a3f5f"
            },
            "type": "carpet"
           }
          ],
          "choropleth": [
           {
            "colorbar": {
             "outlinewidth": 0,
             "ticks": ""
            },
            "type": "choropleth"
           }
          ],
          "contour": [
           {
            "colorbar": {
             "outlinewidth": 0,
             "ticks": ""
            },
            "colorscale": [
             [
              0,
              "#0d0887"
             ],
             [
              0.1111111111111111,
              "#46039f"
             ],
             [
              0.2222222222222222,
              "#7201a8"
             ],
             [
              0.3333333333333333,
              "#9c179e"
             ],
             [
              0.4444444444444444,
              "#bd3786"
             ],
             [
              0.5555555555555556,
              "#d8576b"
             ],
             [
              0.6666666666666666,
              "#ed7953"
             ],
             [
              0.7777777777777778,
              "#fb9f3a"
             ],
             [
              0.8888888888888888,
              "#fdca26"
             ],
             [
              1,
              "#f0f921"
             ]
            ],
            "type": "contour"
           }
          ],
          "contourcarpet": [
           {
            "colorbar": {
             "outlinewidth": 0,
             "ticks": ""
            },
            "type": "contourcarpet"
           }
          ],
          "heatmap": [
           {
            "colorbar": {
             "outlinewidth": 0,
             "ticks": ""
            },
            "colorscale": [
             [
              0,
              "#0d0887"
             ],
             [
              0.1111111111111111,
              "#46039f"
             ],
             [
              0.2222222222222222,
              "#7201a8"
             ],
             [
              0.3333333333333333,
              "#9c179e"
             ],
             [
              0.4444444444444444,
              "#bd3786"
             ],
             [
              0.5555555555555556,
              "#d8576b"
             ],
             [
              0.6666666666666666,
              "#ed7953"
             ],
             [
              0.7777777777777778,
              "#fb9f3a"
             ],
             [
              0.8888888888888888,
              "#fdca26"
             ],
             [
              1,
              "#f0f921"
             ]
            ],
            "type": "heatmap"
           }
          ],
          "heatmapgl": [
           {
            "colorbar": {
             "outlinewidth": 0,
             "ticks": ""
            },
            "colorscale": [
             [
              0,
              "#0d0887"
             ],
             [
              0.1111111111111111,
              "#46039f"
             ],
             [
              0.2222222222222222,
              "#7201a8"
             ],
             [
              0.3333333333333333,
              "#9c179e"
             ],
             [
              0.4444444444444444,
              "#bd3786"
             ],
             [
              0.5555555555555556,
              "#d8576b"
             ],
             [
              0.6666666666666666,
              "#ed7953"
             ],
             [
              0.7777777777777778,
              "#fb9f3a"
             ],
             [
              0.8888888888888888,
              "#fdca26"
             ],
             [
              1,
              "#f0f921"
             ]
            ],
            "type": "heatmapgl"
           }
          ],
          "histogram": [
           {
            "marker": {
             "pattern": {
              "fillmode": "overlay",
              "size": 10,
              "solidity": 0.2
             }
            },
            "type": "histogram"
           }
          ],
          "histogram2d": [
           {
            "colorbar": {
             "outlinewidth": 0,
             "ticks": ""
            },
            "colorscale": [
             [
              0,
              "#0d0887"
             ],
             [
              0.1111111111111111,
              "#46039f"
             ],
             [
              0.2222222222222222,
              "#7201a8"
             ],
             [
              0.3333333333333333,
              "#9c179e"
             ],
             [
              0.4444444444444444,
              "#bd3786"
             ],
             [
              0.5555555555555556,
              "#d8576b"
             ],
             [
              0.6666666666666666,
              "#ed7953"
             ],
             [
              0.7777777777777778,
              "#fb9f3a"
             ],
             [
              0.8888888888888888,
              "#fdca26"
             ],
             [
              1,
              "#f0f921"
             ]
            ],
            "type": "histogram2d"
           }
          ],
          "histogram2dcontour": [
           {
            "colorbar": {
             "outlinewidth": 0,
             "ticks": ""
            },
            "colorscale": [
             [
              0,
              "#0d0887"
             ],
             [
              0.1111111111111111,
              "#46039f"
             ],
             [
              0.2222222222222222,
              "#7201a8"
             ],
             [
              0.3333333333333333,
              "#9c179e"
             ],
             [
              0.4444444444444444,
              "#bd3786"
             ],
             [
              0.5555555555555556,
              "#d8576b"
             ],
             [
              0.6666666666666666,
              "#ed7953"
             ],
             [
              0.7777777777777778,
              "#fb9f3a"
             ],
             [
              0.8888888888888888,
              "#fdca26"
             ],
             [
              1,
              "#f0f921"
             ]
            ],
            "type": "histogram2dcontour"
           }
          ],
          "mesh3d": [
           {
            "colorbar": {
             "outlinewidth": 0,
             "ticks": ""
            },
            "type": "mesh3d"
           }
          ],
          "parcoords": [
           {
            "line": {
             "colorbar": {
              "outlinewidth": 0,
              "ticks": ""
             }
            },
            "type": "parcoords"
           }
          ],
          "pie": [
           {
            "automargin": true,
            "type": "pie"
           }
          ],
          "scatter": [
           {
            "fillpattern": {
             "fillmode": "overlay",
             "size": 10,
             "solidity": 0.2
            },
            "type": "scatter"
           }
          ],
          "scatter3d": [
           {
            "line": {
             "colorbar": {
              "outlinewidth": 0,
              "ticks": ""
             }
            },
            "marker": {
             "colorbar": {
              "outlinewidth": 0,
              "ticks": ""
             }
            },
            "type": "scatter3d"
           }
          ],
          "scattercarpet": [
           {
            "marker": {
             "colorbar": {
              "outlinewidth": 0,
              "ticks": ""
             }
            },
            "type": "scattercarpet"
           }
          ],
          "scattergeo": [
           {
            "marker": {
             "colorbar": {
              "outlinewidth": 0,
              "ticks": ""
             }
            },
            "type": "scattergeo"
           }
          ],
          "scattergl": [
           {
            "marker": {
             "colorbar": {
              "outlinewidth": 0,
              "ticks": ""
             }
            },
            "type": "scattergl"
           }
          ],
          "scattermapbox": [
           {
            "marker": {
             "colorbar": {
              "outlinewidth": 0,
              "ticks": ""
             }
            },
            "type": "scattermapbox"
           }
          ],
          "scatterpolar": [
           {
            "marker": {
             "colorbar": {
              "outlinewidth": 0,
              "ticks": ""
             }
            },
            "type": "scatterpolar"
           }
          ],
          "scatterpolargl": [
           {
            "marker": {
             "colorbar": {
              "outlinewidth": 0,
              "ticks": ""
             }
            },
            "type": "scatterpolargl"
           }
          ],
          "scatterternary": [
           {
            "marker": {
             "colorbar": {
              "outlinewidth": 0,
              "ticks": ""
             }
            },
            "type": "scatterternary"
           }
          ],
          "surface": [
           {
            "colorbar": {
             "outlinewidth": 0,
             "ticks": ""
            },
            "colorscale": [
             [
              0,
              "#0d0887"
             ],
             [
              0.1111111111111111,
              "#46039f"
             ],
             [
              0.2222222222222222,
              "#7201a8"
             ],
             [
              0.3333333333333333,
              "#9c179e"
             ],
             [
              0.4444444444444444,
              "#bd3786"
             ],
             [
              0.5555555555555556,
              "#d8576b"
             ],
             [
              0.6666666666666666,
              "#ed7953"
             ],
             [
              0.7777777777777778,
              "#fb9f3a"
             ],
             [
              0.8888888888888888,
              "#fdca26"
             ],
             [
              1,
              "#f0f921"
             ]
            ],
            "type": "surface"
           }
          ],
          "table": [
           {
            "cells": {
             "fill": {
              "color": "#EBF0F8"
             },
             "line": {
              "color": "white"
             }
            },
            "header": {
             "fill": {
              "color": "#C8D4E3"
             },
             "line": {
              "color": "white"
             }
            },
            "type": "table"
           }
          ]
         },
         "layout": {
          "annotationdefaults": {
           "arrowcolor": "#2a3f5f",
           "arrowhead": 0,
           "arrowwidth": 1
          },
          "autotypenumbers": "strict",
          "coloraxis": {
           "colorbar": {
            "outlinewidth": 0,
            "ticks": ""
           }
          },
          "colorscale": {
           "diverging": [
            [
             0,
             "#8e0152"
            ],
            [
             0.1,
             "#c51b7d"
            ],
            [
             0.2,
             "#de77ae"
            ],
            [
             0.3,
             "#f1b6da"
            ],
            [
             0.4,
             "#fde0ef"
            ],
            [
             0.5,
             "#f7f7f7"
            ],
            [
             0.6,
             "#e6f5d0"
            ],
            [
             0.7,
             "#b8e186"
            ],
            [
             0.8,
             "#7fbc41"
            ],
            [
             0.9,
             "#4d9221"
            ],
            [
             1,
             "#276419"
            ]
           ],
           "sequential": [
            [
             0,
             "#0d0887"
            ],
            [
             0.1111111111111111,
             "#46039f"
            ],
            [
             0.2222222222222222,
             "#7201a8"
            ],
            [
             0.3333333333333333,
             "#9c179e"
            ],
            [
             0.4444444444444444,
             "#bd3786"
            ],
            [
             0.5555555555555556,
             "#d8576b"
            ],
            [
             0.6666666666666666,
             "#ed7953"
            ],
            [
             0.7777777777777778,
             "#fb9f3a"
            ],
            [
             0.8888888888888888,
             "#fdca26"
            ],
            [
             1,
             "#f0f921"
            ]
           ],
           "sequentialminus": [
            [
             0,
             "#0d0887"
            ],
            [
             0.1111111111111111,
             "#46039f"
            ],
            [
             0.2222222222222222,
             "#7201a8"
            ],
            [
             0.3333333333333333,
             "#9c179e"
            ],
            [
             0.4444444444444444,
             "#bd3786"
            ],
            [
             0.5555555555555556,
             "#d8576b"
            ],
            [
             0.6666666666666666,
             "#ed7953"
            ],
            [
             0.7777777777777778,
             "#fb9f3a"
            ],
            [
             0.8888888888888888,
             "#fdca26"
            ],
            [
             1,
             "#f0f921"
            ]
           ]
          },
          "colorway": [
           "#636efa",
           "#EF553B",
           "#00cc96",
           "#ab63fa",
           "#FFA15A",
           "#19d3f3",
           "#FF6692",
           "#B6E880",
           "#FF97FF",
           "#FECB52"
          ],
          "font": {
           "color": "#2a3f5f"
          },
          "geo": {
           "bgcolor": "white",
           "lakecolor": "white",
           "landcolor": "#E5ECF6",
           "showlakes": true,
           "showland": true,
           "subunitcolor": "white"
          },
          "hoverlabel": {
           "align": "left"
          },
          "hovermode": "closest",
          "mapbox": {
           "style": "light"
          },
          "paper_bgcolor": "white",
          "plot_bgcolor": "#E5ECF6",
          "polar": {
           "angularaxis": {
            "gridcolor": "white",
            "linecolor": "white",
            "ticks": ""
           },
           "bgcolor": "#E5ECF6",
           "radialaxis": {
            "gridcolor": "white",
            "linecolor": "white",
            "ticks": ""
           }
          },
          "scene": {
           "xaxis": {
            "backgroundcolor": "#E5ECF6",
            "gridcolor": "white",
            "gridwidth": 2,
            "linecolor": "white",
            "showbackground": true,
            "ticks": "",
            "zerolinecolor": "white"
           },
           "yaxis": {
            "backgroundcolor": "#E5ECF6",
            "gridcolor": "white",
            "gridwidth": 2,
            "linecolor": "white",
            "showbackground": true,
            "ticks": "",
            "zerolinecolor": "white"
           },
           "zaxis": {
            "backgroundcolor": "#E5ECF6",
            "gridcolor": "white",
            "gridwidth": 2,
            "linecolor": "white",
            "showbackground": true,
            "ticks": "",
            "zerolinecolor": "white"
           }
          },
          "shapedefaults": {
           "line": {
            "color": "#2a3f5f"
           }
          },
          "ternary": {
           "aaxis": {
            "gridcolor": "white",
            "linecolor": "white",
            "ticks": ""
           },
           "baxis": {
            "gridcolor": "white",
            "linecolor": "white",
            "ticks": ""
           },
           "bgcolor": "#E5ECF6",
           "caxis": {
            "gridcolor": "white",
            "linecolor": "white",
            "ticks": ""
           }
          },
          "title": {
           "x": 0.05
          },
          "xaxis": {
           "automargin": true,
           "gridcolor": "white",
           "linecolor": "white",
           "ticks": "",
           "title": {
            "standoff": 15
           },
           "zerolinecolor": "white",
           "zerolinewidth": 2
          },
          "yaxis": {
           "automargin": true,
           "gridcolor": "white",
           "linecolor": "white",
           "ticks": "",
           "title": {
            "standoff": 15
           },
           "zerolinecolor": "white",
           "zerolinewidth": 2
          }
         }
        },
        "title": {
         "text": "Time vs threads per process<br><sup>EPYC node - matrix size: 10k - OMP places: cores, OMP policy: close/spread</sup>",
         "x": 0,
         "xref": "paper"
        },
        "xaxis": {
         "dtick": "8",
         "tick0": "0",
         "tickmode": "linear",
         "title": {
          "text": "threads per MPI process<br><sup>1 MPI process per socket (2 sockets)</sup>"
         }
        },
        "yaxis": {
         "title": {
          "text": "time(s)"
         }
        }
       }
      }
     },
     "metadata": {},
     "output_type": "display_data"
    }
   ],
   "source": [
    "fig = go.Figure()\n",
    "\n",
    "fig.add_trace(go.Scatter(x=strong_OMP_epyc_hybrid_static_grid_010k_close_avg[\"nthreads_per_process\"][\"mean\"][:9], y=strong_OMP_epyc_hybrid_static_grid_010k_close_avg[\"time\"][\"mean\"][:9], name='hybrid v1 close',\n",
    "                         error_y=dict(\n",
    "                             type=\"data\",\n",
    "                             array=strong_OMP_epyc_hybrid_static_grid_010k_close_avg[\"time\"][\"std\"][:9],\n",
    "                             visible=True)))\n",
    "fig.add_trace(go.Scatter(x=strong_OMP_epyc_hybrid_static_grid_010k_close_avg[\"nthreads_per_process\"][\"mean\"][9:], y=strong_OMP_epyc_hybrid_static_grid_010k_close_avg[\"time\"][\"mean\"][9:], name='hybrid v2 close',\n",
    "                         error_y=dict(\n",
    "                             type=\"data\",\n",
    "                             array=strong_OMP_epyc_hybrid_static_grid_010k_close_avg[\"time\"][\"std\"][9:],\n",
    "                             visible=True)))\n",
    "\n",
    "fig.add_trace(go.Scatter(x=strong_OMP_epyc_hybrid_static_grid_010k_spread_avg[\"nthreads_per_process\"][\"mean\"][:9], y=strong_OMP_epyc_hybrid_static_grid_010k_spread_avg[\"time\"][\"mean\"][:9], name='hybrid v1 spread',\n",
    "                         error_y=dict(\n",
    "                             type=\"data\",\n",
    "                             array=strong_OMP_epyc_hybrid_static_grid_010k_spread_avg[\"time\"][\"std\"][:9],\n",
    "                             visible=True)))\n",
    "fig.add_trace(go.Scatter(x=strong_OMP_epyc_hybrid_static_grid_010k_spread_avg[\"nthreads_per_process\"][\"mean\"][9:], y=strong_OMP_epyc_hybrid_static_grid_010k_spread_avg[\"time\"][\"mean\"][9:], name='hybrid v2 spread',\n",
    "                         error_y=dict(\n",
    "                             type=\"data\",\n",
    "                             array=strong_OMP_epyc_hybrid_static_grid_010k_spread_avg[\"time\"][\"std\"][9:],\n",
    "                             visible=True)))\n",
    "fig.update_layout(\n",
    "    title=go.layout.Title(\n",
    "        text=\"Time vs threads per process<br><sup>EPYC node - matrix size: 10k - OMP places: cores, OMP policy: close/spread</sup>\",\n",
    "        xref=\"paper\",\n",
    "        x=0,\n",
    "    ),\n",
    "    xaxis_title=\"threads per MPI process<br><sup>1 MPI process per socket (2 sockets)</sup>\",\n",
    "    xaxis = dict(\n",
    "        tickmode = 'linear',\n",
    "        tick0 = '0',\n",
    "        dtick = '8'\n",
    "    ),\n",
    "    yaxis_title=\"time(s)\",\n",
    "    legend_title=\"Version\",\n",
    "    font=dict(\n",
    "        family=\"Courier New, monospace\",\n",
    "        size=18,\n",
    "    ),\n",
    "    colorway=[\"#1b9e77\",\"#fcae91\",\"#9ecae1\", \"#c51b8a\"],\n",
    ")\n",
    "fig.show()\n",
    "fig.write_image(\"/home/andres/hpc/Foundations_of_HPC_2022/Assignment/my_assignment/report/images/strong_OMP_epyc_hybrid_grid_010k.pdf\", height=500, width=1000)"
   ]
  },
  {
   "cell_type": "code",
   "execution_count": 76,
   "metadata": {},
   "outputs": [
    {
     "data": {
      "application/vnd.plotly.v1+json": {
       "config": {
        "plotlyServerURL": "https://plot.ly"
       },
       "data": [
        {
         "error_y": {
          "array": [
           0.0001999948795584067,
           0.006989075612122627,
           0.01687204918428753,
           0.020126617822659773,
           0.030895162913512905,
           0.048747447112273155,
           0.11606715822167388,
           0.07022735539693718,
           0.13267718875390752
          ],
          "type": "data",
          "visible": true
         },
         "name": "hybrid v1 10k close",
         "type": "scatter",
         "x": [
          1,
          8,
          16,
          24,
          32,
          40,
          48,
          56,
          64
         ],
         "y": [
          0.5012852198156071,
          3.805165591228793,
          7.427315496249537,
          9.978396933769629,
          12.919969911914018,
          14.911474445058962,
          17.854272790779124,
          20.55006823953478,
          23.467674638537645
         ]
        },
        {
         "error_y": {
          "array": [
           0.0002370408631367711,
           0.011452318653773084,
           0.05785723104504605,
           0.14003754218765643,
           0.19959990575618183,
           0.2666028039066709,
           0.3360423152060319,
           0.48816715496720525,
           0.5026615793247178
          ],
          "type": "data",
          "visible": true
         },
         "name": "hybrid v2 10k close",
         "type": "scatter",
         "x": [
          1,
          8,
          16,
          24,
          32,
          40,
          48,
          56,
          64
         ],
         "y": [
          1,
          7.732626040931707,
          15.086812128827367,
          21.97017746823851,
          28.80423478924967,
          28.721703451413486,
          36.935078516072146,
          38.43336873581924,
          41.655628322994
         ]
        },
        {
         "error_y": {
          "array": [
           0.00032710503535426976,
           0.02840579158451963,
           0.062206354787123656,
           0.07236183093850622,
           0.07077782745610406,
           0.14936900661709845,
           0.046194218916637005,
           0.430922552768575,
           0.587771400574919
          ],
          "type": "data",
          "visible": true
         },
         "name": "hybrid v1 10k spread",
         "type": "scatter",
         "x": [
          1,
          8,
          16,
          24,
          32,
          40,
          48,
          56,
          64
         ],
         "y": [
          0.5009558081918446,
          3.0314511912020543,
          5.937473132127851,
          8.992213054171422,
          12.155708814044964,
          15.04923695793391,
          18.163003832332805,
          21.194811910920627,
          24.04684586174474
         ]
        },
        {
         "error_y": {
          "array": [
           0.0006862366611311928,
           0.07531024982706681,
           0.21481401316018728,
           0.20364526494907959,
           0.34291009385353055,
           0.1375346062203036,
           0.40351238386220806,
           0.3921892032709793,
           2.5646353276035527
          ],
          "type": "data",
          "visible": true
         },
         "name": "hybrid v2 10k spread",
         "type": "scatter",
         "x": [
          1,
          8,
          16,
          24,
          32,
          40,
          48,
          56,
          64
         ],
         "y": [
          1,
          6.246190189113153,
          12.434121889481588,
          19.003759440341323,
          26.25904526599165,
          27.499828339578304,
          38.08038382061163,
          40.58519007176457,
          41.962674301382236
         ]
        },
        {
         "name": "expected speedup",
         "type": "scatter",
         "x": [
          1,
          8,
          16,
          24,
          32,
          40,
          48,
          56,
          64
         ],
         "y": [
          1,
          8,
          16,
          24,
          32,
          40,
          48,
          56,
          64
         ]
        }
       ],
       "layout": {
        "autosize": false,
        "colorway": [
         "#1b9e77",
         "#fcae91",
         "#9ecae1",
         "#c51b8a",
         "#7570b3"
        ],
        "font": {
         "family": "Courier New, monospace",
         "size": 18
        },
        "height": 800,
        "legend": {
         "title": {
          "text": "Version"
         }
        },
        "template": {
         "data": {
          "bar": [
           {
            "error_x": {
             "color": "#2a3f5f"
            },
            "error_y": {
             "color": "#2a3f5f"
            },
            "marker": {
             "line": {
              "color": "#E5ECF6",
              "width": 0.5
             },
             "pattern": {
              "fillmode": "overlay",
              "size": 10,
              "solidity": 0.2
             }
            },
            "type": "bar"
           }
          ],
          "barpolar": [
           {
            "marker": {
             "line": {
              "color": "#E5ECF6",
              "width": 0.5
             },
             "pattern": {
              "fillmode": "overlay",
              "size": 10,
              "solidity": 0.2
             }
            },
            "type": "barpolar"
           }
          ],
          "carpet": [
           {
            "aaxis": {
             "endlinecolor": "#2a3f5f",
             "gridcolor": "white",
             "linecolor": "white",
             "minorgridcolor": "white",
             "startlinecolor": "#2a3f5f"
            },
            "baxis": {
             "endlinecolor": "#2a3f5f",
             "gridcolor": "white",
             "linecolor": "white",
             "minorgridcolor": "white",
             "startlinecolor": "#2a3f5f"
            },
            "type": "carpet"
           }
          ],
          "choropleth": [
           {
            "colorbar": {
             "outlinewidth": 0,
             "ticks": ""
            },
            "type": "choropleth"
           }
          ],
          "contour": [
           {
            "colorbar": {
             "outlinewidth": 0,
             "ticks": ""
            },
            "colorscale": [
             [
              0,
              "#0d0887"
             ],
             [
              0.1111111111111111,
              "#46039f"
             ],
             [
              0.2222222222222222,
              "#7201a8"
             ],
             [
              0.3333333333333333,
              "#9c179e"
             ],
             [
              0.4444444444444444,
              "#bd3786"
             ],
             [
              0.5555555555555556,
              "#d8576b"
             ],
             [
              0.6666666666666666,
              "#ed7953"
             ],
             [
              0.7777777777777778,
              "#fb9f3a"
             ],
             [
              0.8888888888888888,
              "#fdca26"
             ],
             [
              1,
              "#f0f921"
             ]
            ],
            "type": "contour"
           }
          ],
          "contourcarpet": [
           {
            "colorbar": {
             "outlinewidth": 0,
             "ticks": ""
            },
            "type": "contourcarpet"
           }
          ],
          "heatmap": [
           {
            "colorbar": {
             "outlinewidth": 0,
             "ticks": ""
            },
            "colorscale": [
             [
              0,
              "#0d0887"
             ],
             [
              0.1111111111111111,
              "#46039f"
             ],
             [
              0.2222222222222222,
              "#7201a8"
             ],
             [
              0.3333333333333333,
              "#9c179e"
             ],
             [
              0.4444444444444444,
              "#bd3786"
             ],
             [
              0.5555555555555556,
              "#d8576b"
             ],
             [
              0.6666666666666666,
              "#ed7953"
             ],
             [
              0.7777777777777778,
              "#fb9f3a"
             ],
             [
              0.8888888888888888,
              "#fdca26"
             ],
             [
              1,
              "#f0f921"
             ]
            ],
            "type": "heatmap"
           }
          ],
          "heatmapgl": [
           {
            "colorbar": {
             "outlinewidth": 0,
             "ticks": ""
            },
            "colorscale": [
             [
              0,
              "#0d0887"
             ],
             [
              0.1111111111111111,
              "#46039f"
             ],
             [
              0.2222222222222222,
              "#7201a8"
             ],
             [
              0.3333333333333333,
              "#9c179e"
             ],
             [
              0.4444444444444444,
              "#bd3786"
             ],
             [
              0.5555555555555556,
              "#d8576b"
             ],
             [
              0.6666666666666666,
              "#ed7953"
             ],
             [
              0.7777777777777778,
              "#fb9f3a"
             ],
             [
              0.8888888888888888,
              "#fdca26"
             ],
             [
              1,
              "#f0f921"
             ]
            ],
            "type": "heatmapgl"
           }
          ],
          "histogram": [
           {
            "marker": {
             "pattern": {
              "fillmode": "overlay",
              "size": 10,
              "solidity": 0.2
             }
            },
            "type": "histogram"
           }
          ],
          "histogram2d": [
           {
            "colorbar": {
             "outlinewidth": 0,
             "ticks": ""
            },
            "colorscale": [
             [
              0,
              "#0d0887"
             ],
             [
              0.1111111111111111,
              "#46039f"
             ],
             [
              0.2222222222222222,
              "#7201a8"
             ],
             [
              0.3333333333333333,
              "#9c179e"
             ],
             [
              0.4444444444444444,
              "#bd3786"
             ],
             [
              0.5555555555555556,
              "#d8576b"
             ],
             [
              0.6666666666666666,
              "#ed7953"
             ],
             [
              0.7777777777777778,
              "#fb9f3a"
             ],
             [
              0.8888888888888888,
              "#fdca26"
             ],
             [
              1,
              "#f0f921"
             ]
            ],
            "type": "histogram2d"
           }
          ],
          "histogram2dcontour": [
           {
            "colorbar": {
             "outlinewidth": 0,
             "ticks": ""
            },
            "colorscale": [
             [
              0,
              "#0d0887"
             ],
             [
              0.1111111111111111,
              "#46039f"
             ],
             [
              0.2222222222222222,
              "#7201a8"
             ],
             [
              0.3333333333333333,
              "#9c179e"
             ],
             [
              0.4444444444444444,
              "#bd3786"
             ],
             [
              0.5555555555555556,
              "#d8576b"
             ],
             [
              0.6666666666666666,
              "#ed7953"
             ],
             [
              0.7777777777777778,
              "#fb9f3a"
             ],
             [
              0.8888888888888888,
              "#fdca26"
             ],
             [
              1,
              "#f0f921"
             ]
            ],
            "type": "histogram2dcontour"
           }
          ],
          "mesh3d": [
           {
            "colorbar": {
             "outlinewidth": 0,
             "ticks": ""
            },
            "type": "mesh3d"
           }
          ],
          "parcoords": [
           {
            "line": {
             "colorbar": {
              "outlinewidth": 0,
              "ticks": ""
             }
            },
            "type": "parcoords"
           }
          ],
          "pie": [
           {
            "automargin": true,
            "type": "pie"
           }
          ],
          "scatter": [
           {
            "fillpattern": {
             "fillmode": "overlay",
             "size": 10,
             "solidity": 0.2
            },
            "type": "scatter"
           }
          ],
          "scatter3d": [
           {
            "line": {
             "colorbar": {
              "outlinewidth": 0,
              "ticks": ""
             }
            },
            "marker": {
             "colorbar": {
              "outlinewidth": 0,
              "ticks": ""
             }
            },
            "type": "scatter3d"
           }
          ],
          "scattercarpet": [
           {
            "marker": {
             "colorbar": {
              "outlinewidth": 0,
              "ticks": ""
             }
            },
            "type": "scattercarpet"
           }
          ],
          "scattergeo": [
           {
            "marker": {
             "colorbar": {
              "outlinewidth": 0,
              "ticks": ""
             }
            },
            "type": "scattergeo"
           }
          ],
          "scattergl": [
           {
            "marker": {
             "colorbar": {
              "outlinewidth": 0,
              "ticks": ""
             }
            },
            "type": "scattergl"
           }
          ],
          "scattermapbox": [
           {
            "marker": {
             "colorbar": {
              "outlinewidth": 0,
              "ticks": ""
             }
            },
            "type": "scattermapbox"
           }
          ],
          "scatterpolar": [
           {
            "marker": {
             "colorbar": {
              "outlinewidth": 0,
              "ticks": ""
             }
            },
            "type": "scatterpolar"
           }
          ],
          "scatterpolargl": [
           {
            "marker": {
             "colorbar": {
              "outlinewidth": 0,
              "ticks": ""
             }
            },
            "type": "scatterpolargl"
           }
          ],
          "scatterternary": [
           {
            "marker": {
             "colorbar": {
              "outlinewidth": 0,
              "ticks": ""
             }
            },
            "type": "scatterternary"
           }
          ],
          "surface": [
           {
            "colorbar": {
             "outlinewidth": 0,
             "ticks": ""
            },
            "colorscale": [
             [
              0,
              "#0d0887"
             ],
             [
              0.1111111111111111,
              "#46039f"
             ],
             [
              0.2222222222222222,
              "#7201a8"
             ],
             [
              0.3333333333333333,
              "#9c179e"
             ],
             [
              0.4444444444444444,
              "#bd3786"
             ],
             [
              0.5555555555555556,
              "#d8576b"
             ],
             [
              0.6666666666666666,
              "#ed7953"
             ],
             [
              0.7777777777777778,
              "#fb9f3a"
             ],
             [
              0.8888888888888888,
              "#fdca26"
             ],
             [
              1,
              "#f0f921"
             ]
            ],
            "type": "surface"
           }
          ],
          "table": [
           {
            "cells": {
             "fill": {
              "color": "#EBF0F8"
             },
             "line": {
              "color": "white"
             }
            },
            "header": {
             "fill": {
              "color": "#C8D4E3"
             },
             "line": {
              "color": "white"
             }
            },
            "type": "table"
           }
          ]
         },
         "layout": {
          "annotationdefaults": {
           "arrowcolor": "#2a3f5f",
           "arrowhead": 0,
           "arrowwidth": 1
          },
          "autotypenumbers": "strict",
          "coloraxis": {
           "colorbar": {
            "outlinewidth": 0,
            "ticks": ""
           }
          },
          "colorscale": {
           "diverging": [
            [
             0,
             "#8e0152"
            ],
            [
             0.1,
             "#c51b7d"
            ],
            [
             0.2,
             "#de77ae"
            ],
            [
             0.3,
             "#f1b6da"
            ],
            [
             0.4,
             "#fde0ef"
            ],
            [
             0.5,
             "#f7f7f7"
            ],
            [
             0.6,
             "#e6f5d0"
            ],
            [
             0.7,
             "#b8e186"
            ],
            [
             0.8,
             "#7fbc41"
            ],
            [
             0.9,
             "#4d9221"
            ],
            [
             1,
             "#276419"
            ]
           ],
           "sequential": [
            [
             0,
             "#0d0887"
            ],
            [
             0.1111111111111111,
             "#46039f"
            ],
            [
             0.2222222222222222,
             "#7201a8"
            ],
            [
             0.3333333333333333,
             "#9c179e"
            ],
            [
             0.4444444444444444,
             "#bd3786"
            ],
            [
             0.5555555555555556,
             "#d8576b"
            ],
            [
             0.6666666666666666,
             "#ed7953"
            ],
            [
             0.7777777777777778,
             "#fb9f3a"
            ],
            [
             0.8888888888888888,
             "#fdca26"
            ],
            [
             1,
             "#f0f921"
            ]
           ],
           "sequentialminus": [
            [
             0,
             "#0d0887"
            ],
            [
             0.1111111111111111,
             "#46039f"
            ],
            [
             0.2222222222222222,
             "#7201a8"
            ],
            [
             0.3333333333333333,
             "#9c179e"
            ],
            [
             0.4444444444444444,
             "#bd3786"
            ],
            [
             0.5555555555555556,
             "#d8576b"
            ],
            [
             0.6666666666666666,
             "#ed7953"
            ],
            [
             0.7777777777777778,
             "#fb9f3a"
            ],
            [
             0.8888888888888888,
             "#fdca26"
            ],
            [
             1,
             "#f0f921"
            ]
           ]
          },
          "colorway": [
           "#636efa",
           "#EF553B",
           "#00cc96",
           "#ab63fa",
           "#FFA15A",
           "#19d3f3",
           "#FF6692",
           "#B6E880",
           "#FF97FF",
           "#FECB52"
          ],
          "font": {
           "color": "#2a3f5f"
          },
          "geo": {
           "bgcolor": "white",
           "lakecolor": "white",
           "landcolor": "#E5ECF6",
           "showlakes": true,
           "showland": true,
           "subunitcolor": "white"
          },
          "hoverlabel": {
           "align": "left"
          },
          "hovermode": "closest",
          "mapbox": {
           "style": "light"
          },
          "paper_bgcolor": "white",
          "plot_bgcolor": "#E5ECF6",
          "polar": {
           "angularaxis": {
            "gridcolor": "white",
            "linecolor": "white",
            "ticks": ""
           },
           "bgcolor": "#E5ECF6",
           "radialaxis": {
            "gridcolor": "white",
            "linecolor": "white",
            "ticks": ""
           }
          },
          "scene": {
           "xaxis": {
            "backgroundcolor": "#E5ECF6",
            "gridcolor": "white",
            "gridwidth": 2,
            "linecolor": "white",
            "showbackground": true,
            "ticks": "",
            "zerolinecolor": "white"
           },
           "yaxis": {
            "backgroundcolor": "#E5ECF6",
            "gridcolor": "white",
            "gridwidth": 2,
            "linecolor": "white",
            "showbackground": true,
            "ticks": "",
            "zerolinecolor": "white"
           },
           "zaxis": {
            "backgroundcolor": "#E5ECF6",
            "gridcolor": "white",
            "gridwidth": 2,
            "linecolor": "white",
            "showbackground": true,
            "ticks": "",
            "zerolinecolor": "white"
           }
          },
          "shapedefaults": {
           "line": {
            "color": "#2a3f5f"
           }
          },
          "ternary": {
           "aaxis": {
            "gridcolor": "white",
            "linecolor": "white",
            "ticks": ""
           },
           "baxis": {
            "gridcolor": "white",
            "linecolor": "white",
            "ticks": ""
           },
           "bgcolor": "#E5ECF6",
           "caxis": {
            "gridcolor": "white",
            "linecolor": "white",
            "ticks": ""
           }
          },
          "title": {
           "x": 0.05
          },
          "xaxis": {
           "automargin": true,
           "gridcolor": "white",
           "linecolor": "white",
           "ticks": "",
           "title": {
            "standoff": 15
           },
           "zerolinecolor": "white",
           "zerolinewidth": 2
          },
          "yaxis": {
           "automargin": true,
           "gridcolor": "white",
           "linecolor": "white",
           "ticks": "",
           "title": {
            "standoff": 15
           },
           "zerolinecolor": "white",
           "zerolinewidth": 2
          }
         }
        },
        "title": {
         "text": "Strong OMP Speedup<br><sup>EPYC node - matrix size: 10k - OMP places: cores, OMP policy: close/spread</sup>",
         "x": 0,
         "xref": "paper"
        },
        "width": 1000,
        "xaxis": {
         "dtick": "8",
         "tick0": "0",
         "tickmode": "linear",
         "title": {
          "text": "threads per MPI process<br><sup>1 MPI process per socket (2 sockets)</sup>"
         }
        },
        "yaxis": {
         "dtick": "8",
         "tick0": "0",
         "tickmode": "linear",
         "title": {
          "text": "Speedup"
         }
        }
       }
      }
     },
     "metadata": {},
     "output_type": "display_data"
    }
   ],
   "source": [
    "strong_OMP_epyc_hybrid_static_grid_010k_close_avg['speedup']=strong_OMP_epyc_hybrid_static_grid_010k_close_avg['time']['mean'][9]/strong_OMP_epyc_hybrid_static_grid_010k_close_avg[\"time\"][\"mean\"]\n",
    "strong_OMP_epyc_hybrid_static_grid_010k_close_avg['expected_speedup']=strong_OMP_epyc_hybrid_static_grid_010k_close_avg['nthreads_per_process']['mean']\n",
    "strong_OMP_epyc_hybrid_static_grid_010k_close_avg['speedup_err']=strong_OMP_epyc_hybrid_static_grid_010k_close_avg[\"time\"][\"std\"]*strong_OMP_epyc_hybrid_static_grid_010k_close_avg['time']['mean'][9]/strong_OMP_epyc_hybrid_static_grid_010k_close_avg[\"time\"][\"mean\"]**2\n",
    "\n",
    "strong_OMP_epyc_hybrid_static_grid_010k_spread_avg['speedup']=strong_OMP_epyc_hybrid_static_grid_010k_spread_avg['time']['mean'][9]/strong_OMP_epyc_hybrid_static_grid_010k_spread_avg[\"time\"][\"mean\"]\n",
    "strong_OMP_epyc_hybrid_static_grid_010k_spread_avg['speedup_err']=strong_OMP_epyc_hybrid_static_grid_010k_spread_avg[\"time\"][\"std\"]*strong_OMP_epyc_hybrid_static_grid_010k_spread_avg['time']['mean'][9]/strong_OMP_epyc_hybrid_static_grid_010k_spread_avg[\"time\"][\"mean\"]**2\n",
    "\n",
    "fig = go.Figure()\n",
    "\n",
    "fig.add_trace(go.Scatter(x=strong_OMP_epyc_hybrid_static_grid_010k_close_avg[\"nthreads_per_process\"][\"mean\"][:9], y=strong_OMP_epyc_hybrid_static_grid_010k_close_avg[\"speedup\"][:9], name='hybrid v1 10k close',\n",
    "                         error_y=dict(\n",
    "                             type=\"data\",\n",
    "                             array=strong_OMP_epyc_hybrid_static_grid_010k_close_avg[\"speedup_err\"][:9],\n",
    "                             visible=True)))\n",
    "fig.add_trace(go.Scatter(x=strong_OMP_epyc_hybrid_static_grid_010k_close_avg[\"nthreads_per_process\"][\"mean\"][9:], y=strong_OMP_epyc_hybrid_static_grid_010k_close_avg[\"speedup\"][9:], name='hybrid v2 10k close',\n",
    "                         error_y=dict(\n",
    "                             type=\"data\",\n",
    "                             array=strong_OMP_epyc_hybrid_static_grid_010k_close_avg[\"speedup_err\"][9:],\n",
    "                             visible=True)))\n",
    "fig.add_trace(go.Scatter(x=strong_OMP_epyc_hybrid_static_grid_010k_spread_avg[\"nthreads_per_process\"][\"mean\"][:9], y=strong_OMP_epyc_hybrid_static_grid_010k_spread_avg[\"speedup\"][:9], name='hybrid v1 10k spread',\n",
    "                         error_y=dict(\n",
    "                             type=\"data\",\n",
    "                             array=strong_OMP_epyc_hybrid_static_grid_010k_spread_avg[\"speedup_err\"][:9],\n",
    "                             visible=True)))\n",
    "fig.add_trace(go.Scatter(x=strong_OMP_epyc_hybrid_static_grid_010k_spread_avg[\"nthreads_per_process\"][\"mean\"][9:], y=strong_OMP_epyc_hybrid_static_grid_010k_spread_avg[\"speedup\"][9:], name='hybrid v2 10k spread',\n",
    "                         error_y=dict(\n",
    "                             type=\"data\",\n",
    "                             array=strong_OMP_epyc_hybrid_static_grid_010k_spread_avg[\"speedup_err\"][9:],\n",
    "                             visible=True)))\n",
    "\n",
    "fig.add_trace(go.Scatter(x=strong_OMP_epyc_hybrid_static_grid_010k_close_avg[\"nthreads_per_process\"][\"mean\"][9:], y=strong_OMP_epyc_hybrid_static_grid_010k_close_avg[\"expected_speedup\"][9:], name='expected speedup'))\n",
    "fig.update_layout(\n",
    "    title=go.layout.Title(\n",
    "        text=\"Strong OMP Speedup<br><sup>EPYC node - matrix size: 10k - OMP places: cores, OMP policy: close/spread</sup>\",\n",
    "        xref=\"paper\",\n",
    "        x=0,\n",
    "    ),\n",
    "    xaxis_title=\"threads per MPI process<br><sup>1 MPI process per socket (2 sockets)</sup>\",\n",
    "    xaxis = dict(\n",
    "        tickmode = 'linear',\n",
    "        tick0 = '0',\n",
    "        dtick = '8'\n",
    "    ),\n",
    "    yaxis_title=\"Speedup\",\n",
    "    yaxis = dict(\n",
    "        tickmode='linear',\n",
    "        tick0='0',\n",
    "        dtick='8'\n",
    "    ),\n",
    "    legend_title=\"Version\",\n",
    "    font=dict(\n",
    "        family=\"Courier New, monospace\",\n",
    "        size=18,\n",
    "    ),\n",
    "    colorway=[\"#1b9e77\",\"#fcae91\",\"#9ecae1\", \"#c51b8a\" ,\"#7570b3\"],\n",
    "    autosize=False,\n",
    "    width=1000,\n",
    "    height=800,\n",
    ")\n",
    "fig.show()\n",
    "fig.write_image(\"/home/andres/hpc/Foundations_of_HPC_2022/Assignment/my_assignment/report/images/strong_OMP_epyc_hybrid_grid_010k_speedup.pdf\", height=800, width=1000)"
   ]
  },
  {
   "cell_type": "code",
   "execution_count": 77,
   "metadata": {},
   "outputs": [
    {
     "data": {
      "application/vnd.plotly.v1+json": {
       "config": {
        "plotlyServerURL": "https://plot.ly"
       },
       "data": [
        {
         "error_y": {
          "array": [
           1.1333583450499103,
           0.1651721027201647,
           0.06844895588198159,
           0.05906673513069428,
           0.06767491397112974,
           0.23318571569959576,
           0.11688986221795719,
           0.33504075028618874,
           0.25145889926652537
          ],
          "type": "data",
          "visible": true
         },
         "name": "hybrid v2 close",
         "type": "scatter",
         "x": [
          1,
          8,
          16,
          24,
          32,
          40,
          48,
          56,
          64
         ],
         "y": [
          770.8526666666667,
          98.03191299999999,
          49.02686033333333,
          33.366153000000004,
          25.185800999999998,
          21.990964333333334,
          19.506388333333334,
          17.345350666666665,
          16.223082333333334
         ]
        },
        {
         "error_y": {
          "array": [
           1.0212840053712033,
           0.37093855901528033,
           0.3332465636617083,
           0.22629771208373323,
           0.1423771142154997,
           0.1650777805399629,
           0.026014756735361244,
           0.4650568850466942,
           0.08945197892910584
          ],
          "type": "data",
          "visible": true
         },
         "name": "hybrid v2 spread",
         "type": "scatter",
         "x": [
          1,
          8,
          16,
          24,
          32,
          40,
          48,
          56,
          64
         ],
         "y": [
          774.0145120000001,
          101.60606433333334,
          50.62488333333334,
          33.994056666666665,
          25.990667666666667,
          22.509973000000002,
          19.179640000000003,
          16.912093333333335,
          15.347474666666665
         ]
        }
       ],
       "layout": {
        "colorway": [
         "#1b9e77",
         "#fcae91",
         "#9ecae1",
         "#c51b8a"
        ],
        "font": {
         "family": "Courier New, monospace",
         "size": 18
        },
        "legend": {
         "title": {
          "text": "Version"
         }
        },
        "template": {
         "data": {
          "bar": [
           {
            "error_x": {
             "color": "#2a3f5f"
            },
            "error_y": {
             "color": "#2a3f5f"
            },
            "marker": {
             "line": {
              "color": "#E5ECF6",
              "width": 0.5
             },
             "pattern": {
              "fillmode": "overlay",
              "size": 10,
              "solidity": 0.2
             }
            },
            "type": "bar"
           }
          ],
          "barpolar": [
           {
            "marker": {
             "line": {
              "color": "#E5ECF6",
              "width": 0.5
             },
             "pattern": {
              "fillmode": "overlay",
              "size": 10,
              "solidity": 0.2
             }
            },
            "type": "barpolar"
           }
          ],
          "carpet": [
           {
            "aaxis": {
             "endlinecolor": "#2a3f5f",
             "gridcolor": "white",
             "linecolor": "white",
             "minorgridcolor": "white",
             "startlinecolor": "#2a3f5f"
            },
            "baxis": {
             "endlinecolor": "#2a3f5f",
             "gridcolor": "white",
             "linecolor": "white",
             "minorgridcolor": "white",
             "startlinecolor": "#2a3f5f"
            },
            "type": "carpet"
           }
          ],
          "choropleth": [
           {
            "colorbar": {
             "outlinewidth": 0,
             "ticks": ""
            },
            "type": "choropleth"
           }
          ],
          "contour": [
           {
            "colorbar": {
             "outlinewidth": 0,
             "ticks": ""
            },
            "colorscale": [
             [
              0,
              "#0d0887"
             ],
             [
              0.1111111111111111,
              "#46039f"
             ],
             [
              0.2222222222222222,
              "#7201a8"
             ],
             [
              0.3333333333333333,
              "#9c179e"
             ],
             [
              0.4444444444444444,
              "#bd3786"
             ],
             [
              0.5555555555555556,
              "#d8576b"
             ],
             [
              0.6666666666666666,
              "#ed7953"
             ],
             [
              0.7777777777777778,
              "#fb9f3a"
             ],
             [
              0.8888888888888888,
              "#fdca26"
             ],
             [
              1,
              "#f0f921"
             ]
            ],
            "type": "contour"
           }
          ],
          "contourcarpet": [
           {
            "colorbar": {
             "outlinewidth": 0,
             "ticks": ""
            },
            "type": "contourcarpet"
           }
          ],
          "heatmap": [
           {
            "colorbar": {
             "outlinewidth": 0,
             "ticks": ""
            },
            "colorscale": [
             [
              0,
              "#0d0887"
             ],
             [
              0.1111111111111111,
              "#46039f"
             ],
             [
              0.2222222222222222,
              "#7201a8"
             ],
             [
              0.3333333333333333,
              "#9c179e"
             ],
             [
              0.4444444444444444,
              "#bd3786"
             ],
             [
              0.5555555555555556,
              "#d8576b"
             ],
             [
              0.6666666666666666,
              "#ed7953"
             ],
             [
              0.7777777777777778,
              "#fb9f3a"
             ],
             [
              0.8888888888888888,
              "#fdca26"
             ],
             [
              1,
              "#f0f921"
             ]
            ],
            "type": "heatmap"
           }
          ],
          "heatmapgl": [
           {
            "colorbar": {
             "outlinewidth": 0,
             "ticks": ""
            },
            "colorscale": [
             [
              0,
              "#0d0887"
             ],
             [
              0.1111111111111111,
              "#46039f"
             ],
             [
              0.2222222222222222,
              "#7201a8"
             ],
             [
              0.3333333333333333,
              "#9c179e"
             ],
             [
              0.4444444444444444,
              "#bd3786"
             ],
             [
              0.5555555555555556,
              "#d8576b"
             ],
             [
              0.6666666666666666,
              "#ed7953"
             ],
             [
              0.7777777777777778,
              "#fb9f3a"
             ],
             [
              0.8888888888888888,
              "#fdca26"
             ],
             [
              1,
              "#f0f921"
             ]
            ],
            "type": "heatmapgl"
           }
          ],
          "histogram": [
           {
            "marker": {
             "pattern": {
              "fillmode": "overlay",
              "size": 10,
              "solidity": 0.2
             }
            },
            "type": "histogram"
           }
          ],
          "histogram2d": [
           {
            "colorbar": {
             "outlinewidth": 0,
             "ticks": ""
            },
            "colorscale": [
             [
              0,
              "#0d0887"
             ],
             [
              0.1111111111111111,
              "#46039f"
             ],
             [
              0.2222222222222222,
              "#7201a8"
             ],
             [
              0.3333333333333333,
              "#9c179e"
             ],
             [
              0.4444444444444444,
              "#bd3786"
             ],
             [
              0.5555555555555556,
              "#d8576b"
             ],
             [
              0.6666666666666666,
              "#ed7953"
             ],
             [
              0.7777777777777778,
              "#fb9f3a"
             ],
             [
              0.8888888888888888,
              "#fdca26"
             ],
             [
              1,
              "#f0f921"
             ]
            ],
            "type": "histogram2d"
           }
          ],
          "histogram2dcontour": [
           {
            "colorbar": {
             "outlinewidth": 0,
             "ticks": ""
            },
            "colorscale": [
             [
              0,
              "#0d0887"
             ],
             [
              0.1111111111111111,
              "#46039f"
             ],
             [
              0.2222222222222222,
              "#7201a8"
             ],
             [
              0.3333333333333333,
              "#9c179e"
             ],
             [
              0.4444444444444444,
              "#bd3786"
             ],
             [
              0.5555555555555556,
              "#d8576b"
             ],
             [
              0.6666666666666666,
              "#ed7953"
             ],
             [
              0.7777777777777778,
              "#fb9f3a"
             ],
             [
              0.8888888888888888,
              "#fdca26"
             ],
             [
              1,
              "#f0f921"
             ]
            ],
            "type": "histogram2dcontour"
           }
          ],
          "mesh3d": [
           {
            "colorbar": {
             "outlinewidth": 0,
             "ticks": ""
            },
            "type": "mesh3d"
           }
          ],
          "parcoords": [
           {
            "line": {
             "colorbar": {
              "outlinewidth": 0,
              "ticks": ""
             }
            },
            "type": "parcoords"
           }
          ],
          "pie": [
           {
            "automargin": true,
            "type": "pie"
           }
          ],
          "scatter": [
           {
            "fillpattern": {
             "fillmode": "overlay",
             "size": 10,
             "solidity": 0.2
            },
            "type": "scatter"
           }
          ],
          "scatter3d": [
           {
            "line": {
             "colorbar": {
              "outlinewidth": 0,
              "ticks": ""
             }
            },
            "marker": {
             "colorbar": {
              "outlinewidth": 0,
              "ticks": ""
             }
            },
            "type": "scatter3d"
           }
          ],
          "scattercarpet": [
           {
            "marker": {
             "colorbar": {
              "outlinewidth": 0,
              "ticks": ""
             }
            },
            "type": "scattercarpet"
           }
          ],
          "scattergeo": [
           {
            "marker": {
             "colorbar": {
              "outlinewidth": 0,
              "ticks": ""
             }
            },
            "type": "scattergeo"
           }
          ],
          "scattergl": [
           {
            "marker": {
             "colorbar": {
              "outlinewidth": 0,
              "ticks": ""
             }
            },
            "type": "scattergl"
           }
          ],
          "scattermapbox": [
           {
            "marker": {
             "colorbar": {
              "outlinewidth": 0,
              "ticks": ""
             }
            },
            "type": "scattermapbox"
           }
          ],
          "scatterpolar": [
           {
            "marker": {
             "colorbar": {
              "outlinewidth": 0,
              "ticks": ""
             }
            },
            "type": "scatterpolar"
           }
          ],
          "scatterpolargl": [
           {
            "marker": {
             "colorbar": {
              "outlinewidth": 0,
              "ticks": ""
             }
            },
            "type": "scatterpolargl"
           }
          ],
          "scatterternary": [
           {
            "marker": {
             "colorbar": {
              "outlinewidth": 0,
              "ticks": ""
             }
            },
            "type": "scatterternary"
           }
          ],
          "surface": [
           {
            "colorbar": {
             "outlinewidth": 0,
             "ticks": ""
            },
            "colorscale": [
             [
              0,
              "#0d0887"
             ],
             [
              0.1111111111111111,
              "#46039f"
             ],
             [
              0.2222222222222222,
              "#7201a8"
             ],
             [
              0.3333333333333333,
              "#9c179e"
             ],
             [
              0.4444444444444444,
              "#bd3786"
             ],
             [
              0.5555555555555556,
              "#d8576b"
             ],
             [
              0.6666666666666666,
              "#ed7953"
             ],
             [
              0.7777777777777778,
              "#fb9f3a"
             ],
             [
              0.8888888888888888,
              "#fdca26"
             ],
             [
              1,
              "#f0f921"
             ]
            ],
            "type": "surface"
           }
          ],
          "table": [
           {
            "cells": {
             "fill": {
              "color": "#EBF0F8"
             },
             "line": {
              "color": "white"
             }
            },
            "header": {
             "fill": {
              "color": "#C8D4E3"
             },
             "line": {
              "color": "white"
             }
            },
            "type": "table"
           }
          ]
         },
         "layout": {
          "annotationdefaults": {
           "arrowcolor": "#2a3f5f",
           "arrowhead": 0,
           "arrowwidth": 1
          },
          "autotypenumbers": "strict",
          "coloraxis": {
           "colorbar": {
            "outlinewidth": 0,
            "ticks": ""
           }
          },
          "colorscale": {
           "diverging": [
            [
             0,
             "#8e0152"
            ],
            [
             0.1,
             "#c51b7d"
            ],
            [
             0.2,
             "#de77ae"
            ],
            [
             0.3,
             "#f1b6da"
            ],
            [
             0.4,
             "#fde0ef"
            ],
            [
             0.5,
             "#f7f7f7"
            ],
            [
             0.6,
             "#e6f5d0"
            ],
            [
             0.7,
             "#b8e186"
            ],
            [
             0.8,
             "#7fbc41"
            ],
            [
             0.9,
             "#4d9221"
            ],
            [
             1,
             "#276419"
            ]
           ],
           "sequential": [
            [
             0,
             "#0d0887"
            ],
            [
             0.1111111111111111,
             "#46039f"
            ],
            [
             0.2222222222222222,
             "#7201a8"
            ],
            [
             0.3333333333333333,
             "#9c179e"
            ],
            [
             0.4444444444444444,
             "#bd3786"
            ],
            [
             0.5555555555555556,
             "#d8576b"
            ],
            [
             0.6666666666666666,
             "#ed7953"
            ],
            [
             0.7777777777777778,
             "#fb9f3a"
            ],
            [
             0.8888888888888888,
             "#fdca26"
            ],
            [
             1,
             "#f0f921"
            ]
           ],
           "sequentialminus": [
            [
             0,
             "#0d0887"
            ],
            [
             0.1111111111111111,
             "#46039f"
            ],
            [
             0.2222222222222222,
             "#7201a8"
            ],
            [
             0.3333333333333333,
             "#9c179e"
            ],
            [
             0.4444444444444444,
             "#bd3786"
            ],
            [
             0.5555555555555556,
             "#d8576b"
            ],
            [
             0.6666666666666666,
             "#ed7953"
            ],
            [
             0.7777777777777778,
             "#fb9f3a"
            ],
            [
             0.8888888888888888,
             "#fdca26"
            ],
            [
             1,
             "#f0f921"
            ]
           ]
          },
          "colorway": [
           "#636efa",
           "#EF553B",
           "#00cc96",
           "#ab63fa",
           "#FFA15A",
           "#19d3f3",
           "#FF6692",
           "#B6E880",
           "#FF97FF",
           "#FECB52"
          ],
          "font": {
           "color": "#2a3f5f"
          },
          "geo": {
           "bgcolor": "white",
           "lakecolor": "white",
           "landcolor": "#E5ECF6",
           "showlakes": true,
           "showland": true,
           "subunitcolor": "white"
          },
          "hoverlabel": {
           "align": "left"
          },
          "hovermode": "closest",
          "mapbox": {
           "style": "light"
          },
          "paper_bgcolor": "white",
          "plot_bgcolor": "#E5ECF6",
          "polar": {
           "angularaxis": {
            "gridcolor": "white",
            "linecolor": "white",
            "ticks": ""
           },
           "bgcolor": "#E5ECF6",
           "radialaxis": {
            "gridcolor": "white",
            "linecolor": "white",
            "ticks": ""
           }
          },
          "scene": {
           "xaxis": {
            "backgroundcolor": "#E5ECF6",
            "gridcolor": "white",
            "gridwidth": 2,
            "linecolor": "white",
            "showbackground": true,
            "ticks": "",
            "zerolinecolor": "white"
           },
           "yaxis": {
            "backgroundcolor": "#E5ECF6",
            "gridcolor": "white",
            "gridwidth": 2,
            "linecolor": "white",
            "showbackground": true,
            "ticks": "",
            "zerolinecolor": "white"
           },
           "zaxis": {
            "backgroundcolor": "#E5ECF6",
            "gridcolor": "white",
            "gridwidth": 2,
            "linecolor": "white",
            "showbackground": true,
            "ticks": "",
            "zerolinecolor": "white"
           }
          },
          "shapedefaults": {
           "line": {
            "color": "#2a3f5f"
           }
          },
          "ternary": {
           "aaxis": {
            "gridcolor": "white",
            "linecolor": "white",
            "ticks": ""
           },
           "baxis": {
            "gridcolor": "white",
            "linecolor": "white",
            "ticks": ""
           },
           "bgcolor": "#E5ECF6",
           "caxis": {
            "gridcolor": "white",
            "linecolor": "white",
            "ticks": ""
           }
          },
          "title": {
           "x": 0.05
          },
          "xaxis": {
           "automargin": true,
           "gridcolor": "white",
           "linecolor": "white",
           "ticks": "",
           "title": {
            "standoff": 15
           },
           "zerolinecolor": "white",
           "zerolinewidth": 2
          },
          "yaxis": {
           "automargin": true,
           "gridcolor": "white",
           "linecolor": "white",
           "ticks": "",
           "title": {
            "standoff": 15
           },
           "zerolinecolor": "white",
           "zerolinewidth": 2
          }
         }
        },
        "title": {
         "text": "Time vs threads per process<br><sup>EPYC node - matrix size: 50k - OMP places: cores, OMP policy: close/spread</sup>",
         "x": 0,
         "xref": "paper"
        },
        "xaxis": {
         "dtick": "8",
         "tick0": "0",
         "tickmode": "linear",
         "title": {
          "text": "threads per MPI process<br><sup>1 MPI process per socket (2 sockets)</sup>"
         }
        },
        "yaxis": {
         "title": {
          "text": "time(s)"
         }
        }
       }
      }
     },
     "metadata": {},
     "output_type": "display_data"
    }
   ],
   "source": [
    "fig = go.Figure()\n",
    "\n",
    "fig.add_trace(go.Scatter(x=strong_OMP_epyc_hybrid_static_grid_050k_close_avg[\"nthreads_per_process\"][\"mean\"], y=strong_OMP_epyc_hybrid_static_grid_050k_close_avg[\"time\"][\"mean\"], name='hybrid v2 close',\n",
    "                         error_y=dict(\n",
    "                             type=\"data\",\n",
    "                             array=strong_OMP_epyc_hybrid_static_grid_050k_close_avg[\"time\"][\"std\"],\n",
    "                             visible=True)))\n",
    "fig.add_trace(go.Scatter(x=strong_OMP_epyc_hybrid_static_grid_050k_spread_avg[\"nthreads_per_process\"][\"mean\"], y=strong_OMP_epyc_hybrid_static_grid_050k_spread_avg[\"time\"][\"mean\"], name='hybrid v2 spread',\n",
    "                         error_y=dict(\n",
    "                             type=\"data\",\n",
    "                             array=strong_OMP_epyc_hybrid_static_grid_050k_spread_avg[\"time\"][\"std\"],\n",
    "                             visible=True)))\n",
    "\n",
    "fig.update_layout(\n",
    "    title=go.layout.Title(\n",
    "        text=\"Time vs threads per process<br><sup>EPYC node - matrix size: 50k - OMP places: cores, OMP policy: close/spread</sup>\",\n",
    "        xref=\"paper\",\n",
    "        x=0,\n",
    "    ),\n",
    "    xaxis_title=\"threads per MPI process<br><sup>1 MPI process per socket (2 sockets)</sup>\",\n",
    "    xaxis = dict(\n",
    "        tickmode = 'linear',\n",
    "        tick0 = '0',\n",
    "        dtick = '8'\n",
    "    ),\n",
    "    yaxis_title=\"time(s)\",\n",
    "    legend_title=\"Version\",\n",
    "    font=dict(\n",
    "        family=\"Courier New, monospace\",\n",
    "        size=18,\n",
    "    ),\n",
    "    colorway=[\"#1b9e77\",\"#fcae91\",\"#9ecae1\", \"#c51b8a\"],\n",
    ")\n",
    "fig.show()\n",
    "fig.write_image(\"/home/andres/hpc/Foundations_of_HPC_2022/Assignment/my_assignment/report/images/strong_OMP_epyc_hybrid_grid_050k.pdf\", height=500, width=1000)"
   ]
  },
  {
   "cell_type": "code",
   "execution_count": 78,
   "metadata": {},
   "outputs": [
    {
     "data": {
      "application/vnd.plotly.v1+json": {
       "config": {
        "plotlyServerURL": "https://plot.ly"
       },
       "data": [
        {
         "error_y": {
          "array": [
           0.0014702658420457913,
           0.013248695589941777,
           0.02195179522940841,
           0.040898000087063284,
           0.08224084357263169,
           0.37169333533239873,
           0.23680697714242885,
           0.8584259605402421,
           0.7364981236498377
          ],
          "type": "data",
          "visible": true
         },
         "name": "hybrid v2 50k close",
         "type": "scatter",
         "x": [
          1,
          8,
          16,
          24,
          32,
          40,
          48,
          56,
          64
         ],
         "y": [
          1,
          7.863282915499841,
          15.72306815948735,
          23.102833181477845,
          30.606636916835274,
          35.053154331128084,
          39.51795962912321,
          44.44145762633953,
          47.51579575496617
         ]
        },
        {
         "error_y": {
          "array": [
           0.0013194636399416803,
           0.027810693893879725,
           0.1006437273151105,
           0.15157349978878826,
           0.1631377308682945,
           0.25216672399559087,
           0.05473787960294786,
           1.258520946621482,
           0.29394441017949985
          ],
          "type": "data",
          "visible": true
         },
         "name": "hybrid v2 50k spread",
         "type": "scatter",
         "x": [
          1,
          8,
          16,
          24,
          32,
          40,
          48,
          56,
          64
         ],
         "y": [
          1,
          7.617798377277304,
          15.289210780074226,
          22.769112836096745,
          29.780478205747777,
          34.38540383855636,
          40.356050061419296,
          45.76692528502287,
          50.432695203015385
         ]
        },
        {
         "name": "expected speedup",
         "type": "scatter",
         "x": [
          1,
          8,
          16,
          24,
          32,
          40,
          48,
          56,
          64
         ],
         "y": [
          1,
          8,
          16,
          24,
          32,
          40,
          48,
          56,
          64
         ]
        }
       ],
       "layout": {
        "autosize": false,
        "colorway": [
         "#1b9e77",
         "#fcae91",
         "#7570b3"
        ],
        "font": {
         "family": "Courier New, monospace",
         "size": 18
        },
        "height": 800,
        "legend": {
         "title": {
          "text": "Version"
         }
        },
        "template": {
         "data": {
          "bar": [
           {
            "error_x": {
             "color": "#2a3f5f"
            },
            "error_y": {
             "color": "#2a3f5f"
            },
            "marker": {
             "line": {
              "color": "#E5ECF6",
              "width": 0.5
             },
             "pattern": {
              "fillmode": "overlay",
              "size": 10,
              "solidity": 0.2
             }
            },
            "type": "bar"
           }
          ],
          "barpolar": [
           {
            "marker": {
             "line": {
              "color": "#E5ECF6",
              "width": 0.5
             },
             "pattern": {
              "fillmode": "overlay",
              "size": 10,
              "solidity": 0.2
             }
            },
            "type": "barpolar"
           }
          ],
          "carpet": [
           {
            "aaxis": {
             "endlinecolor": "#2a3f5f",
             "gridcolor": "white",
             "linecolor": "white",
             "minorgridcolor": "white",
             "startlinecolor": "#2a3f5f"
            },
            "baxis": {
             "endlinecolor": "#2a3f5f",
             "gridcolor": "white",
             "linecolor": "white",
             "minorgridcolor": "white",
             "startlinecolor": "#2a3f5f"
            },
            "type": "carpet"
           }
          ],
          "choropleth": [
           {
            "colorbar": {
             "outlinewidth": 0,
             "ticks": ""
            },
            "type": "choropleth"
           }
          ],
          "contour": [
           {
            "colorbar": {
             "outlinewidth": 0,
             "ticks": ""
            },
            "colorscale": [
             [
              0,
              "#0d0887"
             ],
             [
              0.1111111111111111,
              "#46039f"
             ],
             [
              0.2222222222222222,
              "#7201a8"
             ],
             [
              0.3333333333333333,
              "#9c179e"
             ],
             [
              0.4444444444444444,
              "#bd3786"
             ],
             [
              0.5555555555555556,
              "#d8576b"
             ],
             [
              0.6666666666666666,
              "#ed7953"
             ],
             [
              0.7777777777777778,
              "#fb9f3a"
             ],
             [
              0.8888888888888888,
              "#fdca26"
             ],
             [
              1,
              "#f0f921"
             ]
            ],
            "type": "contour"
           }
          ],
          "contourcarpet": [
           {
            "colorbar": {
             "outlinewidth": 0,
             "ticks": ""
            },
            "type": "contourcarpet"
           }
          ],
          "heatmap": [
           {
            "colorbar": {
             "outlinewidth": 0,
             "ticks": ""
            },
            "colorscale": [
             [
              0,
              "#0d0887"
             ],
             [
              0.1111111111111111,
              "#46039f"
             ],
             [
              0.2222222222222222,
              "#7201a8"
             ],
             [
              0.3333333333333333,
              "#9c179e"
             ],
             [
              0.4444444444444444,
              "#bd3786"
             ],
             [
              0.5555555555555556,
              "#d8576b"
             ],
             [
              0.6666666666666666,
              "#ed7953"
             ],
             [
              0.7777777777777778,
              "#fb9f3a"
             ],
             [
              0.8888888888888888,
              "#fdca26"
             ],
             [
              1,
              "#f0f921"
             ]
            ],
            "type": "heatmap"
           }
          ],
          "heatmapgl": [
           {
            "colorbar": {
             "outlinewidth": 0,
             "ticks": ""
            },
            "colorscale": [
             [
              0,
              "#0d0887"
             ],
             [
              0.1111111111111111,
              "#46039f"
             ],
             [
              0.2222222222222222,
              "#7201a8"
             ],
             [
              0.3333333333333333,
              "#9c179e"
             ],
             [
              0.4444444444444444,
              "#bd3786"
             ],
             [
              0.5555555555555556,
              "#d8576b"
             ],
             [
              0.6666666666666666,
              "#ed7953"
             ],
             [
              0.7777777777777778,
              "#fb9f3a"
             ],
             [
              0.8888888888888888,
              "#fdca26"
             ],
             [
              1,
              "#f0f921"
             ]
            ],
            "type": "heatmapgl"
           }
          ],
          "histogram": [
           {
            "marker": {
             "pattern": {
              "fillmode": "overlay",
              "size": 10,
              "solidity": 0.2
             }
            },
            "type": "histogram"
           }
          ],
          "histogram2d": [
           {
            "colorbar": {
             "outlinewidth": 0,
             "ticks": ""
            },
            "colorscale": [
             [
              0,
              "#0d0887"
             ],
             [
              0.1111111111111111,
              "#46039f"
             ],
             [
              0.2222222222222222,
              "#7201a8"
             ],
             [
              0.3333333333333333,
              "#9c179e"
             ],
             [
              0.4444444444444444,
              "#bd3786"
             ],
             [
              0.5555555555555556,
              "#d8576b"
             ],
             [
              0.6666666666666666,
              "#ed7953"
             ],
             [
              0.7777777777777778,
              "#fb9f3a"
             ],
             [
              0.8888888888888888,
              "#fdca26"
             ],
             [
              1,
              "#f0f921"
             ]
            ],
            "type": "histogram2d"
           }
          ],
          "histogram2dcontour": [
           {
            "colorbar": {
             "outlinewidth": 0,
             "ticks": ""
            },
            "colorscale": [
             [
              0,
              "#0d0887"
             ],
             [
              0.1111111111111111,
              "#46039f"
             ],
             [
              0.2222222222222222,
              "#7201a8"
             ],
             [
              0.3333333333333333,
              "#9c179e"
             ],
             [
              0.4444444444444444,
              "#bd3786"
             ],
             [
              0.5555555555555556,
              "#d8576b"
             ],
             [
              0.6666666666666666,
              "#ed7953"
             ],
             [
              0.7777777777777778,
              "#fb9f3a"
             ],
             [
              0.8888888888888888,
              "#fdca26"
             ],
             [
              1,
              "#f0f921"
             ]
            ],
            "type": "histogram2dcontour"
           }
          ],
          "mesh3d": [
           {
            "colorbar": {
             "outlinewidth": 0,
             "ticks": ""
            },
            "type": "mesh3d"
           }
          ],
          "parcoords": [
           {
            "line": {
             "colorbar": {
              "outlinewidth": 0,
              "ticks": ""
             }
            },
            "type": "parcoords"
           }
          ],
          "pie": [
           {
            "automargin": true,
            "type": "pie"
           }
          ],
          "scatter": [
           {
            "fillpattern": {
             "fillmode": "overlay",
             "size": 10,
             "solidity": 0.2
            },
            "type": "scatter"
           }
          ],
          "scatter3d": [
           {
            "line": {
             "colorbar": {
              "outlinewidth": 0,
              "ticks": ""
             }
            },
            "marker": {
             "colorbar": {
              "outlinewidth": 0,
              "ticks": ""
             }
            },
            "type": "scatter3d"
           }
          ],
          "scattercarpet": [
           {
            "marker": {
             "colorbar": {
              "outlinewidth": 0,
              "ticks": ""
             }
            },
            "type": "scattercarpet"
           }
          ],
          "scattergeo": [
           {
            "marker": {
             "colorbar": {
              "outlinewidth": 0,
              "ticks": ""
             }
            },
            "type": "scattergeo"
           }
          ],
          "scattergl": [
           {
            "marker": {
             "colorbar": {
              "outlinewidth": 0,
              "ticks": ""
             }
            },
            "type": "scattergl"
           }
          ],
          "scattermapbox": [
           {
            "marker": {
             "colorbar": {
              "outlinewidth": 0,
              "ticks": ""
             }
            },
            "type": "scattermapbox"
           }
          ],
          "scatterpolar": [
           {
            "marker": {
             "colorbar": {
              "outlinewidth": 0,
              "ticks": ""
             }
            },
            "type": "scatterpolar"
           }
          ],
          "scatterpolargl": [
           {
            "marker": {
             "colorbar": {
              "outlinewidth": 0,
              "ticks": ""
             }
            },
            "type": "scatterpolargl"
           }
          ],
          "scatterternary": [
           {
            "marker": {
             "colorbar": {
              "outlinewidth": 0,
              "ticks": ""
             }
            },
            "type": "scatterternary"
           }
          ],
          "surface": [
           {
            "colorbar": {
             "outlinewidth": 0,
             "ticks": ""
            },
            "colorscale": [
             [
              0,
              "#0d0887"
             ],
             [
              0.1111111111111111,
              "#46039f"
             ],
             [
              0.2222222222222222,
              "#7201a8"
             ],
             [
              0.3333333333333333,
              "#9c179e"
             ],
             [
              0.4444444444444444,
              "#bd3786"
             ],
             [
              0.5555555555555556,
              "#d8576b"
             ],
             [
              0.6666666666666666,
              "#ed7953"
             ],
             [
              0.7777777777777778,
              "#fb9f3a"
             ],
             [
              0.8888888888888888,
              "#fdca26"
             ],
             [
              1,
              "#f0f921"
             ]
            ],
            "type": "surface"
           }
          ],
          "table": [
           {
            "cells": {
             "fill": {
              "color": "#EBF0F8"
             },
             "line": {
              "color": "white"
             }
            },
            "header": {
             "fill": {
              "color": "#C8D4E3"
             },
             "line": {
              "color": "white"
             }
            },
            "type": "table"
           }
          ]
         },
         "layout": {
          "annotationdefaults": {
           "arrowcolor": "#2a3f5f",
           "arrowhead": 0,
           "arrowwidth": 1
          },
          "autotypenumbers": "strict",
          "coloraxis": {
           "colorbar": {
            "outlinewidth": 0,
            "ticks": ""
           }
          },
          "colorscale": {
           "diverging": [
            [
             0,
             "#8e0152"
            ],
            [
             0.1,
             "#c51b7d"
            ],
            [
             0.2,
             "#de77ae"
            ],
            [
             0.3,
             "#f1b6da"
            ],
            [
             0.4,
             "#fde0ef"
            ],
            [
             0.5,
             "#f7f7f7"
            ],
            [
             0.6,
             "#e6f5d0"
            ],
            [
             0.7,
             "#b8e186"
            ],
            [
             0.8,
             "#7fbc41"
            ],
            [
             0.9,
             "#4d9221"
            ],
            [
             1,
             "#276419"
            ]
           ],
           "sequential": [
            [
             0,
             "#0d0887"
            ],
            [
             0.1111111111111111,
             "#46039f"
            ],
            [
             0.2222222222222222,
             "#7201a8"
            ],
            [
             0.3333333333333333,
             "#9c179e"
            ],
            [
             0.4444444444444444,
             "#bd3786"
            ],
            [
             0.5555555555555556,
             "#d8576b"
            ],
            [
             0.6666666666666666,
             "#ed7953"
            ],
            [
             0.7777777777777778,
             "#fb9f3a"
            ],
            [
             0.8888888888888888,
             "#fdca26"
            ],
            [
             1,
             "#f0f921"
            ]
           ],
           "sequentialminus": [
            [
             0,
             "#0d0887"
            ],
            [
             0.1111111111111111,
             "#46039f"
            ],
            [
             0.2222222222222222,
             "#7201a8"
            ],
            [
             0.3333333333333333,
             "#9c179e"
            ],
            [
             0.4444444444444444,
             "#bd3786"
            ],
            [
             0.5555555555555556,
             "#d8576b"
            ],
            [
             0.6666666666666666,
             "#ed7953"
            ],
            [
             0.7777777777777778,
             "#fb9f3a"
            ],
            [
             0.8888888888888888,
             "#fdca26"
            ],
            [
             1,
             "#f0f921"
            ]
           ]
          },
          "colorway": [
           "#636efa",
           "#EF553B",
           "#00cc96",
           "#ab63fa",
           "#FFA15A",
           "#19d3f3",
           "#FF6692",
           "#B6E880",
           "#FF97FF",
           "#FECB52"
          ],
          "font": {
           "color": "#2a3f5f"
          },
          "geo": {
           "bgcolor": "white",
           "lakecolor": "white",
           "landcolor": "#E5ECF6",
           "showlakes": true,
           "showland": true,
           "subunitcolor": "white"
          },
          "hoverlabel": {
           "align": "left"
          },
          "hovermode": "closest",
          "mapbox": {
           "style": "light"
          },
          "paper_bgcolor": "white",
          "plot_bgcolor": "#E5ECF6",
          "polar": {
           "angularaxis": {
            "gridcolor": "white",
            "linecolor": "white",
            "ticks": ""
           },
           "bgcolor": "#E5ECF6",
           "radialaxis": {
            "gridcolor": "white",
            "linecolor": "white",
            "ticks": ""
           }
          },
          "scene": {
           "xaxis": {
            "backgroundcolor": "#E5ECF6",
            "gridcolor": "white",
            "gridwidth": 2,
            "linecolor": "white",
            "showbackground": true,
            "ticks": "",
            "zerolinecolor": "white"
           },
           "yaxis": {
            "backgroundcolor": "#E5ECF6",
            "gridcolor": "white",
            "gridwidth": 2,
            "linecolor": "white",
            "showbackground": true,
            "ticks": "",
            "zerolinecolor": "white"
           },
           "zaxis": {
            "backgroundcolor": "#E5ECF6",
            "gridcolor": "white",
            "gridwidth": 2,
            "linecolor": "white",
            "showbackground": true,
            "ticks": "",
            "zerolinecolor": "white"
           }
          },
          "shapedefaults": {
           "line": {
            "color": "#2a3f5f"
           }
          },
          "ternary": {
           "aaxis": {
            "gridcolor": "white",
            "linecolor": "white",
            "ticks": ""
           },
           "baxis": {
            "gridcolor": "white",
            "linecolor": "white",
            "ticks": ""
           },
           "bgcolor": "#E5ECF6",
           "caxis": {
            "gridcolor": "white",
            "linecolor": "white",
            "ticks": ""
           }
          },
          "title": {
           "x": 0.05
          },
          "xaxis": {
           "automargin": true,
           "gridcolor": "white",
           "linecolor": "white",
           "ticks": "",
           "title": {
            "standoff": 15
           },
           "zerolinecolor": "white",
           "zerolinewidth": 2
          },
          "yaxis": {
           "automargin": true,
           "gridcolor": "white",
           "linecolor": "white",
           "ticks": "",
           "title": {
            "standoff": 15
           },
           "zerolinecolor": "white",
           "zerolinewidth": 2
          }
         }
        },
        "title": {
         "text": "Strong OMP Speedup<br><sup>EPYC node - matrix size: 50k - OMP places: cores, OMP policy: close/spread</sup>",
         "x": 0,
         "xref": "paper"
        },
        "width": 1000,
        "xaxis": {
         "dtick": "8",
         "tick0": "0",
         "tickmode": "linear",
         "title": {
          "text": "threads per MPI process<br><sup>1 MPI process per socket (2 sockets)</sup>"
         }
        },
        "yaxis": {
         "dtick": "8",
         "tick0": "0",
         "tickmode": "linear",
         "title": {
          "text": "Speedup"
         }
        }
       }
      }
     },
     "metadata": {},
     "output_type": "display_data"
    }
   ],
   "source": [
    "strong_OMP_epyc_hybrid_static_grid_050k_close_avg['speedup']=strong_OMP_epyc_hybrid_static_grid_050k_close_avg['time']['mean'][0]/strong_OMP_epyc_hybrid_static_grid_050k_close_avg[\"time\"][\"mean\"]\n",
    "strong_OMP_epyc_hybrid_static_grid_050k_close_avg['expected_speedup']=strong_OMP_epyc_hybrid_static_grid_050k_close_avg['nthreads_per_process']['mean']\n",
    "strong_OMP_epyc_hybrid_static_grid_050k_close_avg['speedup_err']=strong_OMP_epyc_hybrid_static_grid_050k_close_avg[\"time\"][\"std\"]*strong_OMP_epyc_hybrid_static_grid_050k_close_avg['time']['mean'][0]/strong_OMP_epyc_hybrid_static_grid_050k_close_avg[\"time\"][\"mean\"]**2\n",
    "\n",
    "strong_OMP_epyc_hybrid_static_grid_050k_spread_avg['speedup']=strong_OMP_epyc_hybrid_static_grid_050k_spread_avg['time']['mean'][0]/strong_OMP_epyc_hybrid_static_grid_050k_spread_avg[\"time\"][\"mean\"]\n",
    "strong_OMP_epyc_hybrid_static_grid_050k_spread_avg['speedup_err']=strong_OMP_epyc_hybrid_static_grid_050k_spread_avg[\"time\"][\"std\"]*strong_OMP_epyc_hybrid_static_grid_050k_spread_avg['time']['mean'][0]/strong_OMP_epyc_hybrid_static_grid_050k_spread_avg[\"time\"][\"mean\"]**2\n",
    "\n",
    "fig = go.Figure()\n",
    "\n",
    "fig.add_trace(go.Scatter(x=strong_OMP_epyc_hybrid_static_grid_050k_close_avg[\"nthreads_per_process\"][\"mean\"], y=strong_OMP_epyc_hybrid_static_grid_050k_close_avg[\"speedup\"], name='hybrid v2 50k close',\n",
    "                         error_y=dict(\n",
    "                             type=\"data\",\n",
    "                             array=strong_OMP_epyc_hybrid_static_grid_050k_close_avg[\"speedup_err\"],\n",
    "                             visible=True)))\n",
    "fig.add_trace(go.Scatter(x=strong_OMP_epyc_hybrid_static_grid_050k_spread_avg[\"nthreads_per_process\"][\"mean\"], y=strong_OMP_epyc_hybrid_static_grid_050k_spread_avg[\"speedup\"], name='hybrid v2 50k spread',\n",
    "                         error_y=dict(\n",
    "                             type=\"data\",\n",
    "                             array=strong_OMP_epyc_hybrid_static_grid_050k_spread_avg[\"speedup_err\"],\n",
    "                             visible=True)))\n",
    "\n",
    "fig.add_trace(go.Scatter(x=strong_OMP_epyc_hybrid_static_grid_050k_close_avg[\"nthreads_per_process\"][\"mean\"], y=strong_OMP_epyc_hybrid_static_grid_050k_close_avg[\"expected_speedup\"], name='expected speedup'))\n",
    "fig.update_layout(\n",
    "    title=go.layout.Title(\n",
    "        text=\"Strong OMP Speedup<br><sup>EPYC node - matrix size: 50k - OMP places: cores, OMP policy: close/spread</sup>\",\n",
    "        xref=\"paper\",\n",
    "        x=0,\n",
    "    ),\n",
    "    xaxis_title=\"threads per MPI process<br><sup>1 MPI process per socket (2 sockets)</sup>\",\n",
    "    xaxis = dict(\n",
    "        tickmode = 'linear',\n",
    "        tick0 = '0',\n",
    "        dtick = '8'\n",
    "    ),\n",
    "    yaxis_title=\"Speedup\",\n",
    "    yaxis = dict(\n",
    "        tickmode='linear',\n",
    "        tick0='0',\n",
    "        dtick='8'\n",
    "    ),\n",
    "    legend_title=\"Version\",\n",
    "    font=dict(\n",
    "        family=\"Courier New, monospace\",\n",
    "        size=18,\n",
    "    ),\n",
    "    colorway=[\"#1b9e77\",\"#fcae91\",\"#7570b3\"],\n",
    "    autosize=False,\n",
    "    width=1000,\n",
    "    height=800,\n",
    ")\n",
    "fig.show()\n",
    "fig.write_image(\"/home/andres/hpc/Foundations_of_HPC_2022/Assignment/my_assignment/report/images/strong_OMP_epyc_hybrid_grid_050k_speedup.pdf\", height=800, width=1000)"
   ]
  },
  {
   "cell_type": "markdown",
   "metadata": {},
   "source": [
    "# Strong MPI "
   ]
  },
  {
   "cell_type": "markdown",
   "metadata": {},
   "source": [
    "## THIN"
   ]
  },
  {
   "cell_type": "code",
   "execution_count": 79,
   "metadata": {},
   "outputs": [
    {
     "data": {
      "application/vnd.plotly.v1+json": {
       "config": {
        "plotlyServerURL": "https://plot.ly"
       },
       "data": [
        {
         "error_y": {
          "array": [
           0.004752057207146931,
           0.011490139651022791,
           0.016403115155361202,
           0.02643906170800988,
           0.0382487575262259,
           0.0334062175455442
          ],
          "type": "data",
          "visible": true
         },
         "name": "hybrid v2 50k",
         "type": "scatter",
         "x": [
          72,
          60,
          48,
          36,
          24,
          12
         ],
         "y": [
          12.776450800000001,
          15.3319612,
          19.2004234,
          25.587121,
          38.504749600000004,
          77.0802488
         ]
        },
        {
         "error_y": {
          "array": [
           0.012146966069763485,
           0.006857161198339756,
           0.015907053790693446,
           0.032383572105313445,
           0.12152735124942292,
           0.06935746492844641
          ],
          "type": "data",
          "visible": true
         },
         "name": "hybrid v2 70k",
         "type": "scatter",
         "x": [
          72,
          60,
          48,
          36,
          24,
          12
         ],
         "y": [
          25.0896898,
          30.047157199999997,
          37.6005976,
          50.1057376,
          75.7922988,
          150.6285666
         ]
        },
        {
         "error_y": {
          "array": [
           4.124028549203102,
           3.379342667848493,
           0.15953150505057612,
           0.024066439024085392,
           0.020543192894485026,
           0.025392044232396264
          ],
          "type": "data",
          "visible": true
         },
         "name": "hybrid v2 100k",
         "type": "scatter",
         "x": [
          12,
          24,
          36,
          48,
          60,
          72
         ],
         "y": [
          311.2571214,
          168.4027126,
          102.2396798,
          76.6890086,
          61.3526194,
          51.150424400000006
         ]
        }
       ],
       "layout": {
        "colorway": [
         "#fcae91",
         "#fb6a4a",
         "#cb181d"
        ],
        "font": {
         "family": "Courier New, monospace",
         "size": 18
        },
        "legend": {
         "title": {
          "text": "Version"
         }
        },
        "showlegend": true,
        "template": {
         "data": {
          "bar": [
           {
            "error_x": {
             "color": "#2a3f5f"
            },
            "error_y": {
             "color": "#2a3f5f"
            },
            "marker": {
             "line": {
              "color": "#E5ECF6",
              "width": 0.5
             },
             "pattern": {
              "fillmode": "overlay",
              "size": 10,
              "solidity": 0.2
             }
            },
            "type": "bar"
           }
          ],
          "barpolar": [
           {
            "marker": {
             "line": {
              "color": "#E5ECF6",
              "width": 0.5
             },
             "pattern": {
              "fillmode": "overlay",
              "size": 10,
              "solidity": 0.2
             }
            },
            "type": "barpolar"
           }
          ],
          "carpet": [
           {
            "aaxis": {
             "endlinecolor": "#2a3f5f",
             "gridcolor": "white",
             "linecolor": "white",
             "minorgridcolor": "white",
             "startlinecolor": "#2a3f5f"
            },
            "baxis": {
             "endlinecolor": "#2a3f5f",
             "gridcolor": "white",
             "linecolor": "white",
             "minorgridcolor": "white",
             "startlinecolor": "#2a3f5f"
            },
            "type": "carpet"
           }
          ],
          "choropleth": [
           {
            "colorbar": {
             "outlinewidth": 0,
             "ticks": ""
            },
            "type": "choropleth"
           }
          ],
          "contour": [
           {
            "colorbar": {
             "outlinewidth": 0,
             "ticks": ""
            },
            "colorscale": [
             [
              0,
              "#0d0887"
             ],
             [
              0.1111111111111111,
              "#46039f"
             ],
             [
              0.2222222222222222,
              "#7201a8"
             ],
             [
              0.3333333333333333,
              "#9c179e"
             ],
             [
              0.4444444444444444,
              "#bd3786"
             ],
             [
              0.5555555555555556,
              "#d8576b"
             ],
             [
              0.6666666666666666,
              "#ed7953"
             ],
             [
              0.7777777777777778,
              "#fb9f3a"
             ],
             [
              0.8888888888888888,
              "#fdca26"
             ],
             [
              1,
              "#f0f921"
             ]
            ],
            "type": "contour"
           }
          ],
          "contourcarpet": [
           {
            "colorbar": {
             "outlinewidth": 0,
             "ticks": ""
            },
            "type": "contourcarpet"
           }
          ],
          "heatmap": [
           {
            "colorbar": {
             "outlinewidth": 0,
             "ticks": ""
            },
            "colorscale": [
             [
              0,
              "#0d0887"
             ],
             [
              0.1111111111111111,
              "#46039f"
             ],
             [
              0.2222222222222222,
              "#7201a8"
             ],
             [
              0.3333333333333333,
              "#9c179e"
             ],
             [
              0.4444444444444444,
              "#bd3786"
             ],
             [
              0.5555555555555556,
              "#d8576b"
             ],
             [
              0.6666666666666666,
              "#ed7953"
             ],
             [
              0.7777777777777778,
              "#fb9f3a"
             ],
             [
              0.8888888888888888,
              "#fdca26"
             ],
             [
              1,
              "#f0f921"
             ]
            ],
            "type": "heatmap"
           }
          ],
          "heatmapgl": [
           {
            "colorbar": {
             "outlinewidth": 0,
             "ticks": ""
            },
            "colorscale": [
             [
              0,
              "#0d0887"
             ],
             [
              0.1111111111111111,
              "#46039f"
             ],
             [
              0.2222222222222222,
              "#7201a8"
             ],
             [
              0.3333333333333333,
              "#9c179e"
             ],
             [
              0.4444444444444444,
              "#bd3786"
             ],
             [
              0.5555555555555556,
              "#d8576b"
             ],
             [
              0.6666666666666666,
              "#ed7953"
             ],
             [
              0.7777777777777778,
              "#fb9f3a"
             ],
             [
              0.8888888888888888,
              "#fdca26"
             ],
             [
              1,
              "#f0f921"
             ]
            ],
            "type": "heatmapgl"
           }
          ],
          "histogram": [
           {
            "marker": {
             "pattern": {
              "fillmode": "overlay",
              "size": 10,
              "solidity": 0.2
             }
            },
            "type": "histogram"
           }
          ],
          "histogram2d": [
           {
            "colorbar": {
             "outlinewidth": 0,
             "ticks": ""
            },
            "colorscale": [
             [
              0,
              "#0d0887"
             ],
             [
              0.1111111111111111,
              "#46039f"
             ],
             [
              0.2222222222222222,
              "#7201a8"
             ],
             [
              0.3333333333333333,
              "#9c179e"
             ],
             [
              0.4444444444444444,
              "#bd3786"
             ],
             [
              0.5555555555555556,
              "#d8576b"
             ],
             [
              0.6666666666666666,
              "#ed7953"
             ],
             [
              0.7777777777777778,
              "#fb9f3a"
             ],
             [
              0.8888888888888888,
              "#fdca26"
             ],
             [
              1,
              "#f0f921"
             ]
            ],
            "type": "histogram2d"
           }
          ],
          "histogram2dcontour": [
           {
            "colorbar": {
             "outlinewidth": 0,
             "ticks": ""
            },
            "colorscale": [
             [
              0,
              "#0d0887"
             ],
             [
              0.1111111111111111,
              "#46039f"
             ],
             [
              0.2222222222222222,
              "#7201a8"
             ],
             [
              0.3333333333333333,
              "#9c179e"
             ],
             [
              0.4444444444444444,
              "#bd3786"
             ],
             [
              0.5555555555555556,
              "#d8576b"
             ],
             [
              0.6666666666666666,
              "#ed7953"
             ],
             [
              0.7777777777777778,
              "#fb9f3a"
             ],
             [
              0.8888888888888888,
              "#fdca26"
             ],
             [
              1,
              "#f0f921"
             ]
            ],
            "type": "histogram2dcontour"
           }
          ],
          "mesh3d": [
           {
            "colorbar": {
             "outlinewidth": 0,
             "ticks": ""
            },
            "type": "mesh3d"
           }
          ],
          "parcoords": [
           {
            "line": {
             "colorbar": {
              "outlinewidth": 0,
              "ticks": ""
             }
            },
            "type": "parcoords"
           }
          ],
          "pie": [
           {
            "automargin": true,
            "type": "pie"
           }
          ],
          "scatter": [
           {
            "fillpattern": {
             "fillmode": "overlay",
             "size": 10,
             "solidity": 0.2
            },
            "type": "scatter"
           }
          ],
          "scatter3d": [
           {
            "line": {
             "colorbar": {
              "outlinewidth": 0,
              "ticks": ""
             }
            },
            "marker": {
             "colorbar": {
              "outlinewidth": 0,
              "ticks": ""
             }
            },
            "type": "scatter3d"
           }
          ],
          "scattercarpet": [
           {
            "marker": {
             "colorbar": {
              "outlinewidth": 0,
              "ticks": ""
             }
            },
            "type": "scattercarpet"
           }
          ],
          "scattergeo": [
           {
            "marker": {
             "colorbar": {
              "outlinewidth": 0,
              "ticks": ""
             }
            },
            "type": "scattergeo"
           }
          ],
          "scattergl": [
           {
            "marker": {
             "colorbar": {
              "outlinewidth": 0,
              "ticks": ""
             }
            },
            "type": "scattergl"
           }
          ],
          "scattermapbox": [
           {
            "marker": {
             "colorbar": {
              "outlinewidth": 0,
              "ticks": ""
             }
            },
            "type": "scattermapbox"
           }
          ],
          "scatterpolar": [
           {
            "marker": {
             "colorbar": {
              "outlinewidth": 0,
              "ticks": ""
             }
            },
            "type": "scatterpolar"
           }
          ],
          "scatterpolargl": [
           {
            "marker": {
             "colorbar": {
              "outlinewidth": 0,
              "ticks": ""
             }
            },
            "type": "scatterpolargl"
           }
          ],
          "scatterternary": [
           {
            "marker": {
             "colorbar": {
              "outlinewidth": 0,
              "ticks": ""
             }
            },
            "type": "scatterternary"
           }
          ],
          "surface": [
           {
            "colorbar": {
             "outlinewidth": 0,
             "ticks": ""
            },
            "colorscale": [
             [
              0,
              "#0d0887"
             ],
             [
              0.1111111111111111,
              "#46039f"
             ],
             [
              0.2222222222222222,
              "#7201a8"
             ],
             [
              0.3333333333333333,
              "#9c179e"
             ],
             [
              0.4444444444444444,
              "#bd3786"
             ],
             [
              0.5555555555555556,
              "#d8576b"
             ],
             [
              0.6666666666666666,
              "#ed7953"
             ],
             [
              0.7777777777777778,
              "#fb9f3a"
             ],
             [
              0.8888888888888888,
              "#fdca26"
             ],
             [
              1,
              "#f0f921"
             ]
            ],
            "type": "surface"
           }
          ],
          "table": [
           {
            "cells": {
             "fill": {
              "color": "#EBF0F8"
             },
             "line": {
              "color": "white"
             }
            },
            "header": {
             "fill": {
              "color": "#C8D4E3"
             },
             "line": {
              "color": "white"
             }
            },
            "type": "table"
           }
          ]
         },
         "layout": {
          "annotationdefaults": {
           "arrowcolor": "#2a3f5f",
           "arrowhead": 0,
           "arrowwidth": 1
          },
          "autotypenumbers": "strict",
          "coloraxis": {
           "colorbar": {
            "outlinewidth": 0,
            "ticks": ""
           }
          },
          "colorscale": {
           "diverging": [
            [
             0,
             "#8e0152"
            ],
            [
             0.1,
             "#c51b7d"
            ],
            [
             0.2,
             "#de77ae"
            ],
            [
             0.3,
             "#f1b6da"
            ],
            [
             0.4,
             "#fde0ef"
            ],
            [
             0.5,
             "#f7f7f7"
            ],
            [
             0.6,
             "#e6f5d0"
            ],
            [
             0.7,
             "#b8e186"
            ],
            [
             0.8,
             "#7fbc41"
            ],
            [
             0.9,
             "#4d9221"
            ],
            [
             1,
             "#276419"
            ]
           ],
           "sequential": [
            [
             0,
             "#0d0887"
            ],
            [
             0.1111111111111111,
             "#46039f"
            ],
            [
             0.2222222222222222,
             "#7201a8"
            ],
            [
             0.3333333333333333,
             "#9c179e"
            ],
            [
             0.4444444444444444,
             "#bd3786"
            ],
            [
             0.5555555555555556,
             "#d8576b"
            ],
            [
             0.6666666666666666,
             "#ed7953"
            ],
            [
             0.7777777777777778,
             "#fb9f3a"
            ],
            [
             0.8888888888888888,
             "#fdca26"
            ],
            [
             1,
             "#f0f921"
            ]
           ],
           "sequentialminus": [
            [
             0,
             "#0d0887"
            ],
            [
             0.1111111111111111,
             "#46039f"
            ],
            [
             0.2222222222222222,
             "#7201a8"
            ],
            [
             0.3333333333333333,
             "#9c179e"
            ],
            [
             0.4444444444444444,
             "#bd3786"
            ],
            [
             0.5555555555555556,
             "#d8576b"
            ],
            [
             0.6666666666666666,
             "#ed7953"
            ],
            [
             0.7777777777777778,
             "#fb9f3a"
            ],
            [
             0.8888888888888888,
             "#fdca26"
            ],
            [
             1,
             "#f0f921"
            ]
           ]
          },
          "colorway": [
           "#636efa",
           "#EF553B",
           "#00cc96",
           "#ab63fa",
           "#FFA15A",
           "#19d3f3",
           "#FF6692",
           "#B6E880",
           "#FF97FF",
           "#FECB52"
          ],
          "font": {
           "color": "#2a3f5f"
          },
          "geo": {
           "bgcolor": "white",
           "lakecolor": "white",
           "landcolor": "#E5ECF6",
           "showlakes": true,
           "showland": true,
           "subunitcolor": "white"
          },
          "hoverlabel": {
           "align": "left"
          },
          "hovermode": "closest",
          "mapbox": {
           "style": "light"
          },
          "paper_bgcolor": "white",
          "plot_bgcolor": "#E5ECF6",
          "polar": {
           "angularaxis": {
            "gridcolor": "white",
            "linecolor": "white",
            "ticks": ""
           },
           "bgcolor": "#E5ECF6",
           "radialaxis": {
            "gridcolor": "white",
            "linecolor": "white",
            "ticks": ""
           }
          },
          "scene": {
           "xaxis": {
            "backgroundcolor": "#E5ECF6",
            "gridcolor": "white",
            "gridwidth": 2,
            "linecolor": "white",
            "showbackground": true,
            "ticks": "",
            "zerolinecolor": "white"
           },
           "yaxis": {
            "backgroundcolor": "#E5ECF6",
            "gridcolor": "white",
            "gridwidth": 2,
            "linecolor": "white",
            "showbackground": true,
            "ticks": "",
            "zerolinecolor": "white"
           },
           "zaxis": {
            "backgroundcolor": "#E5ECF6",
            "gridcolor": "white",
            "gridwidth": 2,
            "linecolor": "white",
            "showbackground": true,
            "ticks": "",
            "zerolinecolor": "white"
           }
          },
          "shapedefaults": {
           "line": {
            "color": "#2a3f5f"
           }
          },
          "ternary": {
           "aaxis": {
            "gridcolor": "white",
            "linecolor": "white",
            "ticks": ""
           },
           "baxis": {
            "gridcolor": "white",
            "linecolor": "white",
            "ticks": ""
           },
           "bgcolor": "#E5ECF6",
           "caxis": {
            "gridcolor": "white",
            "linecolor": "white",
            "ticks": ""
           }
          },
          "title": {
           "x": 0.05
          },
          "xaxis": {
           "automargin": true,
           "gridcolor": "white",
           "linecolor": "white",
           "ticks": "",
           "title": {
            "standoff": 15
           },
           "zerolinecolor": "white",
           "zerolinewidth": 2
          },
          "yaxis": {
           "automargin": true,
           "gridcolor": "white",
           "linecolor": "white",
           "ticks": "",
           "title": {
            "standoff": 15
           },
           "zerolinecolor": "white",
           "zerolinewidth": 2
          }
         }
        },
        "title": {
         "text": "Time vs MPI processes<br><sup>3 THIN nodes - matrix size: 50k,70k,100k - OMP_NUM_THREADS=1</sup>",
         "x": 0,
         "xref": "paper"
        },
        "xaxis": {
         "dtick": "12",
         "tick0": "0",
         "tickmode": "linear",
         "title": {
          "text": "MPI process<br><sup>1 thread per MPI process</sup>"
         }
        },
        "yaxis": {
         "title": {
          "text": "time(s)"
         }
        }
       }
      }
     },
     "metadata": {},
     "output_type": "display_data"
    }
   ],
   "source": [
    "fig = go.Figure()\n",
    "\n",
    "fig.add_trace(go.Scatter(x=strong_MPI_thin_hybrid_static_grid_050k_avg[\"size\"][\"mean\"], y=strong_MPI_thin_hybrid_static_grid_050k_avg[\"time\"][\"mean\"], name='hybrid v2 50k',\n",
    "                         error_y=dict(\n",
    "                             type=\"data\",\n",
    "                             array=strong_MPI_thin_hybrid_static_grid_050k_avg[\"time\"][\"std\"],\n",
    "                             visible=True)))\n",
    "fig.add_trace(go.Scatter(x=strong_MPI_thin_hybrid_static_grid_070k_avg[\"size\"][\"mean\"], y=strong_MPI_thin_hybrid_static_grid_070k_avg[\"time\"][\"mean\"], name='hybrid v2 70k',\n",
    "                         error_y=dict(\n",
    "                             type=\"data\",\n",
    "                             array=strong_MPI_thin_hybrid_static_grid_070k_avg[\"time\"][\"std\"],\n",
    "                             visible=True)))\n",
    "fig.add_trace(go.Scatter(x=strong_MPI_thin_hybrid_static_grid_100k_avg[\"size\"][\"mean\"], y=strong_MPI_thin_hybrid_static_grid_100k_avg[\"time\"][\"mean\"], name='hybrid v2 100k',\n",
    "                         error_y=dict(\n",
    "                             type=\"data\",\n",
    "                             array=strong_MPI_thin_hybrid_static_grid_100k_avg[\"time\"][\"std\"],\n",
    "                             visible=True)))\n",
    "fig.update_layout(\n",
    "    title=go.layout.Title(\n",
    "        text=\"Time vs MPI processes<br><sup>3 THIN nodes - matrix size: 50k,70k,100k - OMP_NUM_THREADS=1</sup>\",\n",
    "        xref=\"paper\",\n",
    "        x=0,\n",
    "    ),\n",
    "    xaxis_title=\"MPI process<br><sup>1 thread per MPI process</sup>\",\n",
    "    xaxis = dict(\n",
    "        tickmode = 'linear',\n",
    "        tick0 = '0',\n",
    "        dtick = '12'\n",
    "    ),\n",
    "    yaxis_title=\"time(s)\",\n",
    "    legend_title=\"Version\",\n",
    "    showlegend=True,\n",
    "    font=dict(\n",
    "        family=\"Courier New, monospace\",\n",
    "        size=18,\n",
    "    ),\n",
    "    colorway=[\"#fcae91\",\"#fb6a4a\",\"#cb181d\"],\n",
    ")\n",
    "fig.show()\n",
    "fig.write_image(\"/home/andres/hpc/Foundations_of_HPC_2022/Assignment/my_assignment/report/images/strong_MPI_thin_hybrid.pdf\", height=500, width=1000)"
   ]
  },
  {
   "cell_type": "code",
   "execution_count": 80,
   "metadata": {},
   "outputs": [
    {
     "data": {
      "application/vnd.plotly.v1+json": {
       "config": {
        "plotlyServerURL": "https://plot.ly"
       },
       "data": [
        {
         "error_y": {
          "array": [
           0.0273662320720238,
           0.04594980611424981,
           0.04182717385923791,
           0.03796269116325336,
           0.024251718819587563,
           0.005285607237930507
          ],
          "type": "data",
          "visible": true
         },
         "name": "hybrid v2 50k",
         "type": "scatter",
         "x": [
          72,
          60,
          48,
          36,
          24,
          12
         ],
         "y": [
          73.57725347324156,
          61.31349712781689,
          48.96017860731134,
          36.739426799912344,
          24.414031223825955,
          12.195811166089541
         ]
        },
        {
         "error_y": {
          "array": [
           0.036391350990689596,
           0.014323809113758522,
           0.021218818545662602,
           0.024326004177419657,
           0.03989742043274632,
           0.005765002080051181
          ],
          "type": "data",
          "visible": true
         },
         "name": "hybrid v2 70k",
         "type": "scatter",
         "x": [
          72,
          60,
          48,
          36,
          24,
          12
         ],
         "y": [
          75.16672908407182,
          62.76500313979787,
          50.15638145070333,
          37.63860201111979,
          24.88260609401123,
          12.520267294371239
         ]
        },
        {
         "error_y": {
          "array": [
           0.1728860775506501,
           0.48396172675017746,
           0.061984692694169286,
           0.016619675478047456,
           0.022165558407597787,
           0.03941632538065966
          ],
          "type": "data",
          "visible": true
         },
         "name": "hybrid v2 100k",
         "type": "scatter",
         "x": [
          12,
          24,
          36,
          48,
          60,
          72
         ],
         "y": [
          13.048411810570705,
          24.1172546231301,
          39.724411372814174,
          52.95949410669524,
          66.19784352679162,
          79.40131771418889
         ]
        },
        {
         "name": "expected speedup",
         "type": "scatter",
         "x": [
          12,
          24,
          36,
          48,
          60,
          72
         ],
         "y": [
          12,
          24,
          36,
          48,
          60,
          72
         ]
        }
       ],
       "layout": {
        "autosize": false,
        "colorway": [
         "#fcae91",
         "#fb6a4a",
         "#cb181d",
         "#7570b3"
        ],
        "font": {
         "family": "Courier New, monospace",
         "size": 18
        },
        "height": 800,
        "legend": {
         "title": {
          "text": "Version"
         }
        },
        "showlegend": true,
        "template": {
         "data": {
          "bar": [
           {
            "error_x": {
             "color": "#2a3f5f"
            },
            "error_y": {
             "color": "#2a3f5f"
            },
            "marker": {
             "line": {
              "color": "#E5ECF6",
              "width": 0.5
             },
             "pattern": {
              "fillmode": "overlay",
              "size": 10,
              "solidity": 0.2
             }
            },
            "type": "bar"
           }
          ],
          "barpolar": [
           {
            "marker": {
             "line": {
              "color": "#E5ECF6",
              "width": 0.5
             },
             "pattern": {
              "fillmode": "overlay",
              "size": 10,
              "solidity": 0.2
             }
            },
            "type": "barpolar"
           }
          ],
          "carpet": [
           {
            "aaxis": {
             "endlinecolor": "#2a3f5f",
             "gridcolor": "white",
             "linecolor": "white",
             "minorgridcolor": "white",
             "startlinecolor": "#2a3f5f"
            },
            "baxis": {
             "endlinecolor": "#2a3f5f",
             "gridcolor": "white",
             "linecolor": "white",
             "minorgridcolor": "white",
             "startlinecolor": "#2a3f5f"
            },
            "type": "carpet"
           }
          ],
          "choropleth": [
           {
            "colorbar": {
             "outlinewidth": 0,
             "ticks": ""
            },
            "type": "choropleth"
           }
          ],
          "contour": [
           {
            "colorbar": {
             "outlinewidth": 0,
             "ticks": ""
            },
            "colorscale": [
             [
              0,
              "#0d0887"
             ],
             [
              0.1111111111111111,
              "#46039f"
             ],
             [
              0.2222222222222222,
              "#7201a8"
             ],
             [
              0.3333333333333333,
              "#9c179e"
             ],
             [
              0.4444444444444444,
              "#bd3786"
             ],
             [
              0.5555555555555556,
              "#d8576b"
             ],
             [
              0.6666666666666666,
              "#ed7953"
             ],
             [
              0.7777777777777778,
              "#fb9f3a"
             ],
             [
              0.8888888888888888,
              "#fdca26"
             ],
             [
              1,
              "#f0f921"
             ]
            ],
            "type": "contour"
           }
          ],
          "contourcarpet": [
           {
            "colorbar": {
             "outlinewidth": 0,
             "ticks": ""
            },
            "type": "contourcarpet"
           }
          ],
          "heatmap": [
           {
            "colorbar": {
             "outlinewidth": 0,
             "ticks": ""
            },
            "colorscale": [
             [
              0,
              "#0d0887"
             ],
             [
              0.1111111111111111,
              "#46039f"
             ],
             [
              0.2222222222222222,
              "#7201a8"
             ],
             [
              0.3333333333333333,
              "#9c179e"
             ],
             [
              0.4444444444444444,
              "#bd3786"
             ],
             [
              0.5555555555555556,
              "#d8576b"
             ],
             [
              0.6666666666666666,
              "#ed7953"
             ],
             [
              0.7777777777777778,
              "#fb9f3a"
             ],
             [
              0.8888888888888888,
              "#fdca26"
             ],
             [
              1,
              "#f0f921"
             ]
            ],
            "type": "heatmap"
           }
          ],
          "heatmapgl": [
           {
            "colorbar": {
             "outlinewidth": 0,
             "ticks": ""
            },
            "colorscale": [
             [
              0,
              "#0d0887"
             ],
             [
              0.1111111111111111,
              "#46039f"
             ],
             [
              0.2222222222222222,
              "#7201a8"
             ],
             [
              0.3333333333333333,
              "#9c179e"
             ],
             [
              0.4444444444444444,
              "#bd3786"
             ],
             [
              0.5555555555555556,
              "#d8576b"
             ],
             [
              0.6666666666666666,
              "#ed7953"
             ],
             [
              0.7777777777777778,
              "#fb9f3a"
             ],
             [
              0.8888888888888888,
              "#fdca26"
             ],
             [
              1,
              "#f0f921"
             ]
            ],
            "type": "heatmapgl"
           }
          ],
          "histogram": [
           {
            "marker": {
             "pattern": {
              "fillmode": "overlay",
              "size": 10,
              "solidity": 0.2
             }
            },
            "type": "histogram"
           }
          ],
          "histogram2d": [
           {
            "colorbar": {
             "outlinewidth": 0,
             "ticks": ""
            },
            "colorscale": [
             [
              0,
              "#0d0887"
             ],
             [
              0.1111111111111111,
              "#46039f"
             ],
             [
              0.2222222222222222,
              "#7201a8"
             ],
             [
              0.3333333333333333,
              "#9c179e"
             ],
             [
              0.4444444444444444,
              "#bd3786"
             ],
             [
              0.5555555555555556,
              "#d8576b"
             ],
             [
              0.6666666666666666,
              "#ed7953"
             ],
             [
              0.7777777777777778,
              "#fb9f3a"
             ],
             [
              0.8888888888888888,
              "#fdca26"
             ],
             [
              1,
              "#f0f921"
             ]
            ],
            "type": "histogram2d"
           }
          ],
          "histogram2dcontour": [
           {
            "colorbar": {
             "outlinewidth": 0,
             "ticks": ""
            },
            "colorscale": [
             [
              0,
              "#0d0887"
             ],
             [
              0.1111111111111111,
              "#46039f"
             ],
             [
              0.2222222222222222,
              "#7201a8"
             ],
             [
              0.3333333333333333,
              "#9c179e"
             ],
             [
              0.4444444444444444,
              "#bd3786"
             ],
             [
              0.5555555555555556,
              "#d8576b"
             ],
             [
              0.6666666666666666,
              "#ed7953"
             ],
             [
              0.7777777777777778,
              "#fb9f3a"
             ],
             [
              0.8888888888888888,
              "#fdca26"
             ],
             [
              1,
              "#f0f921"
             ]
            ],
            "type": "histogram2dcontour"
           }
          ],
          "mesh3d": [
           {
            "colorbar": {
             "outlinewidth": 0,
             "ticks": ""
            },
            "type": "mesh3d"
           }
          ],
          "parcoords": [
           {
            "line": {
             "colorbar": {
              "outlinewidth": 0,
              "ticks": ""
             }
            },
            "type": "parcoords"
           }
          ],
          "pie": [
           {
            "automargin": true,
            "type": "pie"
           }
          ],
          "scatter": [
           {
            "fillpattern": {
             "fillmode": "overlay",
             "size": 10,
             "solidity": 0.2
            },
            "type": "scatter"
           }
          ],
          "scatter3d": [
           {
            "line": {
             "colorbar": {
              "outlinewidth": 0,
              "ticks": ""
             }
            },
            "marker": {
             "colorbar": {
              "outlinewidth": 0,
              "ticks": ""
             }
            },
            "type": "scatter3d"
           }
          ],
          "scattercarpet": [
           {
            "marker": {
             "colorbar": {
              "outlinewidth": 0,
              "ticks": ""
             }
            },
            "type": "scattercarpet"
           }
          ],
          "scattergeo": [
           {
            "marker": {
             "colorbar": {
              "outlinewidth": 0,
              "ticks": ""
             }
            },
            "type": "scattergeo"
           }
          ],
          "scattergl": [
           {
            "marker": {
             "colorbar": {
              "outlinewidth": 0,
              "ticks": ""
             }
            },
            "type": "scattergl"
           }
          ],
          "scattermapbox": [
           {
            "marker": {
             "colorbar": {
              "outlinewidth": 0,
              "ticks": ""
             }
            },
            "type": "scattermapbox"
           }
          ],
          "scatterpolar": [
           {
            "marker": {
             "colorbar": {
              "outlinewidth": 0,
              "ticks": ""
             }
            },
            "type": "scatterpolar"
           }
          ],
          "scatterpolargl": [
           {
            "marker": {
             "colorbar": {
              "outlinewidth": 0,
              "ticks": ""
             }
            },
            "type": "scatterpolargl"
           }
          ],
          "scatterternary": [
           {
            "marker": {
             "colorbar": {
              "outlinewidth": 0,
              "ticks": ""
             }
            },
            "type": "scatterternary"
           }
          ],
          "surface": [
           {
            "colorbar": {
             "outlinewidth": 0,
             "ticks": ""
            },
            "colorscale": [
             [
              0,
              "#0d0887"
             ],
             [
              0.1111111111111111,
              "#46039f"
             ],
             [
              0.2222222222222222,
              "#7201a8"
             ],
             [
              0.3333333333333333,
              "#9c179e"
             ],
             [
              0.4444444444444444,
              "#bd3786"
             ],
             [
              0.5555555555555556,
              "#d8576b"
             ],
             [
              0.6666666666666666,
              "#ed7953"
             ],
             [
              0.7777777777777778,
              "#fb9f3a"
             ],
             [
              0.8888888888888888,
              "#fdca26"
             ],
             [
              1,
              "#f0f921"
             ]
            ],
            "type": "surface"
           }
          ],
          "table": [
           {
            "cells": {
             "fill": {
              "color": "#EBF0F8"
             },
             "line": {
              "color": "white"
             }
            },
            "header": {
             "fill": {
              "color": "#C8D4E3"
             },
             "line": {
              "color": "white"
             }
            },
            "type": "table"
           }
          ]
         },
         "layout": {
          "annotationdefaults": {
           "arrowcolor": "#2a3f5f",
           "arrowhead": 0,
           "arrowwidth": 1
          },
          "autotypenumbers": "strict",
          "coloraxis": {
           "colorbar": {
            "outlinewidth": 0,
            "ticks": ""
           }
          },
          "colorscale": {
           "diverging": [
            [
             0,
             "#8e0152"
            ],
            [
             0.1,
             "#c51b7d"
            ],
            [
             0.2,
             "#de77ae"
            ],
            [
             0.3,
             "#f1b6da"
            ],
            [
             0.4,
             "#fde0ef"
            ],
            [
             0.5,
             "#f7f7f7"
            ],
            [
             0.6,
             "#e6f5d0"
            ],
            [
             0.7,
             "#b8e186"
            ],
            [
             0.8,
             "#7fbc41"
            ],
            [
             0.9,
             "#4d9221"
            ],
            [
             1,
             "#276419"
            ]
           ],
           "sequential": [
            [
             0,
             "#0d0887"
            ],
            [
             0.1111111111111111,
             "#46039f"
            ],
            [
             0.2222222222222222,
             "#7201a8"
            ],
            [
             0.3333333333333333,
             "#9c179e"
            ],
            [
             0.4444444444444444,
             "#bd3786"
            ],
            [
             0.5555555555555556,
             "#d8576b"
            ],
            [
             0.6666666666666666,
             "#ed7953"
            ],
            [
             0.7777777777777778,
             "#fb9f3a"
            ],
            [
             0.8888888888888888,
             "#fdca26"
            ],
            [
             1,
             "#f0f921"
            ]
           ],
           "sequentialminus": [
            [
             0,
             "#0d0887"
            ],
            [
             0.1111111111111111,
             "#46039f"
            ],
            [
             0.2222222222222222,
             "#7201a8"
            ],
            [
             0.3333333333333333,
             "#9c179e"
            ],
            [
             0.4444444444444444,
             "#bd3786"
            ],
            [
             0.5555555555555556,
             "#d8576b"
            ],
            [
             0.6666666666666666,
             "#ed7953"
            ],
            [
             0.7777777777777778,
             "#fb9f3a"
            ],
            [
             0.8888888888888888,
             "#fdca26"
            ],
            [
             1,
             "#f0f921"
            ]
           ]
          },
          "colorway": [
           "#636efa",
           "#EF553B",
           "#00cc96",
           "#ab63fa",
           "#FFA15A",
           "#19d3f3",
           "#FF6692",
           "#B6E880",
           "#FF97FF",
           "#FECB52"
          ],
          "font": {
           "color": "#2a3f5f"
          },
          "geo": {
           "bgcolor": "white",
           "lakecolor": "white",
           "landcolor": "#E5ECF6",
           "showlakes": true,
           "showland": true,
           "subunitcolor": "white"
          },
          "hoverlabel": {
           "align": "left"
          },
          "hovermode": "closest",
          "mapbox": {
           "style": "light"
          },
          "paper_bgcolor": "white",
          "plot_bgcolor": "#E5ECF6",
          "polar": {
           "angularaxis": {
            "gridcolor": "white",
            "linecolor": "white",
            "ticks": ""
           },
           "bgcolor": "#E5ECF6",
           "radialaxis": {
            "gridcolor": "white",
            "linecolor": "white",
            "ticks": ""
           }
          },
          "scene": {
           "xaxis": {
            "backgroundcolor": "#E5ECF6",
            "gridcolor": "white",
            "gridwidth": 2,
            "linecolor": "white",
            "showbackground": true,
            "ticks": "",
            "zerolinecolor": "white"
           },
           "yaxis": {
            "backgroundcolor": "#E5ECF6",
            "gridcolor": "white",
            "gridwidth": 2,
            "linecolor": "white",
            "showbackground": true,
            "ticks": "",
            "zerolinecolor": "white"
           },
           "zaxis": {
            "backgroundcolor": "#E5ECF6",
            "gridcolor": "white",
            "gridwidth": 2,
            "linecolor": "white",
            "showbackground": true,
            "ticks": "",
            "zerolinecolor": "white"
           }
          },
          "shapedefaults": {
           "line": {
            "color": "#2a3f5f"
           }
          },
          "ternary": {
           "aaxis": {
            "gridcolor": "white",
            "linecolor": "white",
            "ticks": ""
           },
           "baxis": {
            "gridcolor": "white",
            "linecolor": "white",
            "ticks": ""
           },
           "bgcolor": "#E5ECF6",
           "caxis": {
            "gridcolor": "white",
            "linecolor": "white",
            "ticks": ""
           }
          },
          "title": {
           "x": 0.05
          },
          "xaxis": {
           "automargin": true,
           "gridcolor": "white",
           "linecolor": "white",
           "ticks": "",
           "title": {
            "standoff": 15
           },
           "zerolinecolor": "white",
           "zerolinewidth": 2
          },
          "yaxis": {
           "automargin": true,
           "gridcolor": "white",
           "linecolor": "white",
           "ticks": "",
           "title": {
            "standoff": 15
           },
           "zerolinecolor": "white",
           "zerolinewidth": 2
          }
         }
        },
        "title": {
         "text": "Strong MPI Speedup<br><sup>3 THIN nodes - matrix size: 50k,70k,100k - OMP_NUM_THREADS=1</sup>",
         "x": 0,
         "xref": "paper"
        },
        "width": 1000,
        "xaxis": {
         "dtick": "6",
         "tick0": "0",
         "tickmode": "linear",
         "title": {
          "text": "MPI Process<br><sup>1 thread per MPI process</sup>"
         }
        },
        "yaxis": {
         "dtick": "6",
         "tick0": "0",
         "tickmode": "linear",
         "title": {
          "text": "Speedup"
         }
        }
       }
      }
     },
     "metadata": {},
     "output_type": "display_data"
    }
   ],
   "source": [
    "strong_MPI_thin_hybrid_static_grid_100k_avg['speedup']=strong_MPI_thin_hybrid_static_grid_100k_ref_avg[\"time\"][\"mean\"][0]/strong_MPI_thin_hybrid_static_grid_100k_avg[\"time\"][\"mean\"]\n",
    "strong_MPI_thin_hybrid_static_grid_100k_avg['expected_speedup']=strong_MPI_thin_hybrid_static_grid_100k_avg['size']['mean']\n",
    "strong_MPI_thin_hybrid_static_grid_100k_avg['speedup_err']=strong_MPI_thin_hybrid_static_grid_100k_avg[\"time\"][\"std\"]*strong_MPI_thin_hybrid_static_grid_100k_ref_avg[\"time\"][\"mean\"][0]/strong_MPI_thin_hybrid_static_grid_100k_avg[\"time\"][\"mean\"]**2\n",
    "\n",
    "strong_MPI_thin_hybrid_static_grid_070k_avg['speedup']=strong_MPI_thin_hybrid_static_grid_070k_ref_avg[\"time\"][\"mean\"][0]/strong_MPI_thin_hybrid_static_grid_070k_avg[\"time\"][\"mean\"]\n",
    "strong_MPI_thin_hybrid_static_grid_070k_avg['speedup_err']=strong_MPI_thin_hybrid_static_grid_070k_avg[\"time\"][\"std\"]*strong_MPI_thin_hybrid_static_grid_070k_ref_avg[\"time\"][\"mean\"][0]/strong_MPI_thin_hybrid_static_grid_070k_avg[\"time\"][\"mean\"]**2\n",
    "\n",
    "strong_MPI_thin_hybrid_static_grid_050k_avg['speedup']=strong_MPI_thin_hybrid_static_grid_050k_ref_avg[\"time\"][\"mean\"][0]/strong_MPI_thin_hybrid_static_grid_050k_avg[\"time\"][\"mean\"]\n",
    "strong_MPI_thin_hybrid_static_grid_050k_avg['speedup_err']=strong_MPI_thin_hybrid_static_grid_050k_avg[\"time\"][\"std\"]*strong_MPI_thin_hybrid_static_grid_050k_ref_avg[\"time\"][\"mean\"][0]/strong_MPI_thin_hybrid_static_grid_050k_avg[\"time\"][\"mean\"]**2\n",
    "\n",
    "fig = go.Figure()\n",
    "\n",
    "fig.add_trace(go.Scatter(x=strong_MPI_thin_hybrid_static_grid_050k_avg[\"size\"][\"mean\"], y=strong_MPI_thin_hybrid_static_grid_050k_avg[\"speedup\"], name='hybrid v2 50k',\n",
    "                         error_y=dict(\n",
    "                             type=\"data\",\n",
    "                             array=strong_MPI_thin_hybrid_static_grid_050k_avg[\"speedup_err\"],\n",
    "                             visible=True)))\n",
    "fig.add_trace(go.Scatter(x=strong_MPI_thin_hybrid_static_grid_070k_avg[\"size\"][\"mean\"], y=strong_MPI_thin_hybrid_static_grid_070k_avg[\"speedup\"], name='hybrid v2 70k',\n",
    "                         error_y=dict(\n",
    "                             type=\"data\",\n",
    "                             array=strong_MPI_thin_hybrid_static_grid_070k_avg[\"speedup_err\"],\n",
    "                             visible=True)))\n",
    "fig.add_trace(go.Scatter(x=strong_MPI_thin_hybrid_static_grid_100k_avg[\"size\"][\"mean\"], y=strong_MPI_thin_hybrid_static_grid_100k_avg[\"speedup\"], name='hybrid v2 100k',\n",
    "                         error_y=dict(\n",
    "                             type=\"data\",\n",
    "                             array=strong_MPI_thin_hybrid_static_grid_100k_avg[\"speedup_err\"],\n",
    "                             visible=True)))\n",
    "fig.add_trace(go.Scatter(x=strong_MPI_thin_hybrid_static_grid_100k_avg[\"size\"][\"mean\"], y=strong_MPI_thin_hybrid_static_grid_100k_avg[\"expected_speedup\"], name='expected speedup'))\n",
    "\n",
    "fig.update_layout(\n",
    "    title=go.layout.Title(\n",
    "        text=\"Strong MPI Speedup<br><sup>3 THIN nodes - matrix size: 50k,70k,100k - OMP_NUM_THREADS=1</sup>\",\n",
    "        xref=\"paper\",\n",
    "        x=0,\n",
    "    ),\n",
    "    xaxis_title=\"MPI Process<br><sup>1 thread per MPI process</sup>\",\n",
    "    xaxis = dict(\n",
    "        tickmode = 'linear',\n",
    "        tick0 = '0',\n",
    "        dtick = '6'\n",
    "    ),\n",
    "    yaxis_title=\"Speedup\",\n",
    "    yaxis = dict(\n",
    "        tickmode = 'linear',\n",
    "        tick0 = '0',\n",
    "        dtick = '6'\n",
    "    ),\n",
    "    legend_title=\"Version\",\n",
    "    showlegend=True,\n",
    "    font=dict(\n",
    "        family=\"Courier New, monospace\",\n",
    "        size=18,\n",
    "    ),\n",
    "    colorway=[\"#fcae91\",\"#fb6a4a\",\"#cb181d\", \"#7570b3\"],\n",
    "    autosize=False,\n",
    "    width=1000,\n",
    "    height=800,\n",
    ")\n",
    "fig.show()\n",
    "fig.write_image(\"/home/andres/hpc/Foundations_of_HPC_2022/Assignment/my_assignment/report/images/strong_MPI_thin_hybrid_speedup.pdf\", height=800, width=1000)"
   ]
  },
  {
   "cell_type": "markdown",
   "metadata": {},
   "source": [
    "## EPYC"
   ]
  },
  {
   "cell_type": "code",
   "execution_count": 81,
   "metadata": {},
   "outputs": [
    {
     "data": {
      "application/vnd.plotly.v1+json": {
       "config": {
        "plotlyServerURL": "https://plot.ly"
       },
       "data": [
        {
         "error_y": {
          "array": [
           0.011827785084283665,
           0.0623582580954599,
           0.01393784636520286,
           0.010603041672086222,
           0.005554616305380483,
           0.027407594500429983,
           0.006128115803409655,
           0.01427877121814068
          ],
          "type": "data",
          "visible": true
         },
         "name": "hybrid v2 50k",
         "type": "scatter",
         "x": [
          64,
          128,
          192,
          256,
          320,
          384,
          448,
          512
         ],
         "y": [
          12.080656999999999,
          6.8136342,
          4.3661006,
          3.4044268000000004,
          2.6679444,
          2.2876484,
          1.9192765999999999,
          1.7106360000000003
         ]
        },
        {
         "error_y": {
          "array": [
           0.019332219978575576,
           0.038084020767246075,
           0.01955340408471023,
           0.05254125872873624,
           0.007474570690012834,
           0.058297045995487906,
           0.02252351435722229,
           0.003409214938955827
          ],
          "type": "data",
          "visible": true
         },
         "name": "hybrid v2 70k",
         "type": "scatter",
         "x": [
          64,
          128,
          192,
          256,
          320,
          384,
          448,
          512
         ],
         "y": [
          23.7593886,
          13.282133400000001,
          8.577216400000001,
          6.681156400000001,
          5.21177,
          4.4586296,
          3.754728,
          3.326133
         ]
        },
        {
         "error_y": {
          "array": [
           0.012751562284677638,
           0.08743414943144472,
           0.06407373828488519,
           0.006508504259813079,
           0.11145281773333478,
           0.0457768040136048,
           0.015489904011968805,
           0.0474782884748388
          ],
          "type": "data",
          "visible": true
         },
         "name": "hybrid v2 100k",
         "type": "scatter",
         "x": [
          64,
          128,
          192,
          256,
          320,
          384,
          448,
          512
         ],
         "y": [
          48.436821800000004,
          27.6364874,
          17.6437556,
          13.610527200000002,
          10.7442352,
          9.1194508,
          7.6997886,
          6.849835000000001
         ]
        }
       ],
       "layout": {
        "colorway": [
         "#fcae91",
         "#fb6a4a",
         "#cb181d",
         "#7570b3"
        ],
        "font": {
         "family": "Courier New, monospace",
         "size": 18
        },
        "legend": {
         "title": {
          "text": "Version"
         }
        },
        "showlegend": true,
        "template": {
         "data": {
          "bar": [
           {
            "error_x": {
             "color": "#2a3f5f"
            },
            "error_y": {
             "color": "#2a3f5f"
            },
            "marker": {
             "line": {
              "color": "#E5ECF6",
              "width": 0.5
             },
             "pattern": {
              "fillmode": "overlay",
              "size": 10,
              "solidity": 0.2
             }
            },
            "type": "bar"
           }
          ],
          "barpolar": [
           {
            "marker": {
             "line": {
              "color": "#E5ECF6",
              "width": 0.5
             },
             "pattern": {
              "fillmode": "overlay",
              "size": 10,
              "solidity": 0.2
             }
            },
            "type": "barpolar"
           }
          ],
          "carpet": [
           {
            "aaxis": {
             "endlinecolor": "#2a3f5f",
             "gridcolor": "white",
             "linecolor": "white",
             "minorgridcolor": "white",
             "startlinecolor": "#2a3f5f"
            },
            "baxis": {
             "endlinecolor": "#2a3f5f",
             "gridcolor": "white",
             "linecolor": "white",
             "minorgridcolor": "white",
             "startlinecolor": "#2a3f5f"
            },
            "type": "carpet"
           }
          ],
          "choropleth": [
           {
            "colorbar": {
             "outlinewidth": 0,
             "ticks": ""
            },
            "type": "choropleth"
           }
          ],
          "contour": [
           {
            "colorbar": {
             "outlinewidth": 0,
             "ticks": ""
            },
            "colorscale": [
             [
              0,
              "#0d0887"
             ],
             [
              0.1111111111111111,
              "#46039f"
             ],
             [
              0.2222222222222222,
              "#7201a8"
             ],
             [
              0.3333333333333333,
              "#9c179e"
             ],
             [
              0.4444444444444444,
              "#bd3786"
             ],
             [
              0.5555555555555556,
              "#d8576b"
             ],
             [
              0.6666666666666666,
              "#ed7953"
             ],
             [
              0.7777777777777778,
              "#fb9f3a"
             ],
             [
              0.8888888888888888,
              "#fdca26"
             ],
             [
              1,
              "#f0f921"
             ]
            ],
            "type": "contour"
           }
          ],
          "contourcarpet": [
           {
            "colorbar": {
             "outlinewidth": 0,
             "ticks": ""
            },
            "type": "contourcarpet"
           }
          ],
          "heatmap": [
           {
            "colorbar": {
             "outlinewidth": 0,
             "ticks": ""
            },
            "colorscale": [
             [
              0,
              "#0d0887"
             ],
             [
              0.1111111111111111,
              "#46039f"
             ],
             [
              0.2222222222222222,
              "#7201a8"
             ],
             [
              0.3333333333333333,
              "#9c179e"
             ],
             [
              0.4444444444444444,
              "#bd3786"
             ],
             [
              0.5555555555555556,
              "#d8576b"
             ],
             [
              0.6666666666666666,
              "#ed7953"
             ],
             [
              0.7777777777777778,
              "#fb9f3a"
             ],
             [
              0.8888888888888888,
              "#fdca26"
             ],
             [
              1,
              "#f0f921"
             ]
            ],
            "type": "heatmap"
           }
          ],
          "heatmapgl": [
           {
            "colorbar": {
             "outlinewidth": 0,
             "ticks": ""
            },
            "colorscale": [
             [
              0,
              "#0d0887"
             ],
             [
              0.1111111111111111,
              "#46039f"
             ],
             [
              0.2222222222222222,
              "#7201a8"
             ],
             [
              0.3333333333333333,
              "#9c179e"
             ],
             [
              0.4444444444444444,
              "#bd3786"
             ],
             [
              0.5555555555555556,
              "#d8576b"
             ],
             [
              0.6666666666666666,
              "#ed7953"
             ],
             [
              0.7777777777777778,
              "#fb9f3a"
             ],
             [
              0.8888888888888888,
              "#fdca26"
             ],
             [
              1,
              "#f0f921"
             ]
            ],
            "type": "heatmapgl"
           }
          ],
          "histogram": [
           {
            "marker": {
             "pattern": {
              "fillmode": "overlay",
              "size": 10,
              "solidity": 0.2
             }
            },
            "type": "histogram"
           }
          ],
          "histogram2d": [
           {
            "colorbar": {
             "outlinewidth": 0,
             "ticks": ""
            },
            "colorscale": [
             [
              0,
              "#0d0887"
             ],
             [
              0.1111111111111111,
              "#46039f"
             ],
             [
              0.2222222222222222,
              "#7201a8"
             ],
             [
              0.3333333333333333,
              "#9c179e"
             ],
             [
              0.4444444444444444,
              "#bd3786"
             ],
             [
              0.5555555555555556,
              "#d8576b"
             ],
             [
              0.6666666666666666,
              "#ed7953"
             ],
             [
              0.7777777777777778,
              "#fb9f3a"
             ],
             [
              0.8888888888888888,
              "#fdca26"
             ],
             [
              1,
              "#f0f921"
             ]
            ],
            "type": "histogram2d"
           }
          ],
          "histogram2dcontour": [
           {
            "colorbar": {
             "outlinewidth": 0,
             "ticks": ""
            },
            "colorscale": [
             [
              0,
              "#0d0887"
             ],
             [
              0.1111111111111111,
              "#46039f"
             ],
             [
              0.2222222222222222,
              "#7201a8"
             ],
             [
              0.3333333333333333,
              "#9c179e"
             ],
             [
              0.4444444444444444,
              "#bd3786"
             ],
             [
              0.5555555555555556,
              "#d8576b"
             ],
             [
              0.6666666666666666,
              "#ed7953"
             ],
             [
              0.7777777777777778,
              "#fb9f3a"
             ],
             [
              0.8888888888888888,
              "#fdca26"
             ],
             [
              1,
              "#f0f921"
             ]
            ],
            "type": "histogram2dcontour"
           }
          ],
          "mesh3d": [
           {
            "colorbar": {
             "outlinewidth": 0,
             "ticks": ""
            },
            "type": "mesh3d"
           }
          ],
          "parcoords": [
           {
            "line": {
             "colorbar": {
              "outlinewidth": 0,
              "ticks": ""
             }
            },
            "type": "parcoords"
           }
          ],
          "pie": [
           {
            "automargin": true,
            "type": "pie"
           }
          ],
          "scatter": [
           {
            "fillpattern": {
             "fillmode": "overlay",
             "size": 10,
             "solidity": 0.2
            },
            "type": "scatter"
           }
          ],
          "scatter3d": [
           {
            "line": {
             "colorbar": {
              "outlinewidth": 0,
              "ticks": ""
             }
            },
            "marker": {
             "colorbar": {
              "outlinewidth": 0,
              "ticks": ""
             }
            },
            "type": "scatter3d"
           }
          ],
          "scattercarpet": [
           {
            "marker": {
             "colorbar": {
              "outlinewidth": 0,
              "ticks": ""
             }
            },
            "type": "scattercarpet"
           }
          ],
          "scattergeo": [
           {
            "marker": {
             "colorbar": {
              "outlinewidth": 0,
              "ticks": ""
             }
            },
            "type": "scattergeo"
           }
          ],
          "scattergl": [
           {
            "marker": {
             "colorbar": {
              "outlinewidth": 0,
              "ticks": ""
             }
            },
            "type": "scattergl"
           }
          ],
          "scattermapbox": [
           {
            "marker": {
             "colorbar": {
              "outlinewidth": 0,
              "ticks": ""
             }
            },
            "type": "scattermapbox"
           }
          ],
          "scatterpolar": [
           {
            "marker": {
             "colorbar": {
              "outlinewidth": 0,
              "ticks": ""
             }
            },
            "type": "scatterpolar"
           }
          ],
          "scatterpolargl": [
           {
            "marker": {
             "colorbar": {
              "outlinewidth": 0,
              "ticks": ""
             }
            },
            "type": "scatterpolargl"
           }
          ],
          "scatterternary": [
           {
            "marker": {
             "colorbar": {
              "outlinewidth": 0,
              "ticks": ""
             }
            },
            "type": "scatterternary"
           }
          ],
          "surface": [
           {
            "colorbar": {
             "outlinewidth": 0,
             "ticks": ""
            },
            "colorscale": [
             [
              0,
              "#0d0887"
             ],
             [
              0.1111111111111111,
              "#46039f"
             ],
             [
              0.2222222222222222,
              "#7201a8"
             ],
             [
              0.3333333333333333,
              "#9c179e"
             ],
             [
              0.4444444444444444,
              "#bd3786"
             ],
             [
              0.5555555555555556,
              "#d8576b"
             ],
             [
              0.6666666666666666,
              "#ed7953"
             ],
             [
              0.7777777777777778,
              "#fb9f3a"
             ],
             [
              0.8888888888888888,
              "#fdca26"
             ],
             [
              1,
              "#f0f921"
             ]
            ],
            "type": "surface"
           }
          ],
          "table": [
           {
            "cells": {
             "fill": {
              "color": "#EBF0F8"
             },
             "line": {
              "color": "white"
             }
            },
            "header": {
             "fill": {
              "color": "#C8D4E3"
             },
             "line": {
              "color": "white"
             }
            },
            "type": "table"
           }
          ]
         },
         "layout": {
          "annotationdefaults": {
           "arrowcolor": "#2a3f5f",
           "arrowhead": 0,
           "arrowwidth": 1
          },
          "autotypenumbers": "strict",
          "coloraxis": {
           "colorbar": {
            "outlinewidth": 0,
            "ticks": ""
           }
          },
          "colorscale": {
           "diverging": [
            [
             0,
             "#8e0152"
            ],
            [
             0.1,
             "#c51b7d"
            ],
            [
             0.2,
             "#de77ae"
            ],
            [
             0.3,
             "#f1b6da"
            ],
            [
             0.4,
             "#fde0ef"
            ],
            [
             0.5,
             "#f7f7f7"
            ],
            [
             0.6,
             "#e6f5d0"
            ],
            [
             0.7,
             "#b8e186"
            ],
            [
             0.8,
             "#7fbc41"
            ],
            [
             0.9,
             "#4d9221"
            ],
            [
             1,
             "#276419"
            ]
           ],
           "sequential": [
            [
             0,
             "#0d0887"
            ],
            [
             0.1111111111111111,
             "#46039f"
            ],
            [
             0.2222222222222222,
             "#7201a8"
            ],
            [
             0.3333333333333333,
             "#9c179e"
            ],
            [
             0.4444444444444444,
             "#bd3786"
            ],
            [
             0.5555555555555556,
             "#d8576b"
            ],
            [
             0.6666666666666666,
             "#ed7953"
            ],
            [
             0.7777777777777778,
             "#fb9f3a"
            ],
            [
             0.8888888888888888,
             "#fdca26"
            ],
            [
             1,
             "#f0f921"
            ]
           ],
           "sequentialminus": [
            [
             0,
             "#0d0887"
            ],
            [
             0.1111111111111111,
             "#46039f"
            ],
            [
             0.2222222222222222,
             "#7201a8"
            ],
            [
             0.3333333333333333,
             "#9c179e"
            ],
            [
             0.4444444444444444,
             "#bd3786"
            ],
            [
             0.5555555555555556,
             "#d8576b"
            ],
            [
             0.6666666666666666,
             "#ed7953"
            ],
            [
             0.7777777777777778,
             "#fb9f3a"
            ],
            [
             0.8888888888888888,
             "#fdca26"
            ],
            [
             1,
             "#f0f921"
            ]
           ]
          },
          "colorway": [
           "#636efa",
           "#EF553B",
           "#00cc96",
           "#ab63fa",
           "#FFA15A",
           "#19d3f3",
           "#FF6692",
           "#B6E880",
           "#FF97FF",
           "#FECB52"
          ],
          "font": {
           "color": "#2a3f5f"
          },
          "geo": {
           "bgcolor": "white",
           "lakecolor": "white",
           "landcolor": "#E5ECF6",
           "showlakes": true,
           "showland": true,
           "subunitcolor": "white"
          },
          "hoverlabel": {
           "align": "left"
          },
          "hovermode": "closest",
          "mapbox": {
           "style": "light"
          },
          "paper_bgcolor": "white",
          "plot_bgcolor": "#E5ECF6",
          "polar": {
           "angularaxis": {
            "gridcolor": "white",
            "linecolor": "white",
            "ticks": ""
           },
           "bgcolor": "#E5ECF6",
           "radialaxis": {
            "gridcolor": "white",
            "linecolor": "white",
            "ticks": ""
           }
          },
          "scene": {
           "xaxis": {
            "backgroundcolor": "#E5ECF6",
            "gridcolor": "white",
            "gridwidth": 2,
            "linecolor": "white",
            "showbackground": true,
            "ticks": "",
            "zerolinecolor": "white"
           },
           "yaxis": {
            "backgroundcolor": "#E5ECF6",
            "gridcolor": "white",
            "gridwidth": 2,
            "linecolor": "white",
            "showbackground": true,
            "ticks": "",
            "zerolinecolor": "white"
           },
           "zaxis": {
            "backgroundcolor": "#E5ECF6",
            "gridcolor": "white",
            "gridwidth": 2,
            "linecolor": "white",
            "showbackground": true,
            "ticks": "",
            "zerolinecolor": "white"
           }
          },
          "shapedefaults": {
           "line": {
            "color": "#2a3f5f"
           }
          },
          "ternary": {
           "aaxis": {
            "gridcolor": "white",
            "linecolor": "white",
            "ticks": ""
           },
           "baxis": {
            "gridcolor": "white",
            "linecolor": "white",
            "ticks": ""
           },
           "bgcolor": "#E5ECF6",
           "caxis": {
            "gridcolor": "white",
            "linecolor": "white",
            "ticks": ""
           }
          },
          "title": {
           "x": 0.05
          },
          "xaxis": {
           "automargin": true,
           "gridcolor": "white",
           "linecolor": "white",
           "ticks": "",
           "title": {
            "standoff": 15
           },
           "zerolinecolor": "white",
           "zerolinewidth": 2
          },
          "yaxis": {
           "automargin": true,
           "gridcolor": "white",
           "linecolor": "white",
           "ticks": "",
           "title": {
            "standoff": 15
           },
           "zerolinecolor": "white",
           "zerolinewidth": 2
          }
         }
        },
        "title": {
         "text": "Time vs MPI processes<br><sup>4 EPYC nodes - matrix size: 50k, 70k, 100k - OMP_NUM_THREADS=1</sup>",
         "x": 0,
         "xref": "paper"
        },
        "xaxis": {
         "dtick": "64",
         "tick0": "0",
         "tickmode": "linear",
         "title": {
          "text": "MPI Process<br><sup>1 thread per MPI process</sup>"
         }
        },
        "yaxis": {
         "title": {
          "text": "time(s)"
         }
        }
       }
      }
     },
     "metadata": {},
     "output_type": "display_data"
    }
   ],
   "source": [
    "fig = go.Figure()\n",
    "\n",
    "fig.add_trace(go.Scatter(x=strong_MPI_epyc_hybrid_static_grid_050k_avg[\"size\"][\"mean\"], y=strong_MPI_epyc_hybrid_static_grid_050k_avg[\"time\"][\"mean\"], name='hybrid v2 50k',\n",
    "                         error_y=dict(\n",
    "                             type=\"data\",\n",
    "                             array=strong_MPI_epyc_hybrid_static_grid_050k_avg[\"time\"][\"std\"],\n",
    "                             visible=True)))\n",
    "fig.add_trace(go.Scatter(x=strong_MPI_epyc_hybrid_static_grid_070k_avg[\"size\"][\"mean\"], y=strong_MPI_epyc_hybrid_static_grid_070k_avg[\"time\"][\"mean\"], name='hybrid v2 70k',\n",
    "                         error_y=dict(\n",
    "                             type=\"data\",\n",
    "                             array=strong_MPI_epyc_hybrid_static_grid_070k_avg[\"time\"][\"std\"],\n",
    "                             visible=True)))\n",
    "fig.add_trace(go.Scatter(x=strong_MPI_epyc_hybrid_static_grid_100k_avg[\"size\"][\"mean\"], y=strong_MPI_epyc_hybrid_static_grid_100k_avg[\"time\"][\"mean\"], name='hybrid v2 100k',\n",
    "                         error_y=dict(\n",
    "                             type=\"data\",\n",
    "                             array=strong_MPI_epyc_hybrid_static_grid_100k_avg[\"time\"][\"std\"],\n",
    "                             visible=True)))\n",
    "fig.update_layout(\n",
    "    title=go.layout.Title(\n",
    "        text=\"Time vs MPI processes<br><sup>4 EPYC nodes - matrix size: 50k, 70k, 100k - OMP_NUM_THREADS=1</sup>\",\n",
    "        xref=\"paper\",\n",
    "        x=0,\n",
    "    ),\n",
    "    xaxis_title=\"MPI Process<br><sup>1 thread per MPI process</sup>\",\n",
    "    xaxis = dict(\n",
    "        tickmode = 'linear',\n",
    "        tick0 = '0',\n",
    "        dtick = '64'\n",
    "    ),\n",
    "    yaxis_title=\"time(s)\",\n",
    "    legend_title=\"Version\",\n",
    "    showlegend=True,\n",
    "    font=dict(\n",
    "        family=\"Courier New, monospace\",\n",
    "        size=18,\n",
    "    ),\n",
    "    colorway=[\"#fcae91\",\"#fb6a4a\",\"#cb181d\", \"#7570b3\"],\n",
    "\n",
    ")\n",
    "fig.show()\n",
    "fig.write_image(\"/home/andres/hpc/Foundations_of_HPC_2022/Assignment/my_assignment/report/images/strong_MPI_epyc_hybrid_grid_100k.pdf\", height=500, width=1000)"
   ]
  },
  {
   "cell_type": "code",
   "execution_count": 82,
   "metadata": {},
   "outputs": [
    {
     "data": {
      "application/vnd.plotly.v1+json": {
       "config": {
        "plotlyServerURL": "https://plot.ly"
       },
       "data": [
        {
         "error_y": {
          "array": [
           0.06329995730681531,
           1.0491013527593347,
           0.5710699354016288,
           0.7145350993241436,
           0.6095110949340372,
           4.090472408283922,
           1.2993702735158172,
           3.8111559517581104
          ],
          "type": "data",
          "visible": true
         },
         "name": "hybrid v2 50k",
         "type": "scatter",
         "x": [
          64,
          128,
          192,
          256,
          320,
          384,
          448,
          512
         ],
         "y": [
          64.65327759078004,
          114.63105408564492,
          178.8905346111356,
          229.42307659544915,
          292.75500287787105,
          341.4222528689286,
          406.9523228178784,
          456.5869480707759
         ]
        },
        {
         "error_y": {
          "array": [
           0.053013872767877675,
           0.33418383797907547,
           0.4114413776216404,
           1.822113899366337,
           0.42598479219352914,
           4.539647001189723,
           2.4731901989299905,
           0.4770385599708251
          ],
          "type": "data",
          "visible": true
         },
         "name": "hybrid v2 70k",
         "type": "scatter",
         "x": [
          64,
          128,
          192,
          256,
          320,
          384,
          448,
          512
         ],
         "y": [
          65.15429711015375,
          116.54951937163949,
          180.4811948081431,
          231.70034816128535,
          297.0250536765821,
          347.1977721585126,
          412.2871920416073,
          465.41321829283436
         ]
        },
        {
         "error_y": {
          "array": [
           0.017543035453296083,
           0.3694945401354491,
           0.6643403314909418,
           0.11340283724045577,
           3.1162526557024703,
           1.7766452604229592,
           0.8433031950731875,
           3.266084803039058
          ],
          "type": "data",
          "visible": true
         },
         "name": "hybrid v2 100k",
         "type": "scatter",
         "x": [
          64,
          128,
          192,
          256,
          320,
          384,
          448,
          512
         ],
         "y": [
          66.63723731353488,
          116.79110815653077,
          182.93701534836495,
          237.14702168186398,
          300.41188869357586,
          353.93534761983693,
          419.19280602067437,
          471.2078450064855
         ]
        },
        {
         "name": "expected speedup",
         "type": "scatter",
         "x": [
          64,
          128,
          192,
          256,
          320,
          384,
          448,
          512
         ],
         "y": [
          64,
          128,
          192,
          256,
          320,
          384,
          448,
          512
         ]
        }
       ],
       "layout": {
        "autosize": false,
        "colorway": [
         "#fcae91",
         "#fb6a4a",
         "#cb181d",
         "#7570b3"
        ],
        "font": {
         "family": "Courier New, monospace",
         "size": 18
        },
        "height": 800,
        "legend": {
         "title": {
          "text": "Version"
         }
        },
        "showlegend": true,
        "template": {
         "data": {
          "bar": [
           {
            "error_x": {
             "color": "#2a3f5f"
            },
            "error_y": {
             "color": "#2a3f5f"
            },
            "marker": {
             "line": {
              "color": "#E5ECF6",
              "width": 0.5
             },
             "pattern": {
              "fillmode": "overlay",
              "size": 10,
              "solidity": 0.2
             }
            },
            "type": "bar"
           }
          ],
          "barpolar": [
           {
            "marker": {
             "line": {
              "color": "#E5ECF6",
              "width": 0.5
             },
             "pattern": {
              "fillmode": "overlay",
              "size": 10,
              "solidity": 0.2
             }
            },
            "type": "barpolar"
           }
          ],
          "carpet": [
           {
            "aaxis": {
             "endlinecolor": "#2a3f5f",
             "gridcolor": "white",
             "linecolor": "white",
             "minorgridcolor": "white",
             "startlinecolor": "#2a3f5f"
            },
            "baxis": {
             "endlinecolor": "#2a3f5f",
             "gridcolor": "white",
             "linecolor": "white",
             "minorgridcolor": "white",
             "startlinecolor": "#2a3f5f"
            },
            "type": "carpet"
           }
          ],
          "choropleth": [
           {
            "colorbar": {
             "outlinewidth": 0,
             "ticks": ""
            },
            "type": "choropleth"
           }
          ],
          "contour": [
           {
            "colorbar": {
             "outlinewidth": 0,
             "ticks": ""
            },
            "colorscale": [
             [
              0,
              "#0d0887"
             ],
             [
              0.1111111111111111,
              "#46039f"
             ],
             [
              0.2222222222222222,
              "#7201a8"
             ],
             [
              0.3333333333333333,
              "#9c179e"
             ],
             [
              0.4444444444444444,
              "#bd3786"
             ],
             [
              0.5555555555555556,
              "#d8576b"
             ],
             [
              0.6666666666666666,
              "#ed7953"
             ],
             [
              0.7777777777777778,
              "#fb9f3a"
             ],
             [
              0.8888888888888888,
              "#fdca26"
             ],
             [
              1,
              "#f0f921"
             ]
            ],
            "type": "contour"
           }
          ],
          "contourcarpet": [
           {
            "colorbar": {
             "outlinewidth": 0,
             "ticks": ""
            },
            "type": "contourcarpet"
           }
          ],
          "heatmap": [
           {
            "colorbar": {
             "outlinewidth": 0,
             "ticks": ""
            },
            "colorscale": [
             [
              0,
              "#0d0887"
             ],
             [
              0.1111111111111111,
              "#46039f"
             ],
             [
              0.2222222222222222,
              "#7201a8"
             ],
             [
              0.3333333333333333,
              "#9c179e"
             ],
             [
              0.4444444444444444,
              "#bd3786"
             ],
             [
              0.5555555555555556,
              "#d8576b"
             ],
             [
              0.6666666666666666,
              "#ed7953"
             ],
             [
              0.7777777777777778,
              "#fb9f3a"
             ],
             [
              0.8888888888888888,
              "#fdca26"
             ],
             [
              1,
              "#f0f921"
             ]
            ],
            "type": "heatmap"
           }
          ],
          "heatmapgl": [
           {
            "colorbar": {
             "outlinewidth": 0,
             "ticks": ""
            },
            "colorscale": [
             [
              0,
              "#0d0887"
             ],
             [
              0.1111111111111111,
              "#46039f"
             ],
             [
              0.2222222222222222,
              "#7201a8"
             ],
             [
              0.3333333333333333,
              "#9c179e"
             ],
             [
              0.4444444444444444,
              "#bd3786"
             ],
             [
              0.5555555555555556,
              "#d8576b"
             ],
             [
              0.6666666666666666,
              "#ed7953"
             ],
             [
              0.7777777777777778,
              "#fb9f3a"
             ],
             [
              0.8888888888888888,
              "#fdca26"
             ],
             [
              1,
              "#f0f921"
             ]
            ],
            "type": "heatmapgl"
           }
          ],
          "histogram": [
           {
            "marker": {
             "pattern": {
              "fillmode": "overlay",
              "size": 10,
              "solidity": 0.2
             }
            },
            "type": "histogram"
           }
          ],
          "histogram2d": [
           {
            "colorbar": {
             "outlinewidth": 0,
             "ticks": ""
            },
            "colorscale": [
             [
              0,
              "#0d0887"
             ],
             [
              0.1111111111111111,
              "#46039f"
             ],
             [
              0.2222222222222222,
              "#7201a8"
             ],
             [
              0.3333333333333333,
              "#9c179e"
             ],
             [
              0.4444444444444444,
              "#bd3786"
             ],
             [
              0.5555555555555556,
              "#d8576b"
             ],
             [
              0.6666666666666666,
              "#ed7953"
             ],
             [
              0.7777777777777778,
              "#fb9f3a"
             ],
             [
              0.8888888888888888,
              "#fdca26"
             ],
             [
              1,
              "#f0f921"
             ]
            ],
            "type": "histogram2d"
           }
          ],
          "histogram2dcontour": [
           {
            "colorbar": {
             "outlinewidth": 0,
             "ticks": ""
            },
            "colorscale": [
             [
              0,
              "#0d0887"
             ],
             [
              0.1111111111111111,
              "#46039f"
             ],
             [
              0.2222222222222222,
              "#7201a8"
             ],
             [
              0.3333333333333333,
              "#9c179e"
             ],
             [
              0.4444444444444444,
              "#bd3786"
             ],
             [
              0.5555555555555556,
              "#d8576b"
             ],
             [
              0.6666666666666666,
              "#ed7953"
             ],
             [
              0.7777777777777778,
              "#fb9f3a"
             ],
             [
              0.8888888888888888,
              "#fdca26"
             ],
             [
              1,
              "#f0f921"
             ]
            ],
            "type": "histogram2dcontour"
           }
          ],
          "mesh3d": [
           {
            "colorbar": {
             "outlinewidth": 0,
             "ticks": ""
            },
            "type": "mesh3d"
           }
          ],
          "parcoords": [
           {
            "line": {
             "colorbar": {
              "outlinewidth": 0,
              "ticks": ""
             }
            },
            "type": "parcoords"
           }
          ],
          "pie": [
           {
            "automargin": true,
            "type": "pie"
           }
          ],
          "scatter": [
           {
            "fillpattern": {
             "fillmode": "overlay",
             "size": 10,
             "solidity": 0.2
            },
            "type": "scatter"
           }
          ],
          "scatter3d": [
           {
            "line": {
             "colorbar": {
              "outlinewidth": 0,
              "ticks": ""
             }
            },
            "marker": {
             "colorbar": {
              "outlinewidth": 0,
              "ticks": ""
             }
            },
            "type": "scatter3d"
           }
          ],
          "scattercarpet": [
           {
            "marker": {
             "colorbar": {
              "outlinewidth": 0,
              "ticks": ""
             }
            },
            "type": "scattercarpet"
           }
          ],
          "scattergeo": [
           {
            "marker": {
             "colorbar": {
              "outlinewidth": 0,
              "ticks": ""
             }
            },
            "type": "scattergeo"
           }
          ],
          "scattergl": [
           {
            "marker": {
             "colorbar": {
              "outlinewidth": 0,
              "ticks": ""
             }
            },
            "type": "scattergl"
           }
          ],
          "scattermapbox": [
           {
            "marker": {
             "colorbar": {
              "outlinewidth": 0,
              "ticks": ""
             }
            },
            "type": "scattermapbox"
           }
          ],
          "scatterpolar": [
           {
            "marker": {
             "colorbar": {
              "outlinewidth": 0,
              "ticks": ""
             }
            },
            "type": "scatterpolar"
           }
          ],
          "scatterpolargl": [
           {
            "marker": {
             "colorbar": {
              "outlinewidth": 0,
              "ticks": ""
             }
            },
            "type": "scatterpolargl"
           }
          ],
          "scatterternary": [
           {
            "marker": {
             "colorbar": {
              "outlinewidth": 0,
              "ticks": ""
             }
            },
            "type": "scatterternary"
           }
          ],
          "surface": [
           {
            "colorbar": {
             "outlinewidth": 0,
             "ticks": ""
            },
            "colorscale": [
             [
              0,
              "#0d0887"
             ],
             [
              0.1111111111111111,
              "#46039f"
             ],
             [
              0.2222222222222222,
              "#7201a8"
             ],
             [
              0.3333333333333333,
              "#9c179e"
             ],
             [
              0.4444444444444444,
              "#bd3786"
             ],
             [
              0.5555555555555556,
              "#d8576b"
             ],
             [
              0.6666666666666666,
              "#ed7953"
             ],
             [
              0.7777777777777778,
              "#fb9f3a"
             ],
             [
              0.8888888888888888,
              "#fdca26"
             ],
             [
              1,
              "#f0f921"
             ]
            ],
            "type": "surface"
           }
          ],
          "table": [
           {
            "cells": {
             "fill": {
              "color": "#EBF0F8"
             },
             "line": {
              "color": "white"
             }
            },
            "header": {
             "fill": {
              "color": "#C8D4E3"
             },
             "line": {
              "color": "white"
             }
            },
            "type": "table"
           }
          ]
         },
         "layout": {
          "annotationdefaults": {
           "arrowcolor": "#2a3f5f",
           "arrowhead": 0,
           "arrowwidth": 1
          },
          "autotypenumbers": "strict",
          "coloraxis": {
           "colorbar": {
            "outlinewidth": 0,
            "ticks": ""
           }
          },
          "colorscale": {
           "diverging": [
            [
             0,
             "#8e0152"
            ],
            [
             0.1,
             "#c51b7d"
            ],
            [
             0.2,
             "#de77ae"
            ],
            [
             0.3,
             "#f1b6da"
            ],
            [
             0.4,
             "#fde0ef"
            ],
            [
             0.5,
             "#f7f7f7"
            ],
            [
             0.6,
             "#e6f5d0"
            ],
            [
             0.7,
             "#b8e186"
            ],
            [
             0.8,
             "#7fbc41"
            ],
            [
             0.9,
             "#4d9221"
            ],
            [
             1,
             "#276419"
            ]
           ],
           "sequential": [
            [
             0,
             "#0d0887"
            ],
            [
             0.1111111111111111,
             "#46039f"
            ],
            [
             0.2222222222222222,
             "#7201a8"
            ],
            [
             0.3333333333333333,
             "#9c179e"
            ],
            [
             0.4444444444444444,
             "#bd3786"
            ],
            [
             0.5555555555555556,
             "#d8576b"
            ],
            [
             0.6666666666666666,
             "#ed7953"
            ],
            [
             0.7777777777777778,
             "#fb9f3a"
            ],
            [
             0.8888888888888888,
             "#fdca26"
            ],
            [
             1,
             "#f0f921"
            ]
           ],
           "sequentialminus": [
            [
             0,
             "#0d0887"
            ],
            [
             0.1111111111111111,
             "#46039f"
            ],
            [
             0.2222222222222222,
             "#7201a8"
            ],
            [
             0.3333333333333333,
             "#9c179e"
            ],
            [
             0.4444444444444444,
             "#bd3786"
            ],
            [
             0.5555555555555556,
             "#d8576b"
            ],
            [
             0.6666666666666666,
             "#ed7953"
            ],
            [
             0.7777777777777778,
             "#fb9f3a"
            ],
            [
             0.8888888888888888,
             "#fdca26"
            ],
            [
             1,
             "#f0f921"
            ]
           ]
          },
          "colorway": [
           "#636efa",
           "#EF553B",
           "#00cc96",
           "#ab63fa",
           "#FFA15A",
           "#19d3f3",
           "#FF6692",
           "#B6E880",
           "#FF97FF",
           "#FECB52"
          ],
          "font": {
           "color": "#2a3f5f"
          },
          "geo": {
           "bgcolor": "white",
           "lakecolor": "white",
           "landcolor": "#E5ECF6",
           "showlakes": true,
           "showland": true,
           "subunitcolor": "white"
          },
          "hoverlabel": {
           "align": "left"
          },
          "hovermode": "closest",
          "mapbox": {
           "style": "light"
          },
          "paper_bgcolor": "white",
          "plot_bgcolor": "#E5ECF6",
          "polar": {
           "angularaxis": {
            "gridcolor": "white",
            "linecolor": "white",
            "ticks": ""
           },
           "bgcolor": "#E5ECF6",
           "radialaxis": {
            "gridcolor": "white",
            "linecolor": "white",
            "ticks": ""
           }
          },
          "scene": {
           "xaxis": {
            "backgroundcolor": "#E5ECF6",
            "gridcolor": "white",
            "gridwidth": 2,
            "linecolor": "white",
            "showbackground": true,
            "ticks": "",
            "zerolinecolor": "white"
           },
           "yaxis": {
            "backgroundcolor": "#E5ECF6",
            "gridcolor": "white",
            "gridwidth": 2,
            "linecolor": "white",
            "showbackground": true,
            "ticks": "",
            "zerolinecolor": "white"
           },
           "zaxis": {
            "backgroundcolor": "#E5ECF6",
            "gridcolor": "white",
            "gridwidth": 2,
            "linecolor": "white",
            "showbackground": true,
            "ticks": "",
            "zerolinecolor": "white"
           }
          },
          "shapedefaults": {
           "line": {
            "color": "#2a3f5f"
           }
          },
          "ternary": {
           "aaxis": {
            "gridcolor": "white",
            "linecolor": "white",
            "ticks": ""
           },
           "baxis": {
            "gridcolor": "white",
            "linecolor": "white",
            "ticks": ""
           },
           "bgcolor": "#E5ECF6",
           "caxis": {
            "gridcolor": "white",
            "linecolor": "white",
            "ticks": ""
           }
          },
          "title": {
           "x": 0.05
          },
          "xaxis": {
           "automargin": true,
           "gridcolor": "white",
           "linecolor": "white",
           "ticks": "",
           "title": {
            "standoff": 15
           },
           "zerolinecolor": "white",
           "zerolinewidth": 2
          },
          "yaxis": {
           "automargin": true,
           "gridcolor": "white",
           "linecolor": "white",
           "ticks": "",
           "title": {
            "standoff": 15
           },
           "zerolinecolor": "white",
           "zerolinewidth": 2
          }
         }
        },
        "title": {
         "text": "Strong MPI Speedup<br><sup>4 EPYC nodes - matrix size: 50k, 70k, 100k - OMP_NUM_THREADS=1</sup>",
         "x": 0,
         "xref": "paper"
        },
        "width": 1000,
        "xaxis": {
         "dtick": "64",
         "tick0": "0",
         "tickmode": "linear",
         "title": {
          "text": "MPI Process<br><sup>1 thread per MPI process</sup>"
         }
        },
        "yaxis": {
         "dtick": "64",
         "tick0": "0",
         "tickmode": "linear",
         "title": {
          "text": "Speedup"
         }
        }
       }
      }
     },
     "metadata": {},
     "output_type": "display_data"
    }
   ],
   "source": [
    "strong_MPI_epyc_hybrid_static_grid_100k_avg['speedup']=strong_MPI_epyc_hybrid_static_grid_100k_ref_avg/strong_MPI_epyc_hybrid_static_grid_100k_avg[\"time\"][\"mean\"]\n",
    "strong_MPI_epyc_hybrid_static_grid_100k_avg['expected_speedup']=strong_MPI_epyc_hybrid_static_grid_100k_avg['size']['mean']\n",
    "strong_MPI_epyc_hybrid_static_grid_100k_avg['speedup_err']=strong_MPI_epyc_hybrid_static_grid_100k_avg[\"time\"][\"std\"]*strong_MPI_epyc_hybrid_static_grid_100k_ref_avg/strong_MPI_epyc_hybrid_static_grid_100k_avg[\"time\"][\"mean\"]**2\n",
    "\n",
    "strong_MPI_epyc_hybrid_static_grid_050k_avg['speedup']=strong_MPI_epyc_hybrid_static_grid_050k_ref_avg/strong_MPI_epyc_hybrid_static_grid_050k_avg[\"time\"][\"mean\"]\n",
    "strong_MPI_epyc_hybrid_static_grid_050k_avg['speedup_err']=strong_MPI_epyc_hybrid_static_grid_050k_avg[\"time\"][\"std\"]*strong_MPI_epyc_hybrid_static_grid_050k_ref_avg/strong_MPI_epyc_hybrid_static_grid_050k_avg[\"time\"][\"mean\"]**2\n",
    "\n",
    "strong_MPI_epyc_hybrid_static_grid_070k_avg['speedup']=strong_MPI_epyc_hybrid_static_grid_070k_ref_avg/strong_MPI_epyc_hybrid_static_grid_070k_avg[\"time\"][\"mean\"]\n",
    "strong_MPI_epyc_hybrid_static_grid_070k_avg['speedup_err']=strong_MPI_epyc_hybrid_static_grid_070k_avg[\"time\"][\"std\"]*strong_MPI_epyc_hybrid_static_grid_070k_ref_avg/strong_MPI_epyc_hybrid_static_grid_070k_avg[\"time\"][\"mean\"]**2\n",
    "\n",
    "fig = go.Figure()\n",
    "\n",
    "fig.add_trace(go.Scatter(x=strong_MPI_epyc_hybrid_static_grid_050k_avg[\"size\"][\"mean\"], y=strong_MPI_epyc_hybrid_static_grid_050k_avg[\"speedup\"], name='hybrid v2 50k',\n",
    "                         error_y=dict(\n",
    "                             type=\"data\",\n",
    "                             array=strong_MPI_epyc_hybrid_static_grid_050k_avg[\"speedup_err\"],\n",
    "                             visible=True)))\n",
    "fig.add_trace(go.Scatter(x=strong_MPI_epyc_hybrid_static_grid_070k_avg[\"size\"][\"mean\"], y=strong_MPI_epyc_hybrid_static_grid_070k_avg[\"speedup\"], name='hybrid v2 70k',\n",
    "                         error_y=dict(\n",
    "                             type=\"data\",\n",
    "                             array=strong_MPI_epyc_hybrid_static_grid_070k_avg[\"speedup_err\"],\n",
    "                             visible=True)))\n",
    "fig.add_trace(go.Scatter(x=strong_MPI_epyc_hybrid_static_grid_100k_avg[\"size\"][\"mean\"], y=strong_MPI_epyc_hybrid_static_grid_100k_avg[\"speedup\"], name='hybrid v2 100k',\n",
    "                         error_y=dict(\n",
    "                             type=\"data\",\n",
    "                             array=strong_MPI_epyc_hybrid_static_grid_100k_avg[\"speedup_err\"],\n",
    "                             visible=True)))\n",
    "fig.add_trace(go.Scatter(x=strong_MPI_epyc_hybrid_static_grid_100k_avg[\"size\"][\"mean\"], y=strong_MPI_epyc_hybrid_static_grid_100k_avg[\"expected_speedup\"], name='expected speedup'))\n",
    "\n",
    "fig.update_layout(\n",
    "    title=go.layout.Title(\n",
    "        text=\"Strong MPI Speedup<br><sup>4 EPYC nodes - matrix size: 50k, 70k, 100k - OMP_NUM_THREADS=1</sup>\",\n",
    "        xref=\"paper\",\n",
    "        x=0,\n",
    "    ),\n",
    "    xaxis_title=\"MPI Process<br><sup>1 thread per MPI process</sup>\",\n",
    "    xaxis = dict(\n",
    "        tickmode = 'linear',\n",
    "        tick0 = '0',\n",
    "        dtick = '64'\n",
    "    ),\n",
    "    yaxis_title=\"Speedup\",\n",
    "    yaxis = dict(\n",
    "        tickmode = 'linear',\n",
    "        tick0 = '0',\n",
    "        dtick = '64'\n",
    "    ),\n",
    "    legend_title=\"Version\",\n",
    "    showlegend=True,\n",
    "    font=dict(\n",
    "        family=\"Courier New, monospace\",\n",
    "        size=18,\n",
    "    ),\n",
    "    colorway=[\"#fcae91\",\"#fb6a4a\",\"#cb181d\", \"#7570b3\"],\n",
    "    autosize=False,\n",
    "    width=1000,\n",
    "    height=800,\n",
    ")\n",
    "fig.show()\n",
    "fig.write_image(\"/home/andres/hpc/Foundations_of_HPC_2022/Assignment/my_assignment/report/images/strong_MPI_epyc_hybrid_grid_100k_speedup.pdf\", height=800, width=1000)"
   ]
  },
  {
   "cell_type": "markdown",
   "metadata": {},
   "source": [
    "# Weak MPI"
   ]
  },
  {
   "cell_type": "markdown",
   "metadata": {},
   "source": [
    "# THIN"
   ]
  },
  {
   "cell_type": "code",
   "execution_count": 83,
   "metadata": {},
   "outputs": [],
   "source": [
    "weak_MPI_thin_hybrid_static = pd.read_csv(\"./weak_MPI_thin_hybrid_static.csv\")\n",
    "\n",
    "weak_MPI_thin_hybrid_static = weak_MPI_thin_hybrid_static.groupby(weak_MPI_thin_hybrid_static.index // 10)\n",
    "\n",
    "weak_MPI_thin_hybrid_static_avg = weak_MPI_thin_hybrid_static.agg({'size':['mean','std'], 'nthreads_per_process':['mean','std'], 'total_nthreads':['mean','std'], 'time':['mean','std']})"
   ]
  },
  {
   "cell_type": "code",
   "execution_count": 84,
   "metadata": {},
   "outputs": [],
   "source": [
    "weak_MPI_thin_hybrid_static_avg[\"weak_efficiency\"] = weak_MPI_thin_hybrid_static_avg[\"time\"][\"mean\"][0]/weak_MPI_thin_hybrid_static_avg[\"time\"][\"mean\"]\n",
    "weak_MPI_thin_hybrid_static_avg['expected_efficiency']=[1]*len(weak_MPI_thin_hybrid_static_avg)\n",
    "weak_MPI_thin_hybrid_static_avg['weak_efficiency_err']=weak_MPI_thin_hybrid_static_avg[\"time\"][\"std\"]*weak_MPI_thin_hybrid_static_avg[\"time\"][\"mean\"][0]/weak_MPI_thin_hybrid_static_avg[\"time\"][\"mean\"]**2"
   ]
  },
  {
   "cell_type": "code",
   "execution_count": 85,
   "metadata": {},
   "outputs": [
    {
     "data": {
      "application/vnd.plotly.v1+json": {
       "config": {
        "plotlyServerURL": "https://plot.ly"
       },
       "data": [
        {
         "error_y": {
          "array": [
           0.002750045739360352,
           0.005342651862048574,
           0.0032486406455634245,
           0.0032139968226129615,
           0.001042394747537787,
           0.0015937124710110196
          ],
          "type": "data",
          "visible": true
         },
         "name": "hybrid v2",
         "type": "scatter",
         "x": [
          1,
          2,
          3,
          4,
          5,
          6
         ],
         "y": [
          1,
          0.9996851850382527,
          0.38480722693774333,
          0.3804513773128249,
          0.2596578252493659,
          0.2582372908544698
         ]
        },
        {
         "name": "expected efficiency",
         "type": "scatter",
         "x": [
          1,
          2,
          3,
          4,
          5,
          6
         ],
         "y": [
          1,
          1,
          1,
          1,
          1,
          1
         ]
        }
       ],
       "layout": {
        "colorway": [
         "#fcae91",
         "#7570b3"
        ],
        "font": {
         "family": "Courier New, monospace",
         "size": 18
        },
        "legend": {
         "title": {
          "text": "Version"
         }
        },
        "showlegend": true,
        "template": {
         "data": {
          "bar": [
           {
            "error_x": {
             "color": "#2a3f5f"
            },
            "error_y": {
             "color": "#2a3f5f"
            },
            "marker": {
             "line": {
              "color": "#E5ECF6",
              "width": 0.5
             },
             "pattern": {
              "fillmode": "overlay",
              "size": 10,
              "solidity": 0.2
             }
            },
            "type": "bar"
           }
          ],
          "barpolar": [
           {
            "marker": {
             "line": {
              "color": "#E5ECF6",
              "width": 0.5
             },
             "pattern": {
              "fillmode": "overlay",
              "size": 10,
              "solidity": 0.2
             }
            },
            "type": "barpolar"
           }
          ],
          "carpet": [
           {
            "aaxis": {
             "endlinecolor": "#2a3f5f",
             "gridcolor": "white",
             "linecolor": "white",
             "minorgridcolor": "white",
             "startlinecolor": "#2a3f5f"
            },
            "baxis": {
             "endlinecolor": "#2a3f5f",
             "gridcolor": "white",
             "linecolor": "white",
             "minorgridcolor": "white",
             "startlinecolor": "#2a3f5f"
            },
            "type": "carpet"
           }
          ],
          "choropleth": [
           {
            "colorbar": {
             "outlinewidth": 0,
             "ticks": ""
            },
            "type": "choropleth"
           }
          ],
          "contour": [
           {
            "colorbar": {
             "outlinewidth": 0,
             "ticks": ""
            },
            "colorscale": [
             [
              0,
              "#0d0887"
             ],
             [
              0.1111111111111111,
              "#46039f"
             ],
             [
              0.2222222222222222,
              "#7201a8"
             ],
             [
              0.3333333333333333,
              "#9c179e"
             ],
             [
              0.4444444444444444,
              "#bd3786"
             ],
             [
              0.5555555555555556,
              "#d8576b"
             ],
             [
              0.6666666666666666,
              "#ed7953"
             ],
             [
              0.7777777777777778,
              "#fb9f3a"
             ],
             [
              0.8888888888888888,
              "#fdca26"
             ],
             [
              1,
              "#f0f921"
             ]
            ],
            "type": "contour"
           }
          ],
          "contourcarpet": [
           {
            "colorbar": {
             "outlinewidth": 0,
             "ticks": ""
            },
            "type": "contourcarpet"
           }
          ],
          "heatmap": [
           {
            "colorbar": {
             "outlinewidth": 0,
             "ticks": ""
            },
            "colorscale": [
             [
              0,
              "#0d0887"
             ],
             [
              0.1111111111111111,
              "#46039f"
             ],
             [
              0.2222222222222222,
              "#7201a8"
             ],
             [
              0.3333333333333333,
              "#9c179e"
             ],
             [
              0.4444444444444444,
              "#bd3786"
             ],
             [
              0.5555555555555556,
              "#d8576b"
             ],
             [
              0.6666666666666666,
              "#ed7953"
             ],
             [
              0.7777777777777778,
              "#fb9f3a"
             ],
             [
              0.8888888888888888,
              "#fdca26"
             ],
             [
              1,
              "#f0f921"
             ]
            ],
            "type": "heatmap"
           }
          ],
          "heatmapgl": [
           {
            "colorbar": {
             "outlinewidth": 0,
             "ticks": ""
            },
            "colorscale": [
             [
              0,
              "#0d0887"
             ],
             [
              0.1111111111111111,
              "#46039f"
             ],
             [
              0.2222222222222222,
              "#7201a8"
             ],
             [
              0.3333333333333333,
              "#9c179e"
             ],
             [
              0.4444444444444444,
              "#bd3786"
             ],
             [
              0.5555555555555556,
              "#d8576b"
             ],
             [
              0.6666666666666666,
              "#ed7953"
             ],
             [
              0.7777777777777778,
              "#fb9f3a"
             ],
             [
              0.8888888888888888,
              "#fdca26"
             ],
             [
              1,
              "#f0f921"
             ]
            ],
            "type": "heatmapgl"
           }
          ],
          "histogram": [
           {
            "marker": {
             "pattern": {
              "fillmode": "overlay",
              "size": 10,
              "solidity": 0.2
             }
            },
            "type": "histogram"
           }
          ],
          "histogram2d": [
           {
            "colorbar": {
             "outlinewidth": 0,
             "ticks": ""
            },
            "colorscale": [
             [
              0,
              "#0d0887"
             ],
             [
              0.1111111111111111,
              "#46039f"
             ],
             [
              0.2222222222222222,
              "#7201a8"
             ],
             [
              0.3333333333333333,
              "#9c179e"
             ],
             [
              0.4444444444444444,
              "#bd3786"
             ],
             [
              0.5555555555555556,
              "#d8576b"
             ],
             [
              0.6666666666666666,
              "#ed7953"
             ],
             [
              0.7777777777777778,
              "#fb9f3a"
             ],
             [
              0.8888888888888888,
              "#fdca26"
             ],
             [
              1,
              "#f0f921"
             ]
            ],
            "type": "histogram2d"
           }
          ],
          "histogram2dcontour": [
           {
            "colorbar": {
             "outlinewidth": 0,
             "ticks": ""
            },
            "colorscale": [
             [
              0,
              "#0d0887"
             ],
             [
              0.1111111111111111,
              "#46039f"
             ],
             [
              0.2222222222222222,
              "#7201a8"
             ],
             [
              0.3333333333333333,
              "#9c179e"
             ],
             [
              0.4444444444444444,
              "#bd3786"
             ],
             [
              0.5555555555555556,
              "#d8576b"
             ],
             [
              0.6666666666666666,
              "#ed7953"
             ],
             [
              0.7777777777777778,
              "#fb9f3a"
             ],
             [
              0.8888888888888888,
              "#fdca26"
             ],
             [
              1,
              "#f0f921"
             ]
            ],
            "type": "histogram2dcontour"
           }
          ],
          "mesh3d": [
           {
            "colorbar": {
             "outlinewidth": 0,
             "ticks": ""
            },
            "type": "mesh3d"
           }
          ],
          "parcoords": [
           {
            "line": {
             "colorbar": {
              "outlinewidth": 0,
              "ticks": ""
             }
            },
            "type": "parcoords"
           }
          ],
          "pie": [
           {
            "automargin": true,
            "type": "pie"
           }
          ],
          "scatter": [
           {
            "fillpattern": {
             "fillmode": "overlay",
             "size": 10,
             "solidity": 0.2
            },
            "type": "scatter"
           }
          ],
          "scatter3d": [
           {
            "line": {
             "colorbar": {
              "outlinewidth": 0,
              "ticks": ""
             }
            },
            "marker": {
             "colorbar": {
              "outlinewidth": 0,
              "ticks": ""
             }
            },
            "type": "scatter3d"
           }
          ],
          "scattercarpet": [
           {
            "marker": {
             "colorbar": {
              "outlinewidth": 0,
              "ticks": ""
             }
            },
            "type": "scattercarpet"
           }
          ],
          "scattergeo": [
           {
            "marker": {
             "colorbar": {
              "outlinewidth": 0,
              "ticks": ""
             }
            },
            "type": "scattergeo"
           }
          ],
          "scattergl": [
           {
            "marker": {
             "colorbar": {
              "outlinewidth": 0,
              "ticks": ""
             }
            },
            "type": "scattergl"
           }
          ],
          "scattermapbox": [
           {
            "marker": {
             "colorbar": {
              "outlinewidth": 0,
              "ticks": ""
             }
            },
            "type": "scattermapbox"
           }
          ],
          "scatterpolar": [
           {
            "marker": {
             "colorbar": {
              "outlinewidth": 0,
              "ticks": ""
             }
            },
            "type": "scatterpolar"
           }
          ],
          "scatterpolargl": [
           {
            "marker": {
             "colorbar": {
              "outlinewidth": 0,
              "ticks": ""
             }
            },
            "type": "scatterpolargl"
           }
          ],
          "scatterternary": [
           {
            "marker": {
             "colorbar": {
              "outlinewidth": 0,
              "ticks": ""
             }
            },
            "type": "scatterternary"
           }
          ],
          "surface": [
           {
            "colorbar": {
             "outlinewidth": 0,
             "ticks": ""
            },
            "colorscale": [
             [
              0,
              "#0d0887"
             ],
             [
              0.1111111111111111,
              "#46039f"
             ],
             [
              0.2222222222222222,
              "#7201a8"
             ],
             [
              0.3333333333333333,
              "#9c179e"
             ],
             [
              0.4444444444444444,
              "#bd3786"
             ],
             [
              0.5555555555555556,
              "#d8576b"
             ],
             [
              0.6666666666666666,
              "#ed7953"
             ],
             [
              0.7777777777777778,
              "#fb9f3a"
             ],
             [
              0.8888888888888888,
              "#fdca26"
             ],
             [
              1,
              "#f0f921"
             ]
            ],
            "type": "surface"
           }
          ],
          "table": [
           {
            "cells": {
             "fill": {
              "color": "#EBF0F8"
             },
             "line": {
              "color": "white"
             }
            },
            "header": {
             "fill": {
              "color": "#C8D4E3"
             },
             "line": {
              "color": "white"
             }
            },
            "type": "table"
           }
          ]
         },
         "layout": {
          "annotationdefaults": {
           "arrowcolor": "#2a3f5f",
           "arrowhead": 0,
           "arrowwidth": 1
          },
          "autotypenumbers": "strict",
          "coloraxis": {
           "colorbar": {
            "outlinewidth": 0,
            "ticks": ""
           }
          },
          "colorscale": {
           "diverging": [
            [
             0,
             "#8e0152"
            ],
            [
             0.1,
             "#c51b7d"
            ],
            [
             0.2,
             "#de77ae"
            ],
            [
             0.3,
             "#f1b6da"
            ],
            [
             0.4,
             "#fde0ef"
            ],
            [
             0.5,
             "#f7f7f7"
            ],
            [
             0.6,
             "#e6f5d0"
            ],
            [
             0.7,
             "#b8e186"
            ],
            [
             0.8,
             "#7fbc41"
            ],
            [
             0.9,
             "#4d9221"
            ],
            [
             1,
             "#276419"
            ]
           ],
           "sequential": [
            [
             0,
             "#0d0887"
            ],
            [
             0.1111111111111111,
             "#46039f"
            ],
            [
             0.2222222222222222,
             "#7201a8"
            ],
            [
             0.3333333333333333,
             "#9c179e"
            ],
            [
             0.4444444444444444,
             "#bd3786"
            ],
            [
             0.5555555555555556,
             "#d8576b"
            ],
            [
             0.6666666666666666,
             "#ed7953"
            ],
            [
             0.7777777777777778,
             "#fb9f3a"
            ],
            [
             0.8888888888888888,
             "#fdca26"
            ],
            [
             1,
             "#f0f921"
            ]
           ],
           "sequentialminus": [
            [
             0,
             "#0d0887"
            ],
            [
             0.1111111111111111,
             "#46039f"
            ],
            [
             0.2222222222222222,
             "#7201a8"
            ],
            [
             0.3333333333333333,
             "#9c179e"
            ],
            [
             0.4444444444444444,
             "#bd3786"
            ],
            [
             0.5555555555555556,
             "#d8576b"
            ],
            [
             0.6666666666666666,
             "#ed7953"
            ],
            [
             0.7777777777777778,
             "#fb9f3a"
            ],
            [
             0.8888888888888888,
             "#fdca26"
            ],
            [
             1,
             "#f0f921"
            ]
           ]
          },
          "colorway": [
           "#636efa",
           "#EF553B",
           "#00cc96",
           "#ab63fa",
           "#FFA15A",
           "#19d3f3",
           "#FF6692",
           "#B6E880",
           "#FF97FF",
           "#FECB52"
          ],
          "font": {
           "color": "#2a3f5f"
          },
          "geo": {
           "bgcolor": "white",
           "lakecolor": "white",
           "landcolor": "#E5ECF6",
           "showlakes": true,
           "showland": true,
           "subunitcolor": "white"
          },
          "hoverlabel": {
           "align": "left"
          },
          "hovermode": "closest",
          "mapbox": {
           "style": "light"
          },
          "paper_bgcolor": "white",
          "plot_bgcolor": "#E5ECF6",
          "polar": {
           "angularaxis": {
            "gridcolor": "white",
            "linecolor": "white",
            "ticks": ""
           },
           "bgcolor": "#E5ECF6",
           "radialaxis": {
            "gridcolor": "white",
            "linecolor": "white",
            "ticks": ""
           }
          },
          "scene": {
           "xaxis": {
            "backgroundcolor": "#E5ECF6",
            "gridcolor": "white",
            "gridwidth": 2,
            "linecolor": "white",
            "showbackground": true,
            "ticks": "",
            "zerolinecolor": "white"
           },
           "yaxis": {
            "backgroundcolor": "#E5ECF6",
            "gridcolor": "white",
            "gridwidth": 2,
            "linecolor": "white",
            "showbackground": true,
            "ticks": "",
            "zerolinecolor": "white"
           },
           "zaxis": {
            "backgroundcolor": "#E5ECF6",
            "gridcolor": "white",
            "gridwidth": 2,
            "linecolor": "white",
            "showbackground": true,
            "ticks": "",
            "zerolinecolor": "white"
           }
          },
          "shapedefaults": {
           "line": {
            "color": "#2a3f5f"
           }
          },
          "ternary": {
           "aaxis": {
            "gridcolor": "white",
            "linecolor": "white",
            "ticks": ""
           },
           "baxis": {
            "gridcolor": "white",
            "linecolor": "white",
            "ticks": ""
           },
           "bgcolor": "#E5ECF6",
           "caxis": {
            "gridcolor": "white",
            "linecolor": "white",
            "ticks": ""
           }
          },
          "title": {
           "x": 0.05
          },
          "xaxis": {
           "automargin": true,
           "gridcolor": "white",
           "linecolor": "white",
           "ticks": "",
           "title": {
            "standoff": 15
           },
           "zerolinecolor": "white",
           "zerolinewidth": 2
          },
          "yaxis": {
           "automargin": true,
           "gridcolor": "white",
           "linecolor": "white",
           "ticks": "",
           "title": {
            "standoff": 15
           },
           "zerolinecolor": "white",
           "zerolinewidth": 2
          }
         }
        },
        "title": {
         "text": "Weak efficiency<br><sup>3 THIN nodes - OMP places: cores, OMP policy: close</sup>",
         "x": 0,
         "xref": "paper"
        },
        "xaxis": {
         "dtick": "1",
         "tick0": "1",
         "tickmode": "linear",
         "title": {
          "text": "MPI tasks<br><sup> 12 threads per process"
         }
        },
        "yaxis": {
         "dtick": "0.1",
         "tick0": "0",
         "tickmode": "linear",
         "title": {
          "text": "Efficiency"
         }
        }
       }
      }
     },
     "metadata": {},
     "output_type": "display_data"
    }
   ],
   "source": [
    "\n",
    "fig = go.Figure()\n",
    "\n",
    "fig.add_trace(go.Scatter(x=weak_MPI_thin_hybrid_static_avg[\"size\"][\"mean\"], y=weak_MPI_thin_hybrid_static_avg[\"weak_efficiency\"], name='hybrid v2',\n",
    "                         error_y=dict(\n",
    "                             type=\"data\",\n",
    "                             array=weak_MPI_thin_hybrid_static_avg[\"weak_efficiency_err\"],\n",
    "                             visible=True)))\n",
    "fig.add_trace(go.Scatter(x=weak_MPI_thin_hybrid_static_avg[\"size\"][\"mean\"], y=weak_MPI_thin_hybrid_static_avg[\"expected_efficiency\"], name='expected efficiency'))\n",
    "\n",
    "fig.update_layout(\n",
    "    title=go.layout.Title(\n",
    "        text=\"Weak efficiency<br><sup>3 THIN nodes - OMP places: cores, OMP policy: close</sup>\",\n",
    "        xref=\"paper\",\n",
    "        x=0,\n",
    "    ),\n",
    "    xaxis_title=\"MPI tasks<br><sup> 12 threads per process\",\n",
    "    xaxis = dict(\n",
    "        tickmode = 'linear',\n",
    "        tick0 = '1',\n",
    "        dtick = '1'\n",
    "    ),\n",
    "    yaxis_title=\"Efficiency\",\n",
    "    yaxis = dict(\n",
    "        tickmode = 'linear',\n",
    "        tick0 = '0',\n",
    "        dtick = '0.1'\n",
    "    ),\n",
    "    legend_title=\"Version\",\n",
    "    showlegend=True,\n",
    "    font=dict(\n",
    "        family=\"Courier New, monospace\",\n",
    "        size=18,\n",
    "    ),\n",
    "    colorway=[\"#fcae91\",\"#7570b3\"],\n",
    ")\n",
    "fig.show()\n",
    "fig.write_image(\"/home/andres/hpc/Foundations_of_HPC_2022/Assignment/my_assignment/report/images/weak_MPI_thin_hybrid.pdf\", height=500, width=1000)"
   ]
  },
  {
   "cell_type": "markdown",
   "metadata": {},
   "source": [
    "# EPYC"
   ]
  },
  {
   "cell_type": "code",
   "execution_count": 86,
   "metadata": {},
   "outputs": [],
   "source": [
    "weak_MPI_epyc_hybrid_static = pd.read_csv(\"./weak_MPI_epyc_hybrid_static.csv\")\n",
    "\n",
    "weak_MPI_epyc_hybrid_static = weak_MPI_epyc_hybrid_static.groupby(weak_MPI_epyc_hybrid_static.index // 10)\n",
    "\n",
    "weak_MPI_epyc_hybrid_static_avg = weak_MPI_epyc_hybrid_static.agg({'size':['mean','std'], 'nthreads_per_process':['mean','std'], 'total_nthreads':['mean','std'], 'time':['mean','std']})"
   ]
  },
  {
   "cell_type": "code",
   "execution_count": 87,
   "metadata": {},
   "outputs": [],
   "source": [
    "weak_MPI_epyc_hybrid_static_avg[\"weak_efficiency\"] = weak_MPI_epyc_hybrid_static_avg[\"time\"][\"mean\"][0]/weak_MPI_epyc_hybrid_static_avg[\"time\"][\"mean\"]\n",
    "weak_MPI_epyc_hybrid_static_avg['expected_efficiency']=[1]*len(weak_MPI_epyc_hybrid_static_avg)\n",
    "weak_MPI_epyc_hybrid_static_avg['weak_efficiency_err']=weak_MPI_epyc_hybrid_static_avg[\"time\"][\"std\"]*weak_MPI_epyc_hybrid_static_avg[\"time\"][\"mean\"][0]/weak_MPI_epyc_hybrid_static_avg[\"time\"][\"mean\"]**2"
   ]
  },
  {
   "cell_type": "code",
   "execution_count": 88,
   "metadata": {},
   "outputs": [
    {
     "data": {
      "application/vnd.plotly.v1+json": {
       "config": {
        "plotlyServerURL": "https://plot.ly"
       },
       "data": [
        {
         "error_y": {
          "array": [
           0.007787131633864782,
           0.012833345395663548,
           0.010060171947995498,
           0.006426005308368598,
           0.0005917709757808647,
           0.0009587432339248245,
           0.0005190922575404237,
           0.0004298244142805383
          ],
          "type": "data",
          "visible": true
         },
         "name": "hybrid v2",
         "type": "scatter",
         "x": [
          1,
          2,
          3,
          4,
          5,
          6,
          7,
          8
         ],
         "y": [
          1,
          0.9590245599513338,
          0.29623743129971536,
          0.2670349668669157,
          0.14032272517978034,
          0.1394139720110571,
          0.1042662195043002,
          0.10416935227571945
         ]
        },
        {
         "name": "expected efficiency",
         "type": "scatter",
         "x": [
          1,
          2,
          3,
          4,
          5,
          6,
          7,
          8
         ],
         "y": [
          1,
          1,
          1,
          1,
          1,
          1,
          1,
          1
         ]
        }
       ],
       "layout": {
        "colorway": [
         "#fcae91",
         "#7570b3"
        ],
        "font": {
         "family": "Courier New, monospace",
         "size": 18
        },
        "legend": {
         "title": {
          "text": "Version"
         }
        },
        "showlegend": true,
        "template": {
         "data": {
          "bar": [
           {
            "error_x": {
             "color": "#2a3f5f"
            },
            "error_y": {
             "color": "#2a3f5f"
            },
            "marker": {
             "line": {
              "color": "#E5ECF6",
              "width": 0.5
             },
             "pattern": {
              "fillmode": "overlay",
              "size": 10,
              "solidity": 0.2
             }
            },
            "type": "bar"
           }
          ],
          "barpolar": [
           {
            "marker": {
             "line": {
              "color": "#E5ECF6",
              "width": 0.5
             },
             "pattern": {
              "fillmode": "overlay",
              "size": 10,
              "solidity": 0.2
             }
            },
            "type": "barpolar"
           }
          ],
          "carpet": [
           {
            "aaxis": {
             "endlinecolor": "#2a3f5f",
             "gridcolor": "white",
             "linecolor": "white",
             "minorgridcolor": "white",
             "startlinecolor": "#2a3f5f"
            },
            "baxis": {
             "endlinecolor": "#2a3f5f",
             "gridcolor": "white",
             "linecolor": "white",
             "minorgridcolor": "white",
             "startlinecolor": "#2a3f5f"
            },
            "type": "carpet"
           }
          ],
          "choropleth": [
           {
            "colorbar": {
             "outlinewidth": 0,
             "ticks": ""
            },
            "type": "choropleth"
           }
          ],
          "contour": [
           {
            "colorbar": {
             "outlinewidth": 0,
             "ticks": ""
            },
            "colorscale": [
             [
              0,
              "#0d0887"
             ],
             [
              0.1111111111111111,
              "#46039f"
             ],
             [
              0.2222222222222222,
              "#7201a8"
             ],
             [
              0.3333333333333333,
              "#9c179e"
             ],
             [
              0.4444444444444444,
              "#bd3786"
             ],
             [
              0.5555555555555556,
              "#d8576b"
             ],
             [
              0.6666666666666666,
              "#ed7953"
             ],
             [
              0.7777777777777778,
              "#fb9f3a"
             ],
             [
              0.8888888888888888,
              "#fdca26"
             ],
             [
              1,
              "#f0f921"
             ]
            ],
            "type": "contour"
           }
          ],
          "contourcarpet": [
           {
            "colorbar": {
             "outlinewidth": 0,
             "ticks": ""
            },
            "type": "contourcarpet"
           }
          ],
          "heatmap": [
           {
            "colorbar": {
             "outlinewidth": 0,
             "ticks": ""
            },
            "colorscale": [
             [
              0,
              "#0d0887"
             ],
             [
              0.1111111111111111,
              "#46039f"
             ],
             [
              0.2222222222222222,
              "#7201a8"
             ],
             [
              0.3333333333333333,
              "#9c179e"
             ],
             [
              0.4444444444444444,
              "#bd3786"
             ],
             [
              0.5555555555555556,
              "#d8576b"
             ],
             [
              0.6666666666666666,
              "#ed7953"
             ],
             [
              0.7777777777777778,
              "#fb9f3a"
             ],
             [
              0.8888888888888888,
              "#fdca26"
             ],
             [
              1,
              "#f0f921"
             ]
            ],
            "type": "heatmap"
           }
          ],
          "heatmapgl": [
           {
            "colorbar": {
             "outlinewidth": 0,
             "ticks": ""
            },
            "colorscale": [
             [
              0,
              "#0d0887"
             ],
             [
              0.1111111111111111,
              "#46039f"
             ],
             [
              0.2222222222222222,
              "#7201a8"
             ],
             [
              0.3333333333333333,
              "#9c179e"
             ],
             [
              0.4444444444444444,
              "#bd3786"
             ],
             [
              0.5555555555555556,
              "#d8576b"
             ],
             [
              0.6666666666666666,
              "#ed7953"
             ],
             [
              0.7777777777777778,
              "#fb9f3a"
             ],
             [
              0.8888888888888888,
              "#fdca26"
             ],
             [
              1,
              "#f0f921"
             ]
            ],
            "type": "heatmapgl"
           }
          ],
          "histogram": [
           {
            "marker": {
             "pattern": {
              "fillmode": "overlay",
              "size": 10,
              "solidity": 0.2
             }
            },
            "type": "histogram"
           }
          ],
          "histogram2d": [
           {
            "colorbar": {
             "outlinewidth": 0,
             "ticks": ""
            },
            "colorscale": [
             [
              0,
              "#0d0887"
             ],
             [
              0.1111111111111111,
              "#46039f"
             ],
             [
              0.2222222222222222,
              "#7201a8"
             ],
             [
              0.3333333333333333,
              "#9c179e"
             ],
             [
              0.4444444444444444,
              "#bd3786"
             ],
             [
              0.5555555555555556,
              "#d8576b"
             ],
             [
              0.6666666666666666,
              "#ed7953"
             ],
             [
              0.7777777777777778,
              "#fb9f3a"
             ],
             [
              0.8888888888888888,
              "#fdca26"
             ],
             [
              1,
              "#f0f921"
             ]
            ],
            "type": "histogram2d"
           }
          ],
          "histogram2dcontour": [
           {
            "colorbar": {
             "outlinewidth": 0,
             "ticks": ""
            },
            "colorscale": [
             [
              0,
              "#0d0887"
             ],
             [
              0.1111111111111111,
              "#46039f"
             ],
             [
              0.2222222222222222,
              "#7201a8"
             ],
             [
              0.3333333333333333,
              "#9c179e"
             ],
             [
              0.4444444444444444,
              "#bd3786"
             ],
             [
              0.5555555555555556,
              "#d8576b"
             ],
             [
              0.6666666666666666,
              "#ed7953"
             ],
             [
              0.7777777777777778,
              "#fb9f3a"
             ],
             [
              0.8888888888888888,
              "#fdca26"
             ],
             [
              1,
              "#f0f921"
             ]
            ],
            "type": "histogram2dcontour"
           }
          ],
          "mesh3d": [
           {
            "colorbar": {
             "outlinewidth": 0,
             "ticks": ""
            },
            "type": "mesh3d"
           }
          ],
          "parcoords": [
           {
            "line": {
             "colorbar": {
              "outlinewidth": 0,
              "ticks": ""
             }
            },
            "type": "parcoords"
           }
          ],
          "pie": [
           {
            "automargin": true,
            "type": "pie"
           }
          ],
          "scatter": [
           {
            "fillpattern": {
             "fillmode": "overlay",
             "size": 10,
             "solidity": 0.2
            },
            "type": "scatter"
           }
          ],
          "scatter3d": [
           {
            "line": {
             "colorbar": {
              "outlinewidth": 0,
              "ticks": ""
             }
            },
            "marker": {
             "colorbar": {
              "outlinewidth": 0,
              "ticks": ""
             }
            },
            "type": "scatter3d"
           }
          ],
          "scattercarpet": [
           {
            "marker": {
             "colorbar": {
              "outlinewidth": 0,
              "ticks": ""
             }
            },
            "type": "scattercarpet"
           }
          ],
          "scattergeo": [
           {
            "marker": {
             "colorbar": {
              "outlinewidth": 0,
              "ticks": ""
             }
            },
            "type": "scattergeo"
           }
          ],
          "scattergl": [
           {
            "marker": {
             "colorbar": {
              "outlinewidth": 0,
              "ticks": ""
             }
            },
            "type": "scattergl"
           }
          ],
          "scattermapbox": [
           {
            "marker": {
             "colorbar": {
              "outlinewidth": 0,
              "ticks": ""
             }
            },
            "type": "scattermapbox"
           }
          ],
          "scatterpolar": [
           {
            "marker": {
             "colorbar": {
              "outlinewidth": 0,
              "ticks": ""
             }
            },
            "type": "scatterpolar"
           }
          ],
          "scatterpolargl": [
           {
            "marker": {
             "colorbar": {
              "outlinewidth": 0,
              "ticks": ""
             }
            },
            "type": "scatterpolargl"
           }
          ],
          "scatterternary": [
           {
            "marker": {
             "colorbar": {
              "outlinewidth": 0,
              "ticks": ""
             }
            },
            "type": "scatterternary"
           }
          ],
          "surface": [
           {
            "colorbar": {
             "outlinewidth": 0,
             "ticks": ""
            },
            "colorscale": [
             [
              0,
              "#0d0887"
             ],
             [
              0.1111111111111111,
              "#46039f"
             ],
             [
              0.2222222222222222,
              "#7201a8"
             ],
             [
              0.3333333333333333,
              "#9c179e"
             ],
             [
              0.4444444444444444,
              "#bd3786"
             ],
             [
              0.5555555555555556,
              "#d8576b"
             ],
             [
              0.6666666666666666,
              "#ed7953"
             ],
             [
              0.7777777777777778,
              "#fb9f3a"
             ],
             [
              0.8888888888888888,
              "#fdca26"
             ],
             [
              1,
              "#f0f921"
             ]
            ],
            "type": "surface"
           }
          ],
          "table": [
           {
            "cells": {
             "fill": {
              "color": "#EBF0F8"
             },
             "line": {
              "color": "white"
             }
            },
            "header": {
             "fill": {
              "color": "#C8D4E3"
             },
             "line": {
              "color": "white"
             }
            },
            "type": "table"
           }
          ]
         },
         "layout": {
          "annotationdefaults": {
           "arrowcolor": "#2a3f5f",
           "arrowhead": 0,
           "arrowwidth": 1
          },
          "autotypenumbers": "strict",
          "coloraxis": {
           "colorbar": {
            "outlinewidth": 0,
            "ticks": ""
           }
          },
          "colorscale": {
           "diverging": [
            [
             0,
             "#8e0152"
            ],
            [
             0.1,
             "#c51b7d"
            ],
            [
             0.2,
             "#de77ae"
            ],
            [
             0.3,
             "#f1b6da"
            ],
            [
             0.4,
             "#fde0ef"
            ],
            [
             0.5,
             "#f7f7f7"
            ],
            [
             0.6,
             "#e6f5d0"
            ],
            [
             0.7,
             "#b8e186"
            ],
            [
             0.8,
             "#7fbc41"
            ],
            [
             0.9,
             "#4d9221"
            ],
            [
             1,
             "#276419"
            ]
           ],
           "sequential": [
            [
             0,
             "#0d0887"
            ],
            [
             0.1111111111111111,
             "#46039f"
            ],
            [
             0.2222222222222222,
             "#7201a8"
            ],
            [
             0.3333333333333333,
             "#9c179e"
            ],
            [
             0.4444444444444444,
             "#bd3786"
            ],
            [
             0.5555555555555556,
             "#d8576b"
            ],
            [
             0.6666666666666666,
             "#ed7953"
            ],
            [
             0.7777777777777778,
             "#fb9f3a"
            ],
            [
             0.8888888888888888,
             "#fdca26"
            ],
            [
             1,
             "#f0f921"
            ]
           ],
           "sequentialminus": [
            [
             0,
             "#0d0887"
            ],
            [
             0.1111111111111111,
             "#46039f"
            ],
            [
             0.2222222222222222,
             "#7201a8"
            ],
            [
             0.3333333333333333,
             "#9c179e"
            ],
            [
             0.4444444444444444,
             "#bd3786"
            ],
            [
             0.5555555555555556,
             "#d8576b"
            ],
            [
             0.6666666666666666,
             "#ed7953"
            ],
            [
             0.7777777777777778,
             "#fb9f3a"
            ],
            [
             0.8888888888888888,
             "#fdca26"
            ],
            [
             1,
             "#f0f921"
            ]
           ]
          },
          "colorway": [
           "#636efa",
           "#EF553B",
           "#00cc96",
           "#ab63fa",
           "#FFA15A",
           "#19d3f3",
           "#FF6692",
           "#B6E880",
           "#FF97FF",
           "#FECB52"
          ],
          "font": {
           "color": "#2a3f5f"
          },
          "geo": {
           "bgcolor": "white",
           "lakecolor": "white",
           "landcolor": "#E5ECF6",
           "showlakes": true,
           "showland": true,
           "subunitcolor": "white"
          },
          "hoverlabel": {
           "align": "left"
          },
          "hovermode": "closest",
          "mapbox": {
           "style": "light"
          },
          "paper_bgcolor": "white",
          "plot_bgcolor": "#E5ECF6",
          "polar": {
           "angularaxis": {
            "gridcolor": "white",
            "linecolor": "white",
            "ticks": ""
           },
           "bgcolor": "#E5ECF6",
           "radialaxis": {
            "gridcolor": "white",
            "linecolor": "white",
            "ticks": ""
           }
          },
          "scene": {
           "xaxis": {
            "backgroundcolor": "#E5ECF6",
            "gridcolor": "white",
            "gridwidth": 2,
            "linecolor": "white",
            "showbackground": true,
            "ticks": "",
            "zerolinecolor": "white"
           },
           "yaxis": {
            "backgroundcolor": "#E5ECF6",
            "gridcolor": "white",
            "gridwidth": 2,
            "linecolor": "white",
            "showbackground": true,
            "ticks": "",
            "zerolinecolor": "white"
           },
           "zaxis": {
            "backgroundcolor": "#E5ECF6",
            "gridcolor": "white",
            "gridwidth": 2,
            "linecolor": "white",
            "showbackground": true,
            "ticks": "",
            "zerolinecolor": "white"
           }
          },
          "shapedefaults": {
           "line": {
            "color": "#2a3f5f"
           }
          },
          "ternary": {
           "aaxis": {
            "gridcolor": "white",
            "linecolor": "white",
            "ticks": ""
           },
           "baxis": {
            "gridcolor": "white",
            "linecolor": "white",
            "ticks": ""
           },
           "bgcolor": "#E5ECF6",
           "caxis": {
            "gridcolor": "white",
            "linecolor": "white",
            "ticks": ""
           }
          },
          "title": {
           "x": 0.05
          },
          "xaxis": {
           "automargin": true,
           "gridcolor": "white",
           "linecolor": "white",
           "ticks": "",
           "title": {
            "standoff": 15
           },
           "zerolinecolor": "white",
           "zerolinewidth": 2
          },
          "yaxis": {
           "automargin": true,
           "gridcolor": "white",
           "linecolor": "white",
           "ticks": "",
           "title": {
            "standoff": 15
           },
           "zerolinecolor": "white",
           "zerolinewidth": 2
          }
         }
        },
        "title": {
         "text": "Weak efficiency<br><sup>4 EPYC nodes - OMP places: cores, OMP policy: close</sup>",
         "x": 0,
         "xref": "paper"
        },
        "xaxis": {
         "dtick": "1",
         "tick0": "1",
         "tickmode": "linear",
         "title": {
          "text": "MPI tasks<br><sup> 64 threads per process"
         }
        },
        "yaxis": {
         "dtick": "0.1",
         "tick0": "0",
         "tickmode": "linear",
         "title": {
          "text": "Efficiency"
         }
        }
       }
      }
     },
     "metadata": {},
     "output_type": "display_data"
    }
   ],
   "source": [
    "fig = go.Figure()\n",
    "\n",
    "fig.add_trace(go.Scatter(x=weak_MPI_epyc_hybrid_static_avg[\"size\"][\"mean\"], y=weak_MPI_epyc_hybrid_static_avg[\"weak_efficiency\"], name='hybrid v2',\n",
    "                         error_y=dict(\n",
    "                             type=\"data\",\n",
    "                             array=weak_MPI_epyc_hybrid_static_avg[\"weak_efficiency_err\"],\n",
    "                             visible=True)))\n",
    "fig.add_trace(go.Scatter(x=weak_MPI_epyc_hybrid_static_avg[\"size\"][\"mean\"], y=weak_MPI_epyc_hybrid_static_avg[\"expected_efficiency\"], name='expected efficiency'))\n",
    "\n",
    "fig.update_layout(\n",
    "    title=go.layout.Title(\n",
    "        text=\"Weak efficiency<br><sup>4 EPYC nodes - OMP places: cores, OMP policy: close</sup>\",\n",
    "        xref=\"paper\",\n",
    "        x=0,\n",
    "    ),\n",
    "    xaxis_title=\"MPI tasks<br><sup> 64 threads per process\",\n",
    "    xaxis = dict(\n",
    "        tickmode = 'linear',\n",
    "        tick0 = '1',\n",
    "        dtick = '1'\n",
    "    ),\n",
    "    yaxis_title=\"Efficiency\",\n",
    "    yaxis = dict(\n",
    "        tickmode = 'linear',\n",
    "        tick0 = '0',\n",
    "        dtick = '0.1'\n",
    "    ),\n",
    "    legend_title=\"Version\",\n",
    "    showlegend=True,\n",
    "    font=dict(\n",
    "        family=\"Courier New, monospace\",\n",
    "        size=18,\n",
    "    ),\n",
    "    colorway=[\"#fcae91\",\"#7570b3\"],\n",
    ")\n",
    "fig.show()\n",
    "fig.write_image(\"/home/andres/hpc/Foundations_of_HPC_2022/Assignment/my_assignment/report/images/weak_MPI_epyc_hybrid.pdf\", height=500, width=1000)"
   ]
  },
  {
   "cell_type": "markdown",
   "metadata": {},
   "source": [
    "# Algo 2"
   ]
  },
  {
   "cell_type": "markdown",
   "metadata": {},
   "source": [
    "## Serial"
   ]
  },
  {
   "cell_type": "code",
   "execution_count": 2,
   "metadata": {},
   "outputs": [],
   "source": [
    "serial_algo2_static_grid_010k = pd.read_csv(\"./a1_v_a2_serial_grid_010k.csv\")\n",
    "serial_algo2_static_grid_010k = serial_algo2_static_grid_010k.groupby(serial_algo2_static_grid_010k.index // 10)\n",
    "serial_algo2_static_grid_010k_avg = serial_algo2_static_grid_010k.agg({'time':['mean','std']})"
   ]
  },
  {
   "cell_type": "code",
   "execution_count": 90,
   "metadata": {},
   "outputs": [
    {
     "name": "stdout",
     "output_type": "stream",
     "text": [
      "         time          \n",
      "         mean       std\n",
      "0   85.152029  0.104763\n",
      "1  101.031423  0.010323\n",
      "2   84.939791  0.021376\n",
      "3   25.155352  0.012116\n"
     ]
    }
   ],
   "source": [
    "print(serial_algo2_static_grid_010k_avg)"
   ]
  },
  {
   "cell_type": "markdown",
   "metadata": {},
   "source": [
    "## MPI"
   ]
  },
  {
   "cell_type": "code",
   "execution_count": 3,
   "metadata": {},
   "outputs": [],
   "source": [
    "mpi_algo1_static_grids = pd.read_csv(\"./a1_v_a2_strong_MPI_grid_010k_p1.csv\")\n",
    "mpi_algo1_static_random_grid_ref = mpi_algo1_static_grids[\"time\"][:3].mean()\n",
    "mpi_algo1_static_glider_grid_ref = mpi_algo1_static_grids[\"time\"][3:6].mean()\n",
    "\n",
    "mpi_algo1_static_random_grid = mpi_algo1_static_grids[6:66]\n",
    "mpi_algo1_static_glider_grid = mpi_algo1_static_grids[66:]\n",
    "\n",
    "mpi_algo1_static_random_grid = mpi_algo1_static_random_grid.groupby(mpi_algo1_static_random_grid.index // 10)\n",
    "mpi_algo1_static_glider_grid = mpi_algo1_static_glider_grid.groupby(mpi_algo1_static_glider_grid.index // 10)\n",
    "\n",
    "mpi_algo1_static_random_grid_avg = mpi_algo1_static_random_grid.agg({'size':['mean','std'], 'nthread_per_process':['mean','std'], 'total_nthreads':['mean','std'], 'time':['mean','std']})\n",
    "mpi_algo1_static_glider_grid_avg = mpi_algo1_static_glider_grid.agg({'size':['mean','std'], 'nthread_per_process':['mean','std'], 'total_nthreads':['mean','std'], 'time':['mean','std']})"
   ]
  },
  {
   "cell_type": "code",
   "execution_count": 92,
   "metadata": {},
   "outputs": [
    {
     "name": "stdout",
     "output_type": "stream",
     "text": [
      "73.534467\n",
      "73.62552933333333\n"
     ]
    }
   ],
   "source": [
    "print(mpi_algo1_static_random_grid_ref)\n",
    "print(mpi_algo1_static_glider_grid_ref)\n"
   ]
  },
  {
   "cell_type": "code",
   "execution_count": 4,
   "metadata": {},
   "outputs": [],
   "source": [
    "mpi_algo2_static_grids = pd.read_csv(\"./a1_v_a2_strong_MPI_grid_010k_p2.csv\")\n",
    "mpi_algo2_static_random_grid_ref = mpi_algo2_static_grids[\"time\"][:3].mean()\n",
    "mpi_algo2_static_glider_grid_ref = mpi_algo2_static_grids[\"time\"][3:6].mean()\n",
    "\n",
    "mpi_algo2_static_random_grid = mpi_algo2_static_grids[6:66]\n",
    "mpi_algo2_static_glider_grid = mpi_algo2_static_grids[66:]\n",
    "\n",
    "mpi_algo2_static_random_grid = mpi_algo2_static_random_grid.groupby(mpi_algo2_static_random_grid.index // 10)\n",
    "mpi_algo2_static_glider_grid = mpi_algo2_static_glider_grid.groupby(mpi_algo2_static_glider_grid.index // 10)\n",
    "\n",
    "mpi_algo2_static_random_grid_avg = mpi_algo2_static_random_grid.agg({'size':['mean','std'], 'time':['mean','std']})\n",
    "mpi_algo2_static_glider_grid_avg = mpi_algo2_static_glider_grid.agg({'size':['mean','std'], 'time':['mean','std']})"
   ]
  },
  {
   "cell_type": "code",
   "execution_count": 94,
   "metadata": {},
   "outputs": [
    {
     "name": "stdout",
     "output_type": "stream",
     "text": [
      "94.27738433333333\n",
      "16.452601\n"
     ]
    }
   ],
   "source": [
    "print(mpi_algo2_static_random_grid_ref)\n",
    "print(mpi_algo2_static_glider_grid_ref)"
   ]
  },
  {
   "cell_type": "code",
   "execution_count": 95,
   "metadata": {},
   "outputs": [
    {
     "data": {
      "application/vnd.plotly.v1+json": {
       "config": {
        "plotlyServerURL": "https://plot.ly"
       },
       "data": [
        {
         "error_y": {
          "array": [
           0.0012289850487291483,
           1.5191183617568014,
           0.5219587776907827,
           0.2563292839958661,
           0.1533367337573675,
           0.10223217428127884,
           0.0012070045015105178
          ],
          "type": "data",
          "visible": true
         },
         "name": "A1 - random",
         "type": "scatter",
         "x": [
          12,
          16.8,
          28.8,
          40.8,
          52.8,
          64.8,
          72
         ],
         "y": [
          5.94394475,
          4.765732,
          2.5953857,
          1.7905995000000001,
          1.3741726,
          1.1157545,
          0.9971503333333334
         ]
        },
        {
         "error_y": {
          "array": [
           0.0011555611551679159,
           1.5173206540640456,
           0.5316704123333468,
           0.25473523113837665,
           0.15262964762092882,
           0.10037440129590361,
           0.0017191182235863074
          ],
          "type": "data",
          "visible": true
         },
         "name": "A1 - glider",
         "type": "scatter",
         "x": [
          12,
          16.8,
          28.8,
          40.8,
          52.8,
          64.8,
          72
         ],
         "y": [
          5.94306575,
          4.7684283,
          2.6083904,
          1.7900946999999998,
          1.374684,
          1.1188002000000001,
          1.0004116666666667
         ]
        },
        {
         "error_y": {
          "array": [
           0.02229827918622102,
           1.9718193640987047,
           0.67617372570287,
           0.3411962960679509,
           0.20625880465702412,
           0.13917674258949378,
           0.007822103751549228
          ],
          "type": "data",
          "visible": true
         },
         "name": "A2 - random",
         "type": "scatter",
         "x": [
          12,
          16.8,
          28.8,
          40.8,
          52.8,
          64.8,
          72
         ],
         "y": [
          7.778736,
          6.2437272,
          3.4270833000000005,
          2.3827874,
          1.8193091,
          1.4833273999999999,
          1.3144095
         ]
        },
        {
         "error_y": {
          "array": [
           0.0045403308616589295,
           0.3052841738033053,
           0.1336069962920272,
           0.06971580648636609,
           0.03352918418151234,
           0.02938580139852122,
           0.010972463037076045
          ],
          "type": "data",
          "visible": true
         },
         "name": "A2 - glider",
         "type": "scatter",
         "x": [
          12,
          16.8,
          28.8,
          40.8,
          52.8,
          64.8,
          72
         ],
         "y": [
          1.3599145,
          1.1257081,
          0.6688758,
          0.4606806,
          0.35757589999999995,
          0.2989705,
          0.2765885
         ]
        }
       ],
       "layout": {
        "colorway": [
         "#b2df8a",
         "#33a02c",
         "#a6cee3",
         "#1f78b4"
        ],
        "font": {
         "family": "Courier New, monospace",
         "size": 18
        },
        "legend": {
         "title": {
          "text": "Algorithm - Grid Type"
         }
        },
        "showlegend": true,
        "template": {
         "data": {
          "bar": [
           {
            "error_x": {
             "color": "#2a3f5f"
            },
            "error_y": {
             "color": "#2a3f5f"
            },
            "marker": {
             "line": {
              "color": "#E5ECF6",
              "width": 0.5
             },
             "pattern": {
              "fillmode": "overlay",
              "size": 10,
              "solidity": 0.2
             }
            },
            "type": "bar"
           }
          ],
          "barpolar": [
           {
            "marker": {
             "line": {
              "color": "#E5ECF6",
              "width": 0.5
             },
             "pattern": {
              "fillmode": "overlay",
              "size": 10,
              "solidity": 0.2
             }
            },
            "type": "barpolar"
           }
          ],
          "carpet": [
           {
            "aaxis": {
             "endlinecolor": "#2a3f5f",
             "gridcolor": "white",
             "linecolor": "white",
             "minorgridcolor": "white",
             "startlinecolor": "#2a3f5f"
            },
            "baxis": {
             "endlinecolor": "#2a3f5f",
             "gridcolor": "white",
             "linecolor": "white",
             "minorgridcolor": "white",
             "startlinecolor": "#2a3f5f"
            },
            "type": "carpet"
           }
          ],
          "choropleth": [
           {
            "colorbar": {
             "outlinewidth": 0,
             "ticks": ""
            },
            "type": "choropleth"
           }
          ],
          "contour": [
           {
            "colorbar": {
             "outlinewidth": 0,
             "ticks": ""
            },
            "colorscale": [
             [
              0,
              "#0d0887"
             ],
             [
              0.1111111111111111,
              "#46039f"
             ],
             [
              0.2222222222222222,
              "#7201a8"
             ],
             [
              0.3333333333333333,
              "#9c179e"
             ],
             [
              0.4444444444444444,
              "#bd3786"
             ],
             [
              0.5555555555555556,
              "#d8576b"
             ],
             [
              0.6666666666666666,
              "#ed7953"
             ],
             [
              0.7777777777777778,
              "#fb9f3a"
             ],
             [
              0.8888888888888888,
              "#fdca26"
             ],
             [
              1,
              "#f0f921"
             ]
            ],
            "type": "contour"
           }
          ],
          "contourcarpet": [
           {
            "colorbar": {
             "outlinewidth": 0,
             "ticks": ""
            },
            "type": "contourcarpet"
           }
          ],
          "heatmap": [
           {
            "colorbar": {
             "outlinewidth": 0,
             "ticks": ""
            },
            "colorscale": [
             [
              0,
              "#0d0887"
             ],
             [
              0.1111111111111111,
              "#46039f"
             ],
             [
              0.2222222222222222,
              "#7201a8"
             ],
             [
              0.3333333333333333,
              "#9c179e"
             ],
             [
              0.4444444444444444,
              "#bd3786"
             ],
             [
              0.5555555555555556,
              "#d8576b"
             ],
             [
              0.6666666666666666,
              "#ed7953"
             ],
             [
              0.7777777777777778,
              "#fb9f3a"
             ],
             [
              0.8888888888888888,
              "#fdca26"
             ],
             [
              1,
              "#f0f921"
             ]
            ],
            "type": "heatmap"
           }
          ],
          "heatmapgl": [
           {
            "colorbar": {
             "outlinewidth": 0,
             "ticks": ""
            },
            "colorscale": [
             [
              0,
              "#0d0887"
             ],
             [
              0.1111111111111111,
              "#46039f"
             ],
             [
              0.2222222222222222,
              "#7201a8"
             ],
             [
              0.3333333333333333,
              "#9c179e"
             ],
             [
              0.4444444444444444,
              "#bd3786"
             ],
             [
              0.5555555555555556,
              "#d8576b"
             ],
             [
              0.6666666666666666,
              "#ed7953"
             ],
             [
              0.7777777777777778,
              "#fb9f3a"
             ],
             [
              0.8888888888888888,
              "#fdca26"
             ],
             [
              1,
              "#f0f921"
             ]
            ],
            "type": "heatmapgl"
           }
          ],
          "histogram": [
           {
            "marker": {
             "pattern": {
              "fillmode": "overlay",
              "size": 10,
              "solidity": 0.2
             }
            },
            "type": "histogram"
           }
          ],
          "histogram2d": [
           {
            "colorbar": {
             "outlinewidth": 0,
             "ticks": ""
            },
            "colorscale": [
             [
              0,
              "#0d0887"
             ],
             [
              0.1111111111111111,
              "#46039f"
             ],
             [
              0.2222222222222222,
              "#7201a8"
             ],
             [
              0.3333333333333333,
              "#9c179e"
             ],
             [
              0.4444444444444444,
              "#bd3786"
             ],
             [
              0.5555555555555556,
              "#d8576b"
             ],
             [
              0.6666666666666666,
              "#ed7953"
             ],
             [
              0.7777777777777778,
              "#fb9f3a"
             ],
             [
              0.8888888888888888,
              "#fdca26"
             ],
             [
              1,
              "#f0f921"
             ]
            ],
            "type": "histogram2d"
           }
          ],
          "histogram2dcontour": [
           {
            "colorbar": {
             "outlinewidth": 0,
             "ticks": ""
            },
            "colorscale": [
             [
              0,
              "#0d0887"
             ],
             [
              0.1111111111111111,
              "#46039f"
             ],
             [
              0.2222222222222222,
              "#7201a8"
             ],
             [
              0.3333333333333333,
              "#9c179e"
             ],
             [
              0.4444444444444444,
              "#bd3786"
             ],
             [
              0.5555555555555556,
              "#d8576b"
             ],
             [
              0.6666666666666666,
              "#ed7953"
             ],
             [
              0.7777777777777778,
              "#fb9f3a"
             ],
             [
              0.8888888888888888,
              "#fdca26"
             ],
             [
              1,
              "#f0f921"
             ]
            ],
            "type": "histogram2dcontour"
           }
          ],
          "mesh3d": [
           {
            "colorbar": {
             "outlinewidth": 0,
             "ticks": ""
            },
            "type": "mesh3d"
           }
          ],
          "parcoords": [
           {
            "line": {
             "colorbar": {
              "outlinewidth": 0,
              "ticks": ""
             }
            },
            "type": "parcoords"
           }
          ],
          "pie": [
           {
            "automargin": true,
            "type": "pie"
           }
          ],
          "scatter": [
           {
            "fillpattern": {
             "fillmode": "overlay",
             "size": 10,
             "solidity": 0.2
            },
            "type": "scatter"
           }
          ],
          "scatter3d": [
           {
            "line": {
             "colorbar": {
              "outlinewidth": 0,
              "ticks": ""
             }
            },
            "marker": {
             "colorbar": {
              "outlinewidth": 0,
              "ticks": ""
             }
            },
            "type": "scatter3d"
           }
          ],
          "scattercarpet": [
           {
            "marker": {
             "colorbar": {
              "outlinewidth": 0,
              "ticks": ""
             }
            },
            "type": "scattercarpet"
           }
          ],
          "scattergeo": [
           {
            "marker": {
             "colorbar": {
              "outlinewidth": 0,
              "ticks": ""
             }
            },
            "type": "scattergeo"
           }
          ],
          "scattergl": [
           {
            "marker": {
             "colorbar": {
              "outlinewidth": 0,
              "ticks": ""
             }
            },
            "type": "scattergl"
           }
          ],
          "scattermapbox": [
           {
            "marker": {
             "colorbar": {
              "outlinewidth": 0,
              "ticks": ""
             }
            },
            "type": "scattermapbox"
           }
          ],
          "scatterpolar": [
           {
            "marker": {
             "colorbar": {
              "outlinewidth": 0,
              "ticks": ""
             }
            },
            "type": "scatterpolar"
           }
          ],
          "scatterpolargl": [
           {
            "marker": {
             "colorbar": {
              "outlinewidth": 0,
              "ticks": ""
             }
            },
            "type": "scatterpolargl"
           }
          ],
          "scatterternary": [
           {
            "marker": {
             "colorbar": {
              "outlinewidth": 0,
              "ticks": ""
             }
            },
            "type": "scatterternary"
           }
          ],
          "surface": [
           {
            "colorbar": {
             "outlinewidth": 0,
             "ticks": ""
            },
            "colorscale": [
             [
              0,
              "#0d0887"
             ],
             [
              0.1111111111111111,
              "#46039f"
             ],
             [
              0.2222222222222222,
              "#7201a8"
             ],
             [
              0.3333333333333333,
              "#9c179e"
             ],
             [
              0.4444444444444444,
              "#bd3786"
             ],
             [
              0.5555555555555556,
              "#d8576b"
             ],
             [
              0.6666666666666666,
              "#ed7953"
             ],
             [
              0.7777777777777778,
              "#fb9f3a"
             ],
             [
              0.8888888888888888,
              "#fdca26"
             ],
             [
              1,
              "#f0f921"
             ]
            ],
            "type": "surface"
           }
          ],
          "table": [
           {
            "cells": {
             "fill": {
              "color": "#EBF0F8"
             },
             "line": {
              "color": "white"
             }
            },
            "header": {
             "fill": {
              "color": "#C8D4E3"
             },
             "line": {
              "color": "white"
             }
            },
            "type": "table"
           }
          ]
         },
         "layout": {
          "annotationdefaults": {
           "arrowcolor": "#2a3f5f",
           "arrowhead": 0,
           "arrowwidth": 1
          },
          "autotypenumbers": "strict",
          "coloraxis": {
           "colorbar": {
            "outlinewidth": 0,
            "ticks": ""
           }
          },
          "colorscale": {
           "diverging": [
            [
             0,
             "#8e0152"
            ],
            [
             0.1,
             "#c51b7d"
            ],
            [
             0.2,
             "#de77ae"
            ],
            [
             0.3,
             "#f1b6da"
            ],
            [
             0.4,
             "#fde0ef"
            ],
            [
             0.5,
             "#f7f7f7"
            ],
            [
             0.6,
             "#e6f5d0"
            ],
            [
             0.7,
             "#b8e186"
            ],
            [
             0.8,
             "#7fbc41"
            ],
            [
             0.9,
             "#4d9221"
            ],
            [
             1,
             "#276419"
            ]
           ],
           "sequential": [
            [
             0,
             "#0d0887"
            ],
            [
             0.1111111111111111,
             "#46039f"
            ],
            [
             0.2222222222222222,
             "#7201a8"
            ],
            [
             0.3333333333333333,
             "#9c179e"
            ],
            [
             0.4444444444444444,
             "#bd3786"
            ],
            [
             0.5555555555555556,
             "#d8576b"
            ],
            [
             0.6666666666666666,
             "#ed7953"
            ],
            [
             0.7777777777777778,
             "#fb9f3a"
            ],
            [
             0.8888888888888888,
             "#fdca26"
            ],
            [
             1,
             "#f0f921"
            ]
           ],
           "sequentialminus": [
            [
             0,
             "#0d0887"
            ],
            [
             0.1111111111111111,
             "#46039f"
            ],
            [
             0.2222222222222222,
             "#7201a8"
            ],
            [
             0.3333333333333333,
             "#9c179e"
            ],
            [
             0.4444444444444444,
             "#bd3786"
            ],
            [
             0.5555555555555556,
             "#d8576b"
            ],
            [
             0.6666666666666666,
             "#ed7953"
            ],
            [
             0.7777777777777778,
             "#fb9f3a"
            ],
            [
             0.8888888888888888,
             "#fdca26"
            ],
            [
             1,
             "#f0f921"
            ]
           ]
          },
          "colorway": [
           "#636efa",
           "#EF553B",
           "#00cc96",
           "#ab63fa",
           "#FFA15A",
           "#19d3f3",
           "#FF6692",
           "#B6E880",
           "#FF97FF",
           "#FECB52"
          ],
          "font": {
           "color": "#2a3f5f"
          },
          "geo": {
           "bgcolor": "white",
           "lakecolor": "white",
           "landcolor": "#E5ECF6",
           "showlakes": true,
           "showland": true,
           "subunitcolor": "white"
          },
          "hoverlabel": {
           "align": "left"
          },
          "hovermode": "closest",
          "mapbox": {
           "style": "light"
          },
          "paper_bgcolor": "white",
          "plot_bgcolor": "#E5ECF6",
          "polar": {
           "angularaxis": {
            "gridcolor": "white",
            "linecolor": "white",
            "ticks": ""
           },
           "bgcolor": "#E5ECF6",
           "radialaxis": {
            "gridcolor": "white",
            "linecolor": "white",
            "ticks": ""
           }
          },
          "scene": {
           "xaxis": {
            "backgroundcolor": "#E5ECF6",
            "gridcolor": "white",
            "gridwidth": 2,
            "linecolor": "white",
            "showbackground": true,
            "ticks": "",
            "zerolinecolor": "white"
           },
           "yaxis": {
            "backgroundcolor": "#E5ECF6",
            "gridcolor": "white",
            "gridwidth": 2,
            "linecolor": "white",
            "showbackground": true,
            "ticks": "",
            "zerolinecolor": "white"
           },
           "zaxis": {
            "backgroundcolor": "#E5ECF6",
            "gridcolor": "white",
            "gridwidth": 2,
            "linecolor": "white",
            "showbackground": true,
            "ticks": "",
            "zerolinecolor": "white"
           }
          },
          "shapedefaults": {
           "line": {
            "color": "#2a3f5f"
           }
          },
          "ternary": {
           "aaxis": {
            "gridcolor": "white",
            "linecolor": "white",
            "ticks": ""
           },
           "baxis": {
            "gridcolor": "white",
            "linecolor": "white",
            "ticks": ""
           },
           "bgcolor": "#E5ECF6",
           "caxis": {
            "gridcolor": "white",
            "linecolor": "white",
            "ticks": ""
           }
          },
          "title": {
           "x": 0.05
          },
          "xaxis": {
           "automargin": true,
           "gridcolor": "white",
           "linecolor": "white",
           "ticks": "",
           "title": {
            "standoff": 15
           },
           "zerolinecolor": "white",
           "zerolinewidth": 2
          },
          "yaxis": {
           "automargin": true,
           "gridcolor": "white",
           "linecolor": "white",
           "ticks": "",
           "title": {
            "standoff": 15
           },
           "zerolinecolor": "white",
           "zerolinewidth": 2
          }
         }
        },
        "title": {
         "text": "Time vs MPI processes - Algo 1 vs Algo 2<br><sup>3 THIN nodes - matrix size: 10k - random grid, glider grid</sup>",
         "x": 0,
         "xref": "paper"
        },
        "xaxis": {
         "dtick": "12",
         "tick0": "0",
         "tickmode": "linear",
         "title": {
          "text": "MPI Process<br><sup>1 thread per MPI process</sup>"
         }
        },
        "yaxis": {
         "title": {
          "text": "time(s)"
         }
        }
       }
      }
     },
     "metadata": {},
     "output_type": "display_data"
    }
   ],
   "source": [
    "fig = go.Figure()\n",
    "\n",
    "fig.add_trace(go.Scatter(x=mpi_algo1_static_random_grid_avg[\"size\"][\"mean\"], y=mpi_algo1_static_random_grid_avg[\"time\"][\"mean\"], name='A1 - random',\n",
    "                         error_y=dict(\n",
    "                             type=\"data\",\n",
    "                             array=mpi_algo1_static_random_grid_avg[\"time\"][\"std\"],\n",
    "                             visible=True)))\n",
    "fig.add_trace(go.Scatter(x=mpi_algo1_static_glider_grid_avg[\"size\"][\"mean\"], y=mpi_algo1_static_glider_grid_avg[\"time\"][\"mean\"], name='A1 - glider',\n",
    "                         error_y=dict(\n",
    "                             type=\"data\",\n",
    "                             array=mpi_algo1_static_glider_grid_avg[\"time\"][\"std\"],\n",
    "                             visible=True)))\n",
    "fig.add_trace(go.Scatter(x=mpi_algo2_static_random_grid_avg[\"size\"][\"mean\"], y=mpi_algo2_static_random_grid_avg[\"time\"][\"mean\"], name='A2 - random',\n",
    "                         error_y=dict(\n",
    "                             type=\"data\",\n",
    "                             array=mpi_algo2_static_random_grid_avg[\"time\"][\"std\"],\n",
    "                             visible=True)))\n",
    "fig.add_trace(go.Scatter(x=mpi_algo2_static_glider_grid_avg[\"size\"][\"mean\"], y=mpi_algo2_static_glider_grid_avg[\"time\"][\"mean\"], name='A2 - glider',\n",
    "                         error_y=dict(\n",
    "                             type=\"data\",\n",
    "                             array=mpi_algo2_static_glider_grid_avg[\"time\"][\"std\"],\n",
    "                             visible=True)))\n",
    "fig.update_layout(\n",
    "    title=go.layout.Title(\n",
    "        text=\"Time vs MPI processes - Algo 1 vs Algo 2<br><sup>3 THIN nodes - matrix size: 10k - random grid, glider grid</sup>\",\n",
    "        xref=\"paper\",\n",
    "        x=0,\n",
    "    ),\n",
    "    xaxis_title=\"MPI Process<br><sup>1 thread per MPI process</sup>\",\n",
    "    xaxis = dict(\n",
    "        tickmode = 'linear',\n",
    "        tick0 = '0',\n",
    "        dtick = '12'\n",
    "    ),\n",
    "    yaxis_title=\"time(s)\",\n",
    "    legend_title=\"Algorithm - Grid Type\",\n",
    "    showlegend=True,\n",
    "    font=dict(\n",
    "        family=\"Courier New, monospace\",\n",
    "        size=18,\n",
    "    ),\n",
    "    colorway=[\"#b2df8a\", \"#33a02c\", \"#a6cee3\", \"#1f78b4\"],\n",
    "\n",
    ")\n",
    "fig.show()\n",
    "fig.write_image(\"/home/andres/hpc/Foundations_of_HPC_2022/Assignment/my_assignment/report/images/a1_v_a2_static_grid_010k.pdf\", height=500, width=1000)"
   ]
  },
  {
   "cell_type": "code",
   "execution_count": 10,
   "metadata": {},
   "outputs": [
    {
     "data": {
      "application/vnd.plotly.v1+json": {
       "config": {
        "plotlyServerURL": "https://plot.ly"
       },
       "data": [
        {
         "error_y": {
          "array": [
           0.0005723103989720849,
           1.1004414645737342,
           1.274873095785656,
           1.3153334726182773,
           1.3359746085992739,
           1.3510918332388093,
           0.019972028531644016
          ],
          "type": "data",
          "visible": true
         },
         "name": "A1 - random",
         "type": "scatter",
         "x": [
          12,
          16.8,
          28.8,
          40.8,
          52.8,
          64.8,
          72
         ],
         "y": [
          2.7679599478107533,
          3.4522715503095855,
          6.33917378831208,
          9.188319889511865,
          11.972732537382859,
          14.745717807994502,
          16.499619415460927
         ]
        },
        {
         "error_y": {
          "array": [
           0.0005382777518362436,
           1.0978965529221536,
           1.2856769907591834,
           1.3078910451495678,
           1.3288247585331736,
           1.3193270375926427,
           0.028260693444234534
          ],
          "type": "data",
          "visible": true
         },
         "name": "A1 - glider",
         "type": "scatter",
         "x": [
          12,
          16.8,
          28.8,
          40.8,
          52.8,
          64.8,
          72
         ],
         "y": [
          2.768369338670029,
          3.4503194689956858,
          6.30756845294324,
          9.190910961302775,
          11.968278528010801,
          14.705575669364377,
          16.445830799654143
         ]
        },
        {
         "error_y": {
          "array": [
           0.00606300392777329,
           0.8321734455572123,
           0.947204026227335,
           0.988708536019761,
           1.0252601523092613,
           1.0407039311566153,
           0.07448979155089938
          ],
          "type": "data",
          "visible": true
         },
         "name": "A2 - random",
         "type": "scatter",
         "x": [
          12,
          16.8,
          28.8,
          40.8,
          52.8,
          64.8,
          72
         ],
         "y": [
          2.1150738371889726,
          2.6350608335354564,
          4.800759001101607,
          6.904770857861679,
          9.043323644124026,
          11.091685490337468,
          12.517104448803817
         ]
        },
        {
         "error_y": {
          "array": [
           0.04039232559408669,
           3.9635767674038997,
           4.913294532657246,
           5.404630075940511,
           4.314406595648662,
           5.408980666836948,
           2.359774229316322
          ],
          "type": "data",
          "visible": true
         },
         "name": "A2 - glider",
         "type": "scatter",
         "x": [
          12,
          16.8,
          28.8,
          40.8,
          52.8,
          64.8,
          72
         ],
         "y": [
          12.098261324517095,
          14.615335005584486,
          24.597393118423483,
          35.7136831896112,
          46.011492944574854,
          55.03085086990189,
          59.48403856270235
         ]
        },
        {
         "name": "expected speedup",
         "type": "scatter",
         "x": [
          12,
          16.8,
          28.8,
          40.8,
          52.8,
          64.8,
          72
         ],
         "y": [
          12,
          16.8,
          28.8,
          40.8,
          52.8,
          64.8,
          72
         ]
        }
       ],
       "layout": {
        "autosize": false,
        "colorway": [
         "#b2df8a",
         "#33a02c",
         "#a6cee3",
         "#1f78b4",
         "#7570b3"
        ],
        "font": {
         "family": "Courier New, monospace",
         "size": 18
        },
        "height": 800,
        "legend": {
         "title": {
          "text": "Algorithm - Grid Type"
         }
        },
        "showlegend": true,
        "template": {
         "data": {
          "bar": [
           {
            "error_x": {
             "color": "#2a3f5f"
            },
            "error_y": {
             "color": "#2a3f5f"
            },
            "marker": {
             "line": {
              "color": "#E5ECF6",
              "width": 0.5
             },
             "pattern": {
              "fillmode": "overlay",
              "size": 10,
              "solidity": 0.2
             }
            },
            "type": "bar"
           }
          ],
          "barpolar": [
           {
            "marker": {
             "line": {
              "color": "#E5ECF6",
              "width": 0.5
             },
             "pattern": {
              "fillmode": "overlay",
              "size": 10,
              "solidity": 0.2
             }
            },
            "type": "barpolar"
           }
          ],
          "carpet": [
           {
            "aaxis": {
             "endlinecolor": "#2a3f5f",
             "gridcolor": "white",
             "linecolor": "white",
             "minorgridcolor": "white",
             "startlinecolor": "#2a3f5f"
            },
            "baxis": {
             "endlinecolor": "#2a3f5f",
             "gridcolor": "white",
             "linecolor": "white",
             "minorgridcolor": "white",
             "startlinecolor": "#2a3f5f"
            },
            "type": "carpet"
           }
          ],
          "choropleth": [
           {
            "colorbar": {
             "outlinewidth": 0,
             "ticks": ""
            },
            "type": "choropleth"
           }
          ],
          "contour": [
           {
            "colorbar": {
             "outlinewidth": 0,
             "ticks": ""
            },
            "colorscale": [
             [
              0,
              "#0d0887"
             ],
             [
              0.1111111111111111,
              "#46039f"
             ],
             [
              0.2222222222222222,
              "#7201a8"
             ],
             [
              0.3333333333333333,
              "#9c179e"
             ],
             [
              0.4444444444444444,
              "#bd3786"
             ],
             [
              0.5555555555555556,
              "#d8576b"
             ],
             [
              0.6666666666666666,
              "#ed7953"
             ],
             [
              0.7777777777777778,
              "#fb9f3a"
             ],
             [
              0.8888888888888888,
              "#fdca26"
             ],
             [
              1,
              "#f0f921"
             ]
            ],
            "type": "contour"
           }
          ],
          "contourcarpet": [
           {
            "colorbar": {
             "outlinewidth": 0,
             "ticks": ""
            },
            "type": "contourcarpet"
           }
          ],
          "heatmap": [
           {
            "colorbar": {
             "outlinewidth": 0,
             "ticks": ""
            },
            "colorscale": [
             [
              0,
              "#0d0887"
             ],
             [
              0.1111111111111111,
              "#46039f"
             ],
             [
              0.2222222222222222,
              "#7201a8"
             ],
             [
              0.3333333333333333,
              "#9c179e"
             ],
             [
              0.4444444444444444,
              "#bd3786"
             ],
             [
              0.5555555555555556,
              "#d8576b"
             ],
             [
              0.6666666666666666,
              "#ed7953"
             ],
             [
              0.7777777777777778,
              "#fb9f3a"
             ],
             [
              0.8888888888888888,
              "#fdca26"
             ],
             [
              1,
              "#f0f921"
             ]
            ],
            "type": "heatmap"
           }
          ],
          "heatmapgl": [
           {
            "colorbar": {
             "outlinewidth": 0,
             "ticks": ""
            },
            "colorscale": [
             [
              0,
              "#0d0887"
             ],
             [
              0.1111111111111111,
              "#46039f"
             ],
             [
              0.2222222222222222,
              "#7201a8"
             ],
             [
              0.3333333333333333,
              "#9c179e"
             ],
             [
              0.4444444444444444,
              "#bd3786"
             ],
             [
              0.5555555555555556,
              "#d8576b"
             ],
             [
              0.6666666666666666,
              "#ed7953"
             ],
             [
              0.7777777777777778,
              "#fb9f3a"
             ],
             [
              0.8888888888888888,
              "#fdca26"
             ],
             [
              1,
              "#f0f921"
             ]
            ],
            "type": "heatmapgl"
           }
          ],
          "histogram": [
           {
            "marker": {
             "pattern": {
              "fillmode": "overlay",
              "size": 10,
              "solidity": 0.2
             }
            },
            "type": "histogram"
           }
          ],
          "histogram2d": [
           {
            "colorbar": {
             "outlinewidth": 0,
             "ticks": ""
            },
            "colorscale": [
             [
              0,
              "#0d0887"
             ],
             [
              0.1111111111111111,
              "#46039f"
             ],
             [
              0.2222222222222222,
              "#7201a8"
             ],
             [
              0.3333333333333333,
              "#9c179e"
             ],
             [
              0.4444444444444444,
              "#bd3786"
             ],
             [
              0.5555555555555556,
              "#d8576b"
             ],
             [
              0.6666666666666666,
              "#ed7953"
             ],
             [
              0.7777777777777778,
              "#fb9f3a"
             ],
             [
              0.8888888888888888,
              "#fdca26"
             ],
             [
              1,
              "#f0f921"
             ]
            ],
            "type": "histogram2d"
           }
          ],
          "histogram2dcontour": [
           {
            "colorbar": {
             "outlinewidth": 0,
             "ticks": ""
            },
            "colorscale": [
             [
              0,
              "#0d0887"
             ],
             [
              0.1111111111111111,
              "#46039f"
             ],
             [
              0.2222222222222222,
              "#7201a8"
             ],
             [
              0.3333333333333333,
              "#9c179e"
             ],
             [
              0.4444444444444444,
              "#bd3786"
             ],
             [
              0.5555555555555556,
              "#d8576b"
             ],
             [
              0.6666666666666666,
              "#ed7953"
             ],
             [
              0.7777777777777778,
              "#fb9f3a"
             ],
             [
              0.8888888888888888,
              "#fdca26"
             ],
             [
              1,
              "#f0f921"
             ]
            ],
            "type": "histogram2dcontour"
           }
          ],
          "mesh3d": [
           {
            "colorbar": {
             "outlinewidth": 0,
             "ticks": ""
            },
            "type": "mesh3d"
           }
          ],
          "parcoords": [
           {
            "line": {
             "colorbar": {
              "outlinewidth": 0,
              "ticks": ""
             }
            },
            "type": "parcoords"
           }
          ],
          "pie": [
           {
            "automargin": true,
            "type": "pie"
           }
          ],
          "scatter": [
           {
            "fillpattern": {
             "fillmode": "overlay",
             "size": 10,
             "solidity": 0.2
            },
            "type": "scatter"
           }
          ],
          "scatter3d": [
           {
            "line": {
             "colorbar": {
              "outlinewidth": 0,
              "ticks": ""
             }
            },
            "marker": {
             "colorbar": {
              "outlinewidth": 0,
              "ticks": ""
             }
            },
            "type": "scatter3d"
           }
          ],
          "scattercarpet": [
           {
            "marker": {
             "colorbar": {
              "outlinewidth": 0,
              "ticks": ""
             }
            },
            "type": "scattercarpet"
           }
          ],
          "scattergeo": [
           {
            "marker": {
             "colorbar": {
              "outlinewidth": 0,
              "ticks": ""
             }
            },
            "type": "scattergeo"
           }
          ],
          "scattergl": [
           {
            "marker": {
             "colorbar": {
              "outlinewidth": 0,
              "ticks": ""
             }
            },
            "type": "scattergl"
           }
          ],
          "scattermapbox": [
           {
            "marker": {
             "colorbar": {
              "outlinewidth": 0,
              "ticks": ""
             }
            },
            "type": "scattermapbox"
           }
          ],
          "scatterpolar": [
           {
            "marker": {
             "colorbar": {
              "outlinewidth": 0,
              "ticks": ""
             }
            },
            "type": "scatterpolar"
           }
          ],
          "scatterpolargl": [
           {
            "marker": {
             "colorbar": {
              "outlinewidth": 0,
              "ticks": ""
             }
            },
            "type": "scatterpolargl"
           }
          ],
          "scatterternary": [
           {
            "marker": {
             "colorbar": {
              "outlinewidth": 0,
              "ticks": ""
             }
            },
            "type": "scatterternary"
           }
          ],
          "surface": [
           {
            "colorbar": {
             "outlinewidth": 0,
             "ticks": ""
            },
            "colorscale": [
             [
              0,
              "#0d0887"
             ],
             [
              0.1111111111111111,
              "#46039f"
             ],
             [
              0.2222222222222222,
              "#7201a8"
             ],
             [
              0.3333333333333333,
              "#9c179e"
             ],
             [
              0.4444444444444444,
              "#bd3786"
             ],
             [
              0.5555555555555556,
              "#d8576b"
             ],
             [
              0.6666666666666666,
              "#ed7953"
             ],
             [
              0.7777777777777778,
              "#fb9f3a"
             ],
             [
              0.8888888888888888,
              "#fdca26"
             ],
             [
              1,
              "#f0f921"
             ]
            ],
            "type": "surface"
           }
          ],
          "table": [
           {
            "cells": {
             "fill": {
              "color": "#EBF0F8"
             },
             "line": {
              "color": "white"
             }
            },
            "header": {
             "fill": {
              "color": "#C8D4E3"
             },
             "line": {
              "color": "white"
             }
            },
            "type": "table"
           }
          ]
         },
         "layout": {
          "annotationdefaults": {
           "arrowcolor": "#2a3f5f",
           "arrowhead": 0,
           "arrowwidth": 1
          },
          "autotypenumbers": "strict",
          "coloraxis": {
           "colorbar": {
            "outlinewidth": 0,
            "ticks": ""
           }
          },
          "colorscale": {
           "diverging": [
            [
             0,
             "#8e0152"
            ],
            [
             0.1,
             "#c51b7d"
            ],
            [
             0.2,
             "#de77ae"
            ],
            [
             0.3,
             "#f1b6da"
            ],
            [
             0.4,
             "#fde0ef"
            ],
            [
             0.5,
             "#f7f7f7"
            ],
            [
             0.6,
             "#e6f5d0"
            ],
            [
             0.7,
             "#b8e186"
            ],
            [
             0.8,
             "#7fbc41"
            ],
            [
             0.9,
             "#4d9221"
            ],
            [
             1,
             "#276419"
            ]
           ],
           "sequential": [
            [
             0,
             "#0d0887"
            ],
            [
             0.1111111111111111,
             "#46039f"
            ],
            [
             0.2222222222222222,
             "#7201a8"
            ],
            [
             0.3333333333333333,
             "#9c179e"
            ],
            [
             0.4444444444444444,
             "#bd3786"
            ],
            [
             0.5555555555555556,
             "#d8576b"
            ],
            [
             0.6666666666666666,
             "#ed7953"
            ],
            [
             0.7777777777777778,
             "#fb9f3a"
            ],
            [
             0.8888888888888888,
             "#fdca26"
            ],
            [
             1,
             "#f0f921"
            ]
           ],
           "sequentialminus": [
            [
             0,
             "#0d0887"
            ],
            [
             0.1111111111111111,
             "#46039f"
            ],
            [
             0.2222222222222222,
             "#7201a8"
            ],
            [
             0.3333333333333333,
             "#9c179e"
            ],
            [
             0.4444444444444444,
             "#bd3786"
            ],
            [
             0.5555555555555556,
             "#d8576b"
            ],
            [
             0.6666666666666666,
             "#ed7953"
            ],
            [
             0.7777777777777778,
             "#fb9f3a"
            ],
            [
             0.8888888888888888,
             "#fdca26"
            ],
            [
             1,
             "#f0f921"
            ]
           ]
          },
          "colorway": [
           "#636efa",
           "#EF553B",
           "#00cc96",
           "#ab63fa",
           "#FFA15A",
           "#19d3f3",
           "#FF6692",
           "#B6E880",
           "#FF97FF",
           "#FECB52"
          ],
          "font": {
           "color": "#2a3f5f"
          },
          "geo": {
           "bgcolor": "white",
           "lakecolor": "white",
           "landcolor": "#E5ECF6",
           "showlakes": true,
           "showland": true,
           "subunitcolor": "white"
          },
          "hoverlabel": {
           "align": "left"
          },
          "hovermode": "closest",
          "mapbox": {
           "style": "light"
          },
          "paper_bgcolor": "white",
          "plot_bgcolor": "#E5ECF6",
          "polar": {
           "angularaxis": {
            "gridcolor": "white",
            "linecolor": "white",
            "ticks": ""
           },
           "bgcolor": "#E5ECF6",
           "radialaxis": {
            "gridcolor": "white",
            "linecolor": "white",
            "ticks": ""
           }
          },
          "scene": {
           "xaxis": {
            "backgroundcolor": "#E5ECF6",
            "gridcolor": "white",
            "gridwidth": 2,
            "linecolor": "white",
            "showbackground": true,
            "ticks": "",
            "zerolinecolor": "white"
           },
           "yaxis": {
            "backgroundcolor": "#E5ECF6",
            "gridcolor": "white",
            "gridwidth": 2,
            "linecolor": "white",
            "showbackground": true,
            "ticks": "",
            "zerolinecolor": "white"
           },
           "zaxis": {
            "backgroundcolor": "#E5ECF6",
            "gridcolor": "white",
            "gridwidth": 2,
            "linecolor": "white",
            "showbackground": true,
            "ticks": "",
            "zerolinecolor": "white"
           }
          },
          "shapedefaults": {
           "line": {
            "color": "#2a3f5f"
           }
          },
          "ternary": {
           "aaxis": {
            "gridcolor": "white",
            "linecolor": "white",
            "ticks": ""
           },
           "baxis": {
            "gridcolor": "white",
            "linecolor": "white",
            "ticks": ""
           },
           "bgcolor": "#E5ECF6",
           "caxis": {
            "gridcolor": "white",
            "linecolor": "white",
            "ticks": ""
           }
          },
          "title": {
           "x": 0.05
          },
          "xaxis": {
           "automargin": true,
           "gridcolor": "white",
           "linecolor": "white",
           "ticks": "",
           "title": {
            "standoff": 15
           },
           "zerolinecolor": "white",
           "zerolinewidth": 2
          },
          "yaxis": {
           "automargin": true,
           "gridcolor": "white",
           "linecolor": "white",
           "ticks": "",
           "title": {
            "standoff": 15
           },
           "zerolinecolor": "white",
           "zerolinewidth": 2
          }
         }
        },
        "title": {
         "text": "Strong MPI Speedup - Algo 1 vs Algo 2<br><sup>3 THIN nodes - matrix size: 10k - random grid, glider grid</sup>",
         "x": 0,
         "xref": "paper"
        },
        "width": 1000,
        "xaxis": {
         "dtick": "6",
         "tick0": "0",
         "tickmode": "linear",
         "title": {
          "text": "MPI Process<br><sup>1 thread per MPI process</sup>"
         }
        },
        "yaxis": {
         "dtick": "6",
         "tick0": "0",
         "tickmode": "linear",
         "title": {
          "text": "Speedup"
         }
        }
       }
      }
     },
     "metadata": {},
     "output_type": "display_data"
    }
   ],
   "source": [
    "mpi_algo1_static_random_grid_avg['speedup']=mpi_algo2_static_glider_grid_ref/mpi_algo1_static_random_grid_avg[\"time\"][\"mean\"]\n",
    "mpi_algo1_static_random_grid_avg['expected_speedup']=mpi_algo1_static_random_grid_avg['size']['mean']\n",
    "mpi_algo1_static_random_grid_avg['speedup_err']=mpi_algo1_static_random_grid_avg[\"time\"][\"std\"]*mpi_algo2_static_glider_grid_ref/mpi_algo1_static_random_grid_avg[\"time\"][\"mean\"]**2\n",
    "\n",
    "mpi_algo1_static_glider_grid_avg['speedup']=mpi_algo2_static_glider_grid_ref/mpi_algo1_static_glider_grid_avg[\"time\"][\"mean\"]\n",
    "mpi_algo1_static_glider_grid_avg['speedup_err']=mpi_algo1_static_glider_grid_avg[\"time\"][\"std\"]*mpi_algo2_static_glider_grid_ref/mpi_algo1_static_glider_grid_avg[\"time\"][\"mean\"]**2\n",
    "\n",
    "mpi_algo2_static_random_grid_avg['speedup']=mpi_algo2_static_glider_grid_ref/mpi_algo2_static_random_grid_avg[\"time\"][\"mean\"]\n",
    "mpi_algo2_static_random_grid_avg['speedup_err']=mpi_algo2_static_random_grid_avg[\"time\"][\"std\"]*mpi_algo2_static_glider_grid_ref/mpi_algo2_static_random_grid_avg[\"time\"][\"mean\"]**2\n",
    "\n",
    "mpi_algo2_static_glider_grid_avg['speedup']=mpi_algo2_static_glider_grid_ref/mpi_algo2_static_glider_grid_avg[\"time\"][\"mean\"]\n",
    "mpi_algo2_static_glider_grid_avg['speedup_err']=mpi_algo2_static_glider_grid_avg[\"time\"][\"std\"]*mpi_algo2_static_glider_grid_ref/mpi_algo2_static_glider_grid_avg[\"time\"][\"mean\"]**2\n",
    "\n",
    "fig = go.Figure()\n",
    "\n",
    "fig.add_trace(go.Scatter(x=mpi_algo1_static_random_grid_avg[\"size\"][\"mean\"], y=mpi_algo1_static_random_grid_avg[\"speedup\"], name='A1 - random',\n",
    "                         error_y=dict(\n",
    "                             type=\"data\",\n",
    "                             array=mpi_algo1_static_random_grid_avg[\"speedup_err\"],\n",
    "                             visible=True)))\n",
    "fig.add_trace(go.Scatter(x=mpi_algo1_static_glider_grid_avg[\"size\"][\"mean\"], y=mpi_algo1_static_glider_grid_avg[\"speedup\"], name='A1 - glider',\n",
    "                         error_y=dict(\n",
    "                             type=\"data\",\n",
    "                             array=mpi_algo1_static_glider_grid_avg[\"speedup_err\"],\n",
    "                             visible=True)))\n",
    "fig.add_trace(go.Scatter(x=mpi_algo2_static_random_grid_avg[\"size\"][\"mean\"], y=mpi_algo2_static_random_grid_avg[\"speedup\"], name='A2 - random',\n",
    "                         error_y=dict(\n",
    "                             type=\"data\",\n",
    "                             array=mpi_algo2_static_random_grid_avg[\"speedup_err\"],\n",
    "                             visible=True)))\n",
    "fig.add_trace(go.Scatter(x=mpi_algo2_static_glider_grid_avg[\"size\"][\"mean\"], y=mpi_algo2_static_glider_grid_avg[\"speedup\"], name='A2 - glider',\n",
    "                         error_y=dict(\n",
    "                             type=\"data\",\n",
    "                             array=mpi_algo2_static_glider_grid_avg[\"speedup_err\"],\n",
    "                             visible=True)))\n",
    "fig.add_trace(go.Scatter(x=mpi_algo2_static_glider_grid_avg[\"size\"][\"mean\"], y=mpi_algo2_static_glider_grid_avg[\"size\"][\"mean\"], name='expected speedup',))\n",
    "fig.update_layout(\n",
    "    title=go.layout.Title(\n",
    "        text=\"Strong MPI Speedup - Algo 1 vs Algo 2<br><sup>3 THIN nodes - matrix size: 10k - random grid, glider grid</sup>\",\n",
    "        xref=\"paper\",\n",
    "        x=0,\n",
    "    ),\n",
    "    xaxis_title=\"MPI Process<br><sup>1 thread per MPI process</sup>\",\n",
    "    xaxis = dict(\n",
    "        tickmode = 'linear',\n",
    "        tick0 = '0',\n",
    "        dtick = '6'\n",
    "    ),\n",
    "    yaxis_title=\"Speedup\",\n",
    "    yaxis = dict(\n",
    "        tickmode = 'linear',\n",
    "        tick0 = '0',\n",
    "        dtick = '6'\n",
    "    ),\n",
    "    legend_title=\"Algorithm - Grid Type\",\n",
    "    showlegend=True,\n",
    "    font=dict(\n",
    "        family=\"Courier New, monospace\",\n",
    "        size=18,\n",
    "    ),\n",
    "    colorway=[\"#b2df8a\", \"#33a02c\", \"#a6cee3\", \"#1f78b4\", \"#7570b3\"],\n",
    "    autosize=False,\n",
    "    width=1000,\n",
    "    height=800,\n",
    ")\n",
    "fig.show()\n",
    "fig.write_image(\"/home/andres/hpc/Foundations_of_HPC_2022/Assignment/my_assignment/report/images/a1_v_a2_static_grid_010k_speedup2.pdf\", height=500, width=1000)"
   ]
  },
  {
   "cell_type": "code",
   "execution_count": 96,
   "metadata": {},
   "outputs": [],
   "source": [
    "strong_MPI_thin_hybrid_ordered_grid_010k = pd.read_csv(\"./strong_MPI_thin_hybrid_ordered_grid_010k.csv\")\n",
    "strong_MPI_thin_hybrid_ordered_grid_010k = pd.read_csv(\"./strong_MPI_thin_hybrid_ordered_grid_010k.csv\").groupby(strong_MPI_thin_hybrid_ordered_grid_010k.index // 5)\n",
    "strong_MPI_thin_hybrid_ordered_grid_010k_avg = strong_MPI_thin_hybrid_ordered_grid_010k.agg({'size':['mean','std'], 'nthreads_per_process':['mean','std'], 'total_nthreads':['mean','std'], 'time':['mean','std']})\n"
   ]
  },
  {
   "cell_type": "code",
   "execution_count": 97,
   "metadata": {},
   "outputs": [
    {
     "data": {
      "application/vnd.plotly.v1+json": {
       "config": {
        "plotlyServerURL": "https://plot.ly"
       },
       "data": [
        {
         "error_y": {
          "array": [
           0.0035578524702463608,
           0.003230271397267965,
           0.010988999180998531,
           0.010372675474533405,
           0.013889942285695246,
           0.006657263491858542,
           0.012030461990298183
          ],
          "type": "data",
          "visible": true
         },
         "name": "hybrid",
         "type": "scatter",
         "x": [
          1,
          4,
          8,
          12,
          16,
          20,
          24
         ],
         "y": [
          89.6146478,
          88.9921476,
          89.333435,
          89.349978,
          89.36002679999999,
          89.3953088,
          89.4799382
         ]
        }
       ],
       "layout": {
        "colorway": [
         "#762a83"
        ],
        "font": {
         "family": "Courier New, monospace",
         "size": 18
        },
        "legend": {
         "title": {
          "text": "Version"
         }
        },
        "showlegend": true,
        "template": {
         "data": {
          "bar": [
           {
            "error_x": {
             "color": "#2a3f5f"
            },
            "error_y": {
             "color": "#2a3f5f"
            },
            "marker": {
             "line": {
              "color": "#E5ECF6",
              "width": 0.5
             },
             "pattern": {
              "fillmode": "overlay",
              "size": 10,
              "solidity": 0.2
             }
            },
            "type": "bar"
           }
          ],
          "barpolar": [
           {
            "marker": {
             "line": {
              "color": "#E5ECF6",
              "width": 0.5
             },
             "pattern": {
              "fillmode": "overlay",
              "size": 10,
              "solidity": 0.2
             }
            },
            "type": "barpolar"
           }
          ],
          "carpet": [
           {
            "aaxis": {
             "endlinecolor": "#2a3f5f",
             "gridcolor": "white",
             "linecolor": "white",
             "minorgridcolor": "white",
             "startlinecolor": "#2a3f5f"
            },
            "baxis": {
             "endlinecolor": "#2a3f5f",
             "gridcolor": "white",
             "linecolor": "white",
             "minorgridcolor": "white",
             "startlinecolor": "#2a3f5f"
            },
            "type": "carpet"
           }
          ],
          "choropleth": [
           {
            "colorbar": {
             "outlinewidth": 0,
             "ticks": ""
            },
            "type": "choropleth"
           }
          ],
          "contour": [
           {
            "colorbar": {
             "outlinewidth": 0,
             "ticks": ""
            },
            "colorscale": [
             [
              0,
              "#0d0887"
             ],
             [
              0.1111111111111111,
              "#46039f"
             ],
             [
              0.2222222222222222,
              "#7201a8"
             ],
             [
              0.3333333333333333,
              "#9c179e"
             ],
             [
              0.4444444444444444,
              "#bd3786"
             ],
             [
              0.5555555555555556,
              "#d8576b"
             ],
             [
              0.6666666666666666,
              "#ed7953"
             ],
             [
              0.7777777777777778,
              "#fb9f3a"
             ],
             [
              0.8888888888888888,
              "#fdca26"
             ],
             [
              1,
              "#f0f921"
             ]
            ],
            "type": "contour"
           }
          ],
          "contourcarpet": [
           {
            "colorbar": {
             "outlinewidth": 0,
             "ticks": ""
            },
            "type": "contourcarpet"
           }
          ],
          "heatmap": [
           {
            "colorbar": {
             "outlinewidth": 0,
             "ticks": ""
            },
            "colorscale": [
             [
              0,
              "#0d0887"
             ],
             [
              0.1111111111111111,
              "#46039f"
             ],
             [
              0.2222222222222222,
              "#7201a8"
             ],
             [
              0.3333333333333333,
              "#9c179e"
             ],
             [
              0.4444444444444444,
              "#bd3786"
             ],
             [
              0.5555555555555556,
              "#d8576b"
             ],
             [
              0.6666666666666666,
              "#ed7953"
             ],
             [
              0.7777777777777778,
              "#fb9f3a"
             ],
             [
              0.8888888888888888,
              "#fdca26"
             ],
             [
              1,
              "#f0f921"
             ]
            ],
            "type": "heatmap"
           }
          ],
          "heatmapgl": [
           {
            "colorbar": {
             "outlinewidth": 0,
             "ticks": ""
            },
            "colorscale": [
             [
              0,
              "#0d0887"
             ],
             [
              0.1111111111111111,
              "#46039f"
             ],
             [
              0.2222222222222222,
              "#7201a8"
             ],
             [
              0.3333333333333333,
              "#9c179e"
             ],
             [
              0.4444444444444444,
              "#bd3786"
             ],
             [
              0.5555555555555556,
              "#d8576b"
             ],
             [
              0.6666666666666666,
              "#ed7953"
             ],
             [
              0.7777777777777778,
              "#fb9f3a"
             ],
             [
              0.8888888888888888,
              "#fdca26"
             ],
             [
              1,
              "#f0f921"
             ]
            ],
            "type": "heatmapgl"
           }
          ],
          "histogram": [
           {
            "marker": {
             "pattern": {
              "fillmode": "overlay",
              "size": 10,
              "solidity": 0.2
             }
            },
            "type": "histogram"
           }
          ],
          "histogram2d": [
           {
            "colorbar": {
             "outlinewidth": 0,
             "ticks": ""
            },
            "colorscale": [
             [
              0,
              "#0d0887"
             ],
             [
              0.1111111111111111,
              "#46039f"
             ],
             [
              0.2222222222222222,
              "#7201a8"
             ],
             [
              0.3333333333333333,
              "#9c179e"
             ],
             [
              0.4444444444444444,
              "#bd3786"
             ],
             [
              0.5555555555555556,
              "#d8576b"
             ],
             [
              0.6666666666666666,
              "#ed7953"
             ],
             [
              0.7777777777777778,
              "#fb9f3a"
             ],
             [
              0.8888888888888888,
              "#fdca26"
             ],
             [
              1,
              "#f0f921"
             ]
            ],
            "type": "histogram2d"
           }
          ],
          "histogram2dcontour": [
           {
            "colorbar": {
             "outlinewidth": 0,
             "ticks": ""
            },
            "colorscale": [
             [
              0,
              "#0d0887"
             ],
             [
              0.1111111111111111,
              "#46039f"
             ],
             [
              0.2222222222222222,
              "#7201a8"
             ],
             [
              0.3333333333333333,
              "#9c179e"
             ],
             [
              0.4444444444444444,
              "#bd3786"
             ],
             [
              0.5555555555555556,
              "#d8576b"
             ],
             [
              0.6666666666666666,
              "#ed7953"
             ],
             [
              0.7777777777777778,
              "#fb9f3a"
             ],
             [
              0.8888888888888888,
              "#fdca26"
             ],
             [
              1,
              "#f0f921"
             ]
            ],
            "type": "histogram2dcontour"
           }
          ],
          "mesh3d": [
           {
            "colorbar": {
             "outlinewidth": 0,
             "ticks": ""
            },
            "type": "mesh3d"
           }
          ],
          "parcoords": [
           {
            "line": {
             "colorbar": {
              "outlinewidth": 0,
              "ticks": ""
             }
            },
            "type": "parcoords"
           }
          ],
          "pie": [
           {
            "automargin": true,
            "type": "pie"
           }
          ],
          "scatter": [
           {
            "fillpattern": {
             "fillmode": "overlay",
             "size": 10,
             "solidity": 0.2
            },
            "type": "scatter"
           }
          ],
          "scatter3d": [
           {
            "line": {
             "colorbar": {
              "outlinewidth": 0,
              "ticks": ""
             }
            },
            "marker": {
             "colorbar": {
              "outlinewidth": 0,
              "ticks": ""
             }
            },
            "type": "scatter3d"
           }
          ],
          "scattercarpet": [
           {
            "marker": {
             "colorbar": {
              "outlinewidth": 0,
              "ticks": ""
             }
            },
            "type": "scattercarpet"
           }
          ],
          "scattergeo": [
           {
            "marker": {
             "colorbar": {
              "outlinewidth": 0,
              "ticks": ""
             }
            },
            "type": "scattergeo"
           }
          ],
          "scattergl": [
           {
            "marker": {
             "colorbar": {
              "outlinewidth": 0,
              "ticks": ""
             }
            },
            "type": "scattergl"
           }
          ],
          "scattermapbox": [
           {
            "marker": {
             "colorbar": {
              "outlinewidth": 0,
              "ticks": ""
             }
            },
            "type": "scattermapbox"
           }
          ],
          "scatterpolar": [
           {
            "marker": {
             "colorbar": {
              "outlinewidth": 0,
              "ticks": ""
             }
            },
            "type": "scatterpolar"
           }
          ],
          "scatterpolargl": [
           {
            "marker": {
             "colorbar": {
              "outlinewidth": 0,
              "ticks": ""
             }
            },
            "type": "scatterpolargl"
           }
          ],
          "scatterternary": [
           {
            "marker": {
             "colorbar": {
              "outlinewidth": 0,
              "ticks": ""
             }
            },
            "type": "scatterternary"
           }
          ],
          "surface": [
           {
            "colorbar": {
             "outlinewidth": 0,
             "ticks": ""
            },
            "colorscale": [
             [
              0,
              "#0d0887"
             ],
             [
              0.1111111111111111,
              "#46039f"
             ],
             [
              0.2222222222222222,
              "#7201a8"
             ],
             [
              0.3333333333333333,
              "#9c179e"
             ],
             [
              0.4444444444444444,
              "#bd3786"
             ],
             [
              0.5555555555555556,
              "#d8576b"
             ],
             [
              0.6666666666666666,
              "#ed7953"
             ],
             [
              0.7777777777777778,
              "#fb9f3a"
             ],
             [
              0.8888888888888888,
              "#fdca26"
             ],
             [
              1,
              "#f0f921"
             ]
            ],
            "type": "surface"
           }
          ],
          "table": [
           {
            "cells": {
             "fill": {
              "color": "#EBF0F8"
             },
             "line": {
              "color": "white"
             }
            },
            "header": {
             "fill": {
              "color": "#C8D4E3"
             },
             "line": {
              "color": "white"
             }
            },
            "type": "table"
           }
          ]
         },
         "layout": {
          "annotationdefaults": {
           "arrowcolor": "#2a3f5f",
           "arrowhead": 0,
           "arrowwidth": 1
          },
          "autotypenumbers": "strict",
          "coloraxis": {
           "colorbar": {
            "outlinewidth": 0,
            "ticks": ""
           }
          },
          "colorscale": {
           "diverging": [
            [
             0,
             "#8e0152"
            ],
            [
             0.1,
             "#c51b7d"
            ],
            [
             0.2,
             "#de77ae"
            ],
            [
             0.3,
             "#f1b6da"
            ],
            [
             0.4,
             "#fde0ef"
            ],
            [
             0.5,
             "#f7f7f7"
            ],
            [
             0.6,
             "#e6f5d0"
            ],
            [
             0.7,
             "#b8e186"
            ],
            [
             0.8,
             "#7fbc41"
            ],
            [
             0.9,
             "#4d9221"
            ],
            [
             1,
             "#276419"
            ]
           ],
           "sequential": [
            [
             0,
             "#0d0887"
            ],
            [
             0.1111111111111111,
             "#46039f"
            ],
            [
             0.2222222222222222,
             "#7201a8"
            ],
            [
             0.3333333333333333,
             "#9c179e"
            ],
            [
             0.4444444444444444,
             "#bd3786"
            ],
            [
             0.5555555555555556,
             "#d8576b"
            ],
            [
             0.6666666666666666,
             "#ed7953"
            ],
            [
             0.7777777777777778,
             "#fb9f3a"
            ],
            [
             0.8888888888888888,
             "#fdca26"
            ],
            [
             1,
             "#f0f921"
            ]
           ],
           "sequentialminus": [
            [
             0,
             "#0d0887"
            ],
            [
             0.1111111111111111,
             "#46039f"
            ],
            [
             0.2222222222222222,
             "#7201a8"
            ],
            [
             0.3333333333333333,
             "#9c179e"
            ],
            [
             0.4444444444444444,
             "#bd3786"
            ],
            [
             0.5555555555555556,
             "#d8576b"
            ],
            [
             0.6666666666666666,
             "#ed7953"
            ],
            [
             0.7777777777777778,
             "#fb9f3a"
            ],
            [
             0.8888888888888888,
             "#fdca26"
            ],
            [
             1,
             "#f0f921"
            ]
           ]
          },
          "colorway": [
           "#636efa",
           "#EF553B",
           "#00cc96",
           "#ab63fa",
           "#FFA15A",
           "#19d3f3",
           "#FF6692",
           "#B6E880",
           "#FF97FF",
           "#FECB52"
          ],
          "font": {
           "color": "#2a3f5f"
          },
          "geo": {
           "bgcolor": "white",
           "lakecolor": "white",
           "landcolor": "#E5ECF6",
           "showlakes": true,
           "showland": true,
           "subunitcolor": "white"
          },
          "hoverlabel": {
           "align": "left"
          },
          "hovermode": "closest",
          "mapbox": {
           "style": "light"
          },
          "paper_bgcolor": "white",
          "plot_bgcolor": "#E5ECF6",
          "polar": {
           "angularaxis": {
            "gridcolor": "white",
            "linecolor": "white",
            "ticks": ""
           },
           "bgcolor": "#E5ECF6",
           "radialaxis": {
            "gridcolor": "white",
            "linecolor": "white",
            "ticks": ""
           }
          },
          "scene": {
           "xaxis": {
            "backgroundcolor": "#E5ECF6",
            "gridcolor": "white",
            "gridwidth": 2,
            "linecolor": "white",
            "showbackground": true,
            "ticks": "",
            "zerolinecolor": "white"
           },
           "yaxis": {
            "backgroundcolor": "#E5ECF6",
            "gridcolor": "white",
            "gridwidth": 2,
            "linecolor": "white",
            "showbackground": true,
            "ticks": "",
            "zerolinecolor": "white"
           },
           "zaxis": {
            "backgroundcolor": "#E5ECF6",
            "gridcolor": "white",
            "gridwidth": 2,
            "linecolor": "white",
            "showbackground": true,
            "ticks": "",
            "zerolinecolor": "white"
           }
          },
          "shapedefaults": {
           "line": {
            "color": "#2a3f5f"
           }
          },
          "ternary": {
           "aaxis": {
            "gridcolor": "white",
            "linecolor": "white",
            "ticks": ""
           },
           "baxis": {
            "gridcolor": "white",
            "linecolor": "white",
            "ticks": ""
           },
           "bgcolor": "#E5ECF6",
           "caxis": {
            "gridcolor": "white",
            "linecolor": "white",
            "ticks": ""
           }
          },
          "title": {
           "x": 0.05
          },
          "xaxis": {
           "automargin": true,
           "gridcolor": "white",
           "linecolor": "white",
           "ticks": "",
           "title": {
            "standoff": 15
           },
           "zerolinecolor": "white",
           "zerolinewidth": 2
          },
          "yaxis": {
           "automargin": true,
           "gridcolor": "white",
           "linecolor": "white",
           "ticks": "",
           "title": {
            "standoff": 15
           },
           "zerolinecolor": "white",
           "zerolinewidth": 2
          }
         }
        },
        "title": {
         "text": "Time vs MPI Tasks - Ordered evolution<br><sup>THIN node - matrix size: 10k</sup>",
         "x": 0,
         "xref": "paper"
        },
        "xaxis": {
         "dtick": "2",
         "tick0": "0",
         "tickmode": "linear",
         "title": {
          "text": "MPI process<br><sup>1 thread per MPI process</sup>"
         }
        },
        "yaxis": {
         "title": {
          "text": "time(s)"
         }
        }
       }
      }
     },
     "metadata": {},
     "output_type": "display_data"
    }
   ],
   "source": [
    "fig = go.Figure()\n",
    "\n",
    "fig.add_trace(go.Scatter(x=strong_MPI_thin_hybrid_ordered_grid_010k_avg[\"size\"][\"mean\"], y=strong_MPI_thin_hybrid_ordered_grid_010k_avg[\"time\"][\"mean\"], name='hybrid',\n",
    "                         error_y=dict(\n",
    "                             type=\"data\",\n",
    "                             array=strong_MPI_thin_hybrid_ordered_grid_010k_avg[\"time\"][\"std\"],\n",
    "                             visible=True)))\n",
    "fig.update_layout(\n",
    "    title=go.layout.Title(\n",
    "        text=\"Time vs MPI Tasks - Ordered evolution<br><sup>THIN node - matrix size: 10k</sup>\",\n",
    "        xref=\"paper\",\n",
    "        x=0,\n",
    "    ),\n",
    "    xaxis_title=\"MPI process<br><sup>1 thread per MPI process</sup>\",\n",
    "    xaxis = dict(\n",
    "        tickmode = 'linear',\n",
    "        tick0 = '0',\n",
    "        dtick = '2'\n",
    "    ),\n",
    "    yaxis_title=\"time(s)\",\n",
    "    legend_title=\"Version\",\n",
    "    showlegend=True,\n",
    "    font=dict(\n",
    "        family=\"Courier New, monospace\",\n",
    "        size=18,\n",
    "    ),\n",
    "    colorway=[\"#762a83\"]\n",
    ")\n",
    "fig.show()\n",
    "fig.write_image(\"/home/andres/hpc/Foundations_of_HPC_2022/Assignment/my_assignment/report/images/strong_MPI_ordered.pdf\", height=500, width=1000)"
   ]
  }
 ],
 "metadata": {
  "kernelspec": {
   "display_name": "usf",
   "language": "python",
   "name": "python3"
  },
  "language_info": {
   "codemirror_mode": {
    "name": "ipython",
    "version": 3
   },
   "file_extension": ".py",
   "mimetype": "text/x-python",
   "name": "python",
   "nbconvert_exporter": "python",
   "pygments_lexer": "ipython3",
   "version": "3.11.3"
  },
  "orig_nbformat": 4
 },
 "nbformat": 4,
 "nbformat_minor": 2
}
